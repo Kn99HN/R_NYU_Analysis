{
 "cells": [
  {
   "cell_type": "code",
   "execution_count": 330,
   "metadata": {},
   "outputs": [
    {
     "name": "stdout",
     "output_type": "stream",
     "text": [
      "Requirement already satisfied: nltk in /Users/khanhnguyen/opt/anaconda3/lib/python3.7/site-packages (3.4.5)\n",
      "Requirement already satisfied: six in /Users/khanhnguyen/opt/anaconda3/lib/python3.7/site-packages (from nltk) (1.12.0)\n",
      "Requirement already satisfied: plotly in /Users/khanhnguyen/opt/anaconda3/lib/python3.7/site-packages (4.2.1)\n",
      "Requirement already satisfied: six in /Users/khanhnguyen/opt/anaconda3/lib/python3.7/site-packages (from plotly) (1.12.0)\n",
      "Requirement already satisfied: retrying>=1.3.3 in /Users/khanhnguyen/opt/anaconda3/lib/python3.7/site-packages (from plotly) (1.3.3)\n",
      "Requirement already satisfied: ipywidgets in /Users/khanhnguyen/opt/anaconda3/lib/python3.7/site-packages (7.5.1)\n",
      "Requirement already satisfied: ipython>=4.0.0; python_version >= \"3.3\" in /Users/khanhnguyen/opt/anaconda3/lib/python3.7/site-packages (from ipywidgets) (7.9.0)\n",
      "Requirement already satisfied: ipykernel>=4.5.1 in /Users/khanhnguyen/opt/anaconda3/lib/python3.7/site-packages (from ipywidgets) (5.1.3)\n",
      "Requirement already satisfied: widgetsnbextension~=3.5.0 in /Users/khanhnguyen/opt/anaconda3/lib/python3.7/site-packages (from ipywidgets) (3.5.1)\n",
      "Requirement already satisfied: traitlets>=4.3.1 in /Users/khanhnguyen/opt/anaconda3/lib/python3.7/site-packages (from ipywidgets) (4.3.3)\n",
      "Requirement already satisfied: nbformat>=4.2.0 in /Users/khanhnguyen/opt/anaconda3/lib/python3.7/site-packages (from ipywidgets) (4.4.0)\n",
      "Requirement already satisfied: setuptools>=18.5 in /Users/khanhnguyen/opt/anaconda3/lib/python3.7/site-packages (from ipython>=4.0.0; python_version >= \"3.3\"->ipywidgets) (41.6.0.post20191030)\n",
      "Requirement already satisfied: pygments in /Users/khanhnguyen/opt/anaconda3/lib/python3.7/site-packages (from ipython>=4.0.0; python_version >= \"3.3\"->ipywidgets) (2.4.2)\n",
      "Requirement already satisfied: jedi>=0.10 in /Users/khanhnguyen/opt/anaconda3/lib/python3.7/site-packages (from ipython>=4.0.0; python_version >= \"3.3\"->ipywidgets) (0.15.1)\n",
      "Requirement already satisfied: decorator in /Users/khanhnguyen/opt/anaconda3/lib/python3.7/site-packages (from ipython>=4.0.0; python_version >= \"3.3\"->ipywidgets) (4.4.1)\n",
      "Requirement already satisfied: backcall in /Users/khanhnguyen/opt/anaconda3/lib/python3.7/site-packages (from ipython>=4.0.0; python_version >= \"3.3\"->ipywidgets) (0.1.0)\n",
      "Requirement already satisfied: pickleshare in /Users/khanhnguyen/opt/anaconda3/lib/python3.7/site-packages (from ipython>=4.0.0; python_version >= \"3.3\"->ipywidgets) (0.7.5)\n",
      "Requirement already satisfied: appnope; sys_platform == \"darwin\" in /Users/khanhnguyen/opt/anaconda3/lib/python3.7/site-packages (from ipython>=4.0.0; python_version >= \"3.3\"->ipywidgets) (0.1.0)\n",
      "Requirement already satisfied: pexpect; sys_platform != \"win32\" in /Users/khanhnguyen/opt/anaconda3/lib/python3.7/site-packages (from ipython>=4.0.0; python_version >= \"3.3\"->ipywidgets) (4.7.0)\n",
      "Requirement already satisfied: prompt-toolkit<2.1.0,>=2.0.0 in /Users/khanhnguyen/opt/anaconda3/lib/python3.7/site-packages (from ipython>=4.0.0; python_version >= \"3.3\"->ipywidgets) (2.0.10)\n",
      "Requirement already satisfied: tornado>=4.2 in /Users/khanhnguyen/opt/anaconda3/lib/python3.7/site-packages (from ipykernel>=4.5.1->ipywidgets) (6.0.3)\n",
      "Requirement already satisfied: jupyter-client in /Users/khanhnguyen/opt/anaconda3/lib/python3.7/site-packages (from ipykernel>=4.5.1->ipywidgets) (5.3.4)\n",
      "Requirement already satisfied: notebook>=4.4.1 in /Users/khanhnguyen/opt/anaconda3/lib/python3.7/site-packages (from widgetsnbextension~=3.5.0->ipywidgets) (6.0.1)\n",
      "Requirement already satisfied: ipython-genutils in /Users/khanhnguyen/opt/anaconda3/lib/python3.7/site-packages (from traitlets>=4.3.1->ipywidgets) (0.2.0)\n",
      "Requirement already satisfied: six in /Users/khanhnguyen/opt/anaconda3/lib/python3.7/site-packages (from traitlets>=4.3.1->ipywidgets) (1.12.0)\n",
      "Requirement already satisfied: jupyter-core in /Users/khanhnguyen/opt/anaconda3/lib/python3.7/site-packages (from nbformat>=4.2.0->ipywidgets) (4.6.0)\n",
      "Requirement already satisfied: jsonschema!=2.5.0,>=2.4 in /Users/khanhnguyen/opt/anaconda3/lib/python3.7/site-packages (from nbformat>=4.2.0->ipywidgets) (3.1.1)\n",
      "Requirement already satisfied: parso>=0.5.0 in /Users/khanhnguyen/opt/anaconda3/lib/python3.7/site-packages (from jedi>=0.10->ipython>=4.0.0; python_version >= \"3.3\"->ipywidgets) (0.5.1)\n",
      "Requirement already satisfied: ptyprocess>=0.5 in /Users/khanhnguyen/opt/anaconda3/lib/python3.7/site-packages (from pexpect; sys_platform != \"win32\"->ipython>=4.0.0; python_version >= \"3.3\"->ipywidgets) (0.6.0)\n",
      "Requirement already satisfied: wcwidth in /Users/khanhnguyen/opt/anaconda3/lib/python3.7/site-packages (from prompt-toolkit<2.1.0,>=2.0.0->ipython>=4.0.0; python_version >= \"3.3\"->ipywidgets) (0.1.7)\n",
      "Requirement already satisfied: pyzmq>=13 in /Users/khanhnguyen/opt/anaconda3/lib/python3.7/site-packages (from jupyter-client->ipykernel>=4.5.1->ipywidgets) (18.1.0)\n",
      "Requirement already satisfied: python-dateutil>=2.1 in /Users/khanhnguyen/opt/anaconda3/lib/python3.7/site-packages (from jupyter-client->ipykernel>=4.5.1->ipywidgets) (2.8.0)\n",
      "Requirement already satisfied: nbconvert in /Users/khanhnguyen/opt/anaconda3/lib/python3.7/site-packages (from notebook>=4.4.1->widgetsnbextension~=3.5.0->ipywidgets) (5.6.0)\n",
      "Requirement already satisfied: Send2Trash in /Users/khanhnguyen/opt/anaconda3/lib/python3.7/site-packages (from notebook>=4.4.1->widgetsnbextension~=3.5.0->ipywidgets) (1.5.0)\n",
      "Requirement already satisfied: prometheus-client in /Users/khanhnguyen/opt/anaconda3/lib/python3.7/site-packages (from notebook>=4.4.1->widgetsnbextension~=3.5.0->ipywidgets) (0.7.1)\n",
      "Requirement already satisfied: jinja2 in /Users/khanhnguyen/opt/anaconda3/lib/python3.7/site-packages (from notebook>=4.4.1->widgetsnbextension~=3.5.0->ipywidgets) (2.10.3)\n",
      "Requirement already satisfied: terminado>=0.8.1 in /Users/khanhnguyen/opt/anaconda3/lib/python3.7/site-packages (from notebook>=4.4.1->widgetsnbextension~=3.5.0->ipywidgets) (0.8.2)\n",
      "Requirement already satisfied: importlib-metadata in /Users/khanhnguyen/opt/anaconda3/lib/python3.7/site-packages (from jsonschema!=2.5.0,>=2.4->nbformat>=4.2.0->ipywidgets) (0.23)\n",
      "Requirement already satisfied: attrs>=17.4.0 in /Users/khanhnguyen/opt/anaconda3/lib/python3.7/site-packages (from jsonschema!=2.5.0,>=2.4->nbformat>=4.2.0->ipywidgets) (19.3.0)\n",
      "Requirement already satisfied: pyrsistent>=0.14.0 in /Users/khanhnguyen/opt/anaconda3/lib/python3.7/site-packages (from jsonschema!=2.5.0,>=2.4->nbformat>=4.2.0->ipywidgets) (0.15.4)\n",
      "Requirement already satisfied: defusedxml in /Users/khanhnguyen/opt/anaconda3/lib/python3.7/site-packages (from nbconvert->notebook>=4.4.1->widgetsnbextension~=3.5.0->ipywidgets) (0.6.0)\n",
      "Requirement already satisfied: mistune<2,>=0.8.1 in /Users/khanhnguyen/opt/anaconda3/lib/python3.7/site-packages (from nbconvert->notebook>=4.4.1->widgetsnbextension~=3.5.0->ipywidgets) (0.8.4)\n",
      "Requirement already satisfied: testpath in /Users/khanhnguyen/opt/anaconda3/lib/python3.7/site-packages (from nbconvert->notebook>=4.4.1->widgetsnbextension~=3.5.0->ipywidgets) (0.4.2)\n",
      "Requirement already satisfied: pandocfilters>=1.4.1 in /Users/khanhnguyen/opt/anaconda3/lib/python3.7/site-packages (from nbconvert->notebook>=4.4.1->widgetsnbextension~=3.5.0->ipywidgets) (1.4.2)\n",
      "Requirement already satisfied: bleach in /Users/khanhnguyen/opt/anaconda3/lib/python3.7/site-packages (from nbconvert->notebook>=4.4.1->widgetsnbextension~=3.5.0->ipywidgets) (3.1.0)\n",
      "Requirement already satisfied: entrypoints>=0.2.2 in /Users/khanhnguyen/opt/anaconda3/lib/python3.7/site-packages (from nbconvert->notebook>=4.4.1->widgetsnbextension~=3.5.0->ipywidgets) (0.3)\n",
      "Requirement already satisfied: MarkupSafe>=0.23 in /Users/khanhnguyen/opt/anaconda3/lib/python3.7/site-packages (from jinja2->notebook>=4.4.1->widgetsnbextension~=3.5.0->ipywidgets) (1.1.1)\n",
      "Requirement already satisfied: zipp>=0.5 in /Users/khanhnguyen/opt/anaconda3/lib/python3.7/site-packages (from importlib-metadata->jsonschema!=2.5.0,>=2.4->nbformat>=4.2.0->ipywidgets) (0.6.0)\n",
      "Requirement already satisfied: webencodings in /Users/khanhnguyen/opt/anaconda3/lib/python3.7/site-packages (from bleach->nbconvert->notebook>=4.4.1->widgetsnbextension~=3.5.0->ipywidgets) (0.5.1)\n",
      "Requirement already satisfied: more-itertools in /Users/khanhnguyen/opt/anaconda3/lib/python3.7/site-packages (from zipp>=0.5->importlib-metadata->jsonschema!=2.5.0,>=2.4->nbformat>=4.2.0->ipywidgets) (7.2.0)\n"
     ]
    },
    {
     "name": "stdout",
     "output_type": "stream",
     "text": [
      "Requirement already satisfied: vaderSentiment in /Users/khanhnguyen/opt/anaconda3/lib/python3.7/site-packages (3.2.1)\r\n"
     ]
    },
    {
     "data": {
      "text/html": [
       "        <script type=\"text/javascript\">\n",
       "        window.PlotlyConfig = {MathJaxConfig: 'local'};\n",
       "        if (window.MathJax) {MathJax.Hub.Config({SVG: {font: \"STIX-Web\"}});}\n",
       "        if (typeof require !== 'undefined') {\n",
       "        require.undef(\"plotly\");\n",
       "        requirejs.config({\n",
       "            paths: {\n",
       "                'plotly': ['https://cdn.plot.ly/plotly-latest.min']\n",
       "            }\n",
       "        });\n",
       "        require(['plotly'], function(Plotly) {\n",
       "            window._Plotly = Plotly;\n",
       "        });\n",
       "        }\n",
       "        </script>\n",
       "        "
      ]
     },
     "metadata": {},
     "output_type": "display_data"
    },
    {
     "name": "stdout",
     "output_type": "stream",
     "text": [
      "Requirement already satisfied: sklearn in /Users/khanhnguyen/opt/anaconda3/lib/python3.7/site-packages (0.0)\r\n",
      "Requirement already satisfied: scikit-learn in /Users/khanhnguyen/opt/anaconda3/lib/python3.7/site-packages (from sklearn) (0.22)\r\n",
      "Requirement already satisfied: joblib>=0.11 in /Users/khanhnguyen/opt/anaconda3/lib/python3.7/site-packages (from scikit-learn->sklearn) (0.14.1)\r\n",
      "Requirement already satisfied: scipy>=0.17.0 in /Users/khanhnguyen/opt/anaconda3/lib/python3.7/site-packages (from scikit-learn->sklearn) (1.4.1)\r\n",
      "Requirement already satisfied: numpy>=1.11.0 in /Users/khanhnguyen/opt/anaconda3/lib/python3.7/site-packages (from scikit-learn->sklearn) (1.17.3)\r\n"
     ]
    }
   ],
   "source": [
    "!pip install nltk\n",
    "!pip install plotly\n",
    "!pip install ipywidgets\n",
    "!pip install vaderSentiment\n",
    "import pandas as pd\n",
    "import sqlite3\n",
    "import time\n",
    "from datetime import datetime\n",
    "import plotly.express as px\n",
    "import plotly.graph_objects as go\n",
    "from plotly.offline import init_notebook_mode\n",
    "init_notebook_mode(connected=True)         # initiate notebook for offline plot\n",
    "!pip install sklearn\n",
    "from sklearn.feature_extraction.text import TfidfVectorizer\n",
    "from sklearn.cluster import KMeans\n",
    "from sklearn.metrics import adjusted_rand_score\n",
    "from nltk.corpus import stopwords\n",
    "from nltk.tokenize import word_tokenize\n",
    "from vaderSentiment.vaderSentiment import SentimentIntensityAnalyzer"
   ]
  },
  {
   "cell_type": "code",
   "execution_count": 264,
   "metadata": {},
   "outputs": [],
   "source": [
    "#Creating connection with sqlite database\n",
    "def create_connection(db_file):\n",
    "    conn = None\n",
    "    try:\n",
    "        conn = sqlite3.connect(db_file)\n",
    "        return conn\n",
    "    except Error as e:\n",
    "        print(e)\n",
    "    return conn"
   ]
  },
  {
   "cell_type": "code",
   "execution_count": 302,
   "metadata": {},
   "outputs": [],
   "source": [
    "#Setting up the data for the analysis\n",
    "\n",
    "#Create the connection\n",
    "conn = create_connection('R_NYU.db')\n",
    "\n",
    "#Getting the data into pandas dataframe\n",
    "posts = pd.read_sql(\"SELECT * FROM post\", conn)\n",
    "users = pd.read_sql(\"SELECT * FROM user\", conn)\n",
    "comments = pd.read_sql(\"SELECT * FROM comment\", conn)\n",
    "subreddits = pd.read_sql(\"SELECT * FROM subreddit\", conn)\n",
    "\n",
    "#Closing connection\n",
    "conn.close()"
   ]
  },
  {
   "cell_type": "code",
   "execution_count": 266,
   "metadata": {},
   "outputs": [],
   "source": [
    "#Removing bots\n",
    "bots = subreddits[subreddits['name'].str.endswith('bot')]\n",
    "bot_names = set(bots['name'].tolist())\n",
    "\n",
    "for name in bot_names:\n",
    "    users = users[users['name'] != name]\n",
    "    posts = posts[posts['name'] != name]\n",
    "    subreddits = subreddits[subreddits['name'] != name]\n",
    "    comments = comments[comments['name'] != name]"
   ]
  },
  {
   "cell_type": "code",
   "execution_count": null,
   "metadata": {},
   "outputs": [],
   "source": [
    "###### QUESTIONS TO INVESTIGATE ######\n",
    "\n",
    "'''\n",
    "1, First post\n",
    "2, Post with most upvotes/downvotes\n",
    "3, Comments with most upvotes/downvotes\n",
    "4, Does NYU subreddit fills with application questions?\n",
    "5, How often does users posts/comments in NYU subreddit\n",
    "6, where else do users posts -> most popular subreddits\n",
    "7, Type of students in NYU subreddit\n",
    "8, money related posts questions\n",
    "9, Most common word (using TFDIF), try to remove filler\n",
    "11, post activity over the year\n",
    "12, Frequency of posts/comments in the subreddit\n",
    "'''"
   ]
  },
  {
   "cell_type": "code",
   "execution_count": 329,
   "metadata": {},
   "outputs": [
    {
     "data": {
      "application/vnd.plotly.v1+json": {
       "config": {
        "plotlyServerURL": "https://plot.ly"
       },
       "data": [
        {
         "legendgroup": "blue",
         "marker": {
          "color": "blue"
         },
         "name": "Other",
         "showlegend": true,
         "type": "bar",
         "x": [
          "nyu"
         ],
         "y": [
          4852
         ]
        },
        {
         "legendgroup": "pink",
         "marker": {
          "color": "pink"
         },
         "name": "Default Subreddits",
         "showlegend": true,
         "type": "bar",
         "x": [
          "AskReddit"
         ],
         "y": [
          3154
         ]
        },
        {
         "legendgroup": "pink",
         "marker": {
          "color": "pink"
         },
         "name": "Default Subreddits",
         "showlegend": false,
         "type": "bar",
         "x": [
          "pics"
         ],
         "y": [
          1752
         ]
        },
        {
         "legendgroup": "pink",
         "marker": {
          "color": "pink"
         },
         "name": "Default Subreddits",
         "showlegend": false,
         "type": "bar",
         "x": [
          "funny"
         ],
         "y": [
          1695
         ]
        },
        {
         "legendgroup": "pink",
         "marker": {
          "color": "pink"
         },
         "name": "Default Subreddits",
         "showlegend": false,
         "type": "bar",
         "x": [
          "todayilearned"
         ],
         "y": [
          1417
         ]
        },
        {
         "legendgroup": "pink",
         "marker": {
          "color": "pink"
         },
         "name": "Default Subreddits",
         "showlegend": false,
         "type": "bar",
         "x": [
          "IAmA"
         ],
         "y": [
          1364
         ]
        },
        {
         "legendgroup": "pink",
         "marker": {
          "color": "pink"
         },
         "name": "Default Subreddits",
         "showlegend": false,
         "type": "bar",
         "x": [
          "videos"
         ],
         "y": [
          1250
         ]
        },
        {
         "legendgroup": "pink",
         "marker": {
          "color": "pink"
         },
         "name": "Default Subreddits",
         "showlegend": false,
         "type": "bar",
         "x": [
          "gaming"
         ],
         "y": [
          1180
         ]
        },
        {
         "legendgroup": "pink",
         "marker": {
          "color": "pink"
         },
         "name": "Default Subreddits",
         "showlegend": false,
         "type": "bar",
         "x": [
          "movies"
         ],
         "y": [
          1155
         ]
        },
        {
         "legendgroup": "blue",
         "marker": {
          "color": "blue"
         },
         "name": "Other",
         "showlegend": false,
         "type": "bar",
         "x": [
          "nyc"
         ],
         "y": [
          1143
         ]
        },
        {
         "legendgroup": "pink",
         "marker": {
          "color": "pink"
         },
         "name": "Default Subreddits",
         "showlegend": false,
         "type": "bar",
         "x": [
          "worldnews"
         ],
         "y": [
          1125
         ]
        },
        {
         "legendgroup": "blue",
         "marker": {
          "color": "blue"
         },
         "name": "Other",
         "showlegend": false,
         "type": "bar",
         "x": [
          "politics"
         ],
         "y": [
          1108
         ]
        },
        {
         "legendgroup": "pink",
         "marker": {
          "color": "pink"
         },
         "name": "Default Subreddits",
         "showlegend": false,
         "type": "bar",
         "x": [
          "aww"
         ],
         "y": [
          1034
         ]
        },
        {
         "legendgroup": "pink",
         "marker": {
          "color": "pink"
         },
         "name": "Default Subreddits",
         "showlegend": false,
         "type": "bar",
         "x": [
          "news"
         ],
         "y": [
          986
         ]
        },
        {
         "legendgroup": "blue",
         "marker": {
          "color": "blue"
         },
         "name": "Other",
         "showlegend": false,
         "type": "bar",
         "x": [
          "WTF"
         ],
         "y": [
          947
         ]
        },
        {
         "legendgroup": "blue",
         "marker": {
          "color": "blue"
         },
         "name": "Other",
         "showlegend": false,
         "type": "bar",
         "x": [
          "ApplyingToCollege"
         ],
         "y": [
          943
         ]
        },
        {
         "legendgroup": "pink",
         "marker": {
          "color": "pink"
         },
         "name": "Default Subreddits",
         "showlegend": false,
         "type": "bar",
         "x": [
          "gifs"
         ],
         "y": [
          883
         ]
        },
        {
         "legendgroup": "pink",
         "marker": {
          "color": "pink"
         },
         "name": "Default Subreddits",
         "showlegend": false,
         "type": "bar",
         "x": [
          "Showerthoughts"
         ],
         "y": [
          865
         ]
        },
        {
         "legendgroup": "pink",
         "marker": {
          "color": "pink"
         },
         "name": "Default Subreddits",
         "showlegend": false,
         "type": "bar",
         "x": [
          "Music"
         ],
         "y": [
          839
         ]
        },
        {
         "legendgroup": "pink",
         "marker": {
          "color": "pink"
         },
         "name": "Default Subreddits",
         "showlegend": false,
         "type": "bar",
         "x": [
          "mildlyinteresting"
         ],
         "y": [
          805
         ]
        },
        {
         "legendgroup": "blue",
         "marker": {
          "color": "blue"
         },
         "name": "Other",
         "showlegend": false,
         "type": "bar",
         "x": [
          "AdviceAnimals"
         ],
         "y": [
          770
         ]
        },
        {
         "legendgroup": "pink",
         "marker": {
          "color": "pink"
         },
         "name": "Default Subreddits",
         "showlegend": false,
         "type": "bar",
         "x": [
          "science"
         ],
         "y": [
          647
         ]
        },
        {
         "legendgroup": "pink",
         "marker": {
          "color": "pink"
         },
         "name": "Default Subreddits",
         "showlegend": false,
         "type": "bar",
         "x": [
          "explainlikeimfive"
         ],
         "y": [
          604
         ]
        },
        {
         "legendgroup": "blue",
         "marker": {
          "color": "blue"
         },
         "name": "Other",
         "showlegend": false,
         "type": "bar",
         "x": [
          "technology"
         ],
         "y": [
          575
         ]
        },
        {
         "legendgroup": "blue",
         "marker": {
          "color": "blue"
         },
         "name": "Other",
         "showlegend": false,
         "type": "bar",
         "x": [
          "AskNYC"
         ],
         "y": [
          556
         ]
        },
        {
         "legendgroup": "pink",
         "marker": {
          "color": "pink"
         },
         "name": "Default Subreddits",
         "showlegend": false,
         "type": "bar",
         "x": [
          "LifeProTips"
         ],
         "y": [
          537
         ]
        },
        {
         "legendgroup": "blue",
         "marker": {
          "color": "blue"
         },
         "name": "Other",
         "showlegend": false,
         "type": "bar",
         "x": [
          "trees"
         ],
         "y": [
          535
         ]
        },
        {
         "legendgroup": "blue",
         "marker": {
          "color": "blue"
         },
         "name": "Other",
         "showlegend": false,
         "type": "bar",
         "x": [
          "television"
         ],
         "y": [
          532
         ]
        },
        {
         "legendgroup": "blue",
         "marker": {
          "color": "blue"
         },
         "name": "Other",
         "showlegend": false,
         "type": "bar",
         "x": [
          "BlackPeopleTwitter"
         ],
         "y": [
          526
         ]
        },
        {
         "legendgroup": "blue",
         "marker": {
          "color": "blue"
         },
         "name": "Other",
         "showlegend": false,
         "type": "bar",
         "x": [
          "tifu"
         ],
         "y": [
          525
         ]
        }
       ],
       "layout": {
        "template": {
         "data": {
          "bar": [
           {
            "error_x": {
             "color": "#2a3f5f"
            },
            "error_y": {
             "color": "#2a3f5f"
            },
            "marker": {
             "line": {
              "color": "#E5ECF6",
              "width": 0.5
             }
            },
            "type": "bar"
           }
          ],
          "barpolar": [
           {
            "marker": {
             "line": {
              "color": "#E5ECF6",
              "width": 0.5
             }
            },
            "type": "barpolar"
           }
          ],
          "carpet": [
           {
            "aaxis": {
             "endlinecolor": "#2a3f5f",
             "gridcolor": "white",
             "linecolor": "white",
             "minorgridcolor": "white",
             "startlinecolor": "#2a3f5f"
            },
            "baxis": {
             "endlinecolor": "#2a3f5f",
             "gridcolor": "white",
             "linecolor": "white",
             "minorgridcolor": "white",
             "startlinecolor": "#2a3f5f"
            },
            "type": "carpet"
           }
          ],
          "choropleth": [
           {
            "colorbar": {
             "outlinewidth": 0,
             "ticks": ""
            },
            "type": "choropleth"
           }
          ],
          "contour": [
           {
            "colorbar": {
             "outlinewidth": 0,
             "ticks": ""
            },
            "colorscale": [
             [
              0,
              "#0d0887"
             ],
             [
              0.1111111111111111,
              "#46039f"
             ],
             [
              0.2222222222222222,
              "#7201a8"
             ],
             [
              0.3333333333333333,
              "#9c179e"
             ],
             [
              0.4444444444444444,
              "#bd3786"
             ],
             [
              0.5555555555555556,
              "#d8576b"
             ],
             [
              0.6666666666666666,
              "#ed7953"
             ],
             [
              0.7777777777777778,
              "#fb9f3a"
             ],
             [
              0.8888888888888888,
              "#fdca26"
             ],
             [
              1,
              "#f0f921"
             ]
            ],
            "type": "contour"
           }
          ],
          "contourcarpet": [
           {
            "colorbar": {
             "outlinewidth": 0,
             "ticks": ""
            },
            "type": "contourcarpet"
           }
          ],
          "heatmap": [
           {
            "colorbar": {
             "outlinewidth": 0,
             "ticks": ""
            },
            "colorscale": [
             [
              0,
              "#0d0887"
             ],
             [
              0.1111111111111111,
              "#46039f"
             ],
             [
              0.2222222222222222,
              "#7201a8"
             ],
             [
              0.3333333333333333,
              "#9c179e"
             ],
             [
              0.4444444444444444,
              "#bd3786"
             ],
             [
              0.5555555555555556,
              "#d8576b"
             ],
             [
              0.6666666666666666,
              "#ed7953"
             ],
             [
              0.7777777777777778,
              "#fb9f3a"
             ],
             [
              0.8888888888888888,
              "#fdca26"
             ],
             [
              1,
              "#f0f921"
             ]
            ],
            "type": "heatmap"
           }
          ],
          "heatmapgl": [
           {
            "colorbar": {
             "outlinewidth": 0,
             "ticks": ""
            },
            "colorscale": [
             [
              0,
              "#0d0887"
             ],
             [
              0.1111111111111111,
              "#46039f"
             ],
             [
              0.2222222222222222,
              "#7201a8"
             ],
             [
              0.3333333333333333,
              "#9c179e"
             ],
             [
              0.4444444444444444,
              "#bd3786"
             ],
             [
              0.5555555555555556,
              "#d8576b"
             ],
             [
              0.6666666666666666,
              "#ed7953"
             ],
             [
              0.7777777777777778,
              "#fb9f3a"
             ],
             [
              0.8888888888888888,
              "#fdca26"
             ],
             [
              1,
              "#f0f921"
             ]
            ],
            "type": "heatmapgl"
           }
          ],
          "histogram": [
           {
            "marker": {
             "colorbar": {
              "outlinewidth": 0,
              "ticks": ""
             }
            },
            "type": "histogram"
           }
          ],
          "histogram2d": [
           {
            "colorbar": {
             "outlinewidth": 0,
             "ticks": ""
            },
            "colorscale": [
             [
              0,
              "#0d0887"
             ],
             [
              0.1111111111111111,
              "#46039f"
             ],
             [
              0.2222222222222222,
              "#7201a8"
             ],
             [
              0.3333333333333333,
              "#9c179e"
             ],
             [
              0.4444444444444444,
              "#bd3786"
             ],
             [
              0.5555555555555556,
              "#d8576b"
             ],
             [
              0.6666666666666666,
              "#ed7953"
             ],
             [
              0.7777777777777778,
              "#fb9f3a"
             ],
             [
              0.8888888888888888,
              "#fdca26"
             ],
             [
              1,
              "#f0f921"
             ]
            ],
            "type": "histogram2d"
           }
          ],
          "histogram2dcontour": [
           {
            "colorbar": {
             "outlinewidth": 0,
             "ticks": ""
            },
            "colorscale": [
             [
              0,
              "#0d0887"
             ],
             [
              0.1111111111111111,
              "#46039f"
             ],
             [
              0.2222222222222222,
              "#7201a8"
             ],
             [
              0.3333333333333333,
              "#9c179e"
             ],
             [
              0.4444444444444444,
              "#bd3786"
             ],
             [
              0.5555555555555556,
              "#d8576b"
             ],
             [
              0.6666666666666666,
              "#ed7953"
             ],
             [
              0.7777777777777778,
              "#fb9f3a"
             ],
             [
              0.8888888888888888,
              "#fdca26"
             ],
             [
              1,
              "#f0f921"
             ]
            ],
            "type": "histogram2dcontour"
           }
          ],
          "mesh3d": [
           {
            "colorbar": {
             "outlinewidth": 0,
             "ticks": ""
            },
            "type": "mesh3d"
           }
          ],
          "parcoords": [
           {
            "line": {
             "colorbar": {
              "outlinewidth": 0,
              "ticks": ""
             }
            },
            "type": "parcoords"
           }
          ],
          "scatter": [
           {
            "marker": {
             "colorbar": {
              "outlinewidth": 0,
              "ticks": ""
             }
            },
            "type": "scatter"
           }
          ],
          "scatter3d": [
           {
            "line": {
             "colorbar": {
              "outlinewidth": 0,
              "ticks": ""
             }
            },
            "marker": {
             "colorbar": {
              "outlinewidth": 0,
              "ticks": ""
             }
            },
            "type": "scatter3d"
           }
          ],
          "scattercarpet": [
           {
            "marker": {
             "colorbar": {
              "outlinewidth": 0,
              "ticks": ""
             }
            },
            "type": "scattercarpet"
           }
          ],
          "scattergeo": [
           {
            "marker": {
             "colorbar": {
              "outlinewidth": 0,
              "ticks": ""
             }
            },
            "type": "scattergeo"
           }
          ],
          "scattergl": [
           {
            "marker": {
             "colorbar": {
              "outlinewidth": 0,
              "ticks": ""
             }
            },
            "type": "scattergl"
           }
          ],
          "scattermapbox": [
           {
            "marker": {
             "colorbar": {
              "outlinewidth": 0,
              "ticks": ""
             }
            },
            "type": "scattermapbox"
           }
          ],
          "scatterpolar": [
           {
            "marker": {
             "colorbar": {
              "outlinewidth": 0,
              "ticks": ""
             }
            },
            "type": "scatterpolar"
           }
          ],
          "scatterpolargl": [
           {
            "marker": {
             "colorbar": {
              "outlinewidth": 0,
              "ticks": ""
             }
            },
            "type": "scatterpolargl"
           }
          ],
          "scatterternary": [
           {
            "marker": {
             "colorbar": {
              "outlinewidth": 0,
              "ticks": ""
             }
            },
            "type": "scatterternary"
           }
          ],
          "surface": [
           {
            "colorbar": {
             "outlinewidth": 0,
             "ticks": ""
            },
            "colorscale": [
             [
              0,
              "#0d0887"
             ],
             [
              0.1111111111111111,
              "#46039f"
             ],
             [
              0.2222222222222222,
              "#7201a8"
             ],
             [
              0.3333333333333333,
              "#9c179e"
             ],
             [
              0.4444444444444444,
              "#bd3786"
             ],
             [
              0.5555555555555556,
              "#d8576b"
             ],
             [
              0.6666666666666666,
              "#ed7953"
             ],
             [
              0.7777777777777778,
              "#fb9f3a"
             ],
             [
              0.8888888888888888,
              "#fdca26"
             ],
             [
              1,
              "#f0f921"
             ]
            ],
            "type": "surface"
           }
          ],
          "table": [
           {
            "cells": {
             "fill": {
              "color": "#EBF0F8"
             },
             "line": {
              "color": "white"
             }
            },
            "header": {
             "fill": {
              "color": "#C8D4E3"
             },
             "line": {
              "color": "white"
             }
            },
            "type": "table"
           }
          ]
         },
         "layout": {
          "annotationdefaults": {
           "arrowcolor": "#2a3f5f",
           "arrowhead": 0,
           "arrowwidth": 1
          },
          "colorscale": {
           "diverging": [
            [
             0,
             "#8e0152"
            ],
            [
             0.1,
             "#c51b7d"
            ],
            [
             0.2,
             "#de77ae"
            ],
            [
             0.3,
             "#f1b6da"
            ],
            [
             0.4,
             "#fde0ef"
            ],
            [
             0.5,
             "#f7f7f7"
            ],
            [
             0.6,
             "#e6f5d0"
            ],
            [
             0.7,
             "#b8e186"
            ],
            [
             0.8,
             "#7fbc41"
            ],
            [
             0.9,
             "#4d9221"
            ],
            [
             1,
             "#276419"
            ]
           ],
           "sequential": [
            [
             0,
             "#0d0887"
            ],
            [
             0.1111111111111111,
             "#46039f"
            ],
            [
             0.2222222222222222,
             "#7201a8"
            ],
            [
             0.3333333333333333,
             "#9c179e"
            ],
            [
             0.4444444444444444,
             "#bd3786"
            ],
            [
             0.5555555555555556,
             "#d8576b"
            ],
            [
             0.6666666666666666,
             "#ed7953"
            ],
            [
             0.7777777777777778,
             "#fb9f3a"
            ],
            [
             0.8888888888888888,
             "#fdca26"
            ],
            [
             1,
             "#f0f921"
            ]
           ],
           "sequentialminus": [
            [
             0,
             "#0d0887"
            ],
            [
             0.1111111111111111,
             "#46039f"
            ],
            [
             0.2222222222222222,
             "#7201a8"
            ],
            [
             0.3333333333333333,
             "#9c179e"
            ],
            [
             0.4444444444444444,
             "#bd3786"
            ],
            [
             0.5555555555555556,
             "#d8576b"
            ],
            [
             0.6666666666666666,
             "#ed7953"
            ],
            [
             0.7777777777777778,
             "#fb9f3a"
            ],
            [
             0.8888888888888888,
             "#fdca26"
            ],
            [
             1,
             "#f0f921"
            ]
           ]
          },
          "colorway": [
           "#636efa",
           "#EF553B",
           "#00cc96",
           "#ab63fa",
           "#FFA15A",
           "#19d3f3",
           "#FF6692",
           "#B6E880",
           "#FF97FF",
           "#FECB52"
          ],
          "font": {
           "color": "#2a3f5f"
          },
          "geo": {
           "bgcolor": "white",
           "lakecolor": "white",
           "landcolor": "#E5ECF6",
           "showlakes": true,
           "showland": true,
           "subunitcolor": "white"
          },
          "hoverlabel": {
           "align": "left"
          },
          "hovermode": "closest",
          "mapbox": {
           "style": "light"
          },
          "paper_bgcolor": "white",
          "plot_bgcolor": "#E5ECF6",
          "polar": {
           "angularaxis": {
            "gridcolor": "white",
            "linecolor": "white",
            "ticks": ""
           },
           "bgcolor": "#E5ECF6",
           "radialaxis": {
            "gridcolor": "white",
            "linecolor": "white",
            "ticks": ""
           }
          },
          "scene": {
           "xaxis": {
            "backgroundcolor": "#E5ECF6",
            "gridcolor": "white",
            "gridwidth": 2,
            "linecolor": "white",
            "showbackground": true,
            "ticks": "",
            "zerolinecolor": "white"
           },
           "yaxis": {
            "backgroundcolor": "#E5ECF6",
            "gridcolor": "white",
            "gridwidth": 2,
            "linecolor": "white",
            "showbackground": true,
            "ticks": "",
            "zerolinecolor": "white"
           },
           "zaxis": {
            "backgroundcolor": "#E5ECF6",
            "gridcolor": "white",
            "gridwidth": 2,
            "linecolor": "white",
            "showbackground": true,
            "ticks": "",
            "zerolinecolor": "white"
           }
          },
          "shapedefaults": {
           "line": {
            "color": "#2a3f5f"
           }
          },
          "ternary": {
           "aaxis": {
            "gridcolor": "white",
            "linecolor": "white",
            "ticks": ""
           },
           "baxis": {
            "gridcolor": "white",
            "linecolor": "white",
            "ticks": ""
           },
           "bgcolor": "#E5ECF6",
           "caxis": {
            "gridcolor": "white",
            "linecolor": "white",
            "ticks": ""
           }
          },
          "title": {
           "x": 0.05
          },
          "xaxis": {
           "automargin": true,
           "gridcolor": "white",
           "linecolor": "white",
           "ticks": "",
           "zerolinecolor": "white",
           "zerolinewidth": 2
          },
          "yaxis": {
           "automargin": true,
           "gridcolor": "white",
           "linecolor": "white",
           "ticks": "",
           "zerolinecolor": "white",
           "zerolinewidth": 2
          }
         }
        },
        "title": {
         "text": "Most Popular Subreddits from Users in r/NYU"
        },
        "xaxis": {
         "title": {
          "text": "Subreddit"
         }
        },
        "yaxis": {
         "title": {
          "text": "Number of posts"
         }
        }
       }
      },
      "text/html": [
       "<div>\n",
       "        \n",
       "        \n",
       "            <div id=\"680e3cf7-56dc-44d1-9adc-a23469c17288\" class=\"plotly-graph-div\" style=\"height:525px; width:100%;\"></div>\n",
       "            <script type=\"text/javascript\">\n",
       "                require([\"plotly\"], function(Plotly) {\n",
       "                    window.PLOTLYENV=window.PLOTLYENV || {};\n",
       "                    \n",
       "                if (document.getElementById(\"680e3cf7-56dc-44d1-9adc-a23469c17288\")) {\n",
       "                    Plotly.newPlot(\n",
       "                        '680e3cf7-56dc-44d1-9adc-a23469c17288',\n",
       "                        [{\"legendgroup\": \"blue\", \"marker\": {\"color\": \"blue\"}, \"name\": \"Other\", \"showlegend\": true, \"type\": \"bar\", \"x\": [\"nyu\"], \"y\": [4852]}, {\"legendgroup\": \"pink\", \"marker\": {\"color\": \"pink\"}, \"name\": \"Default Subreddits\", \"showlegend\": true, \"type\": \"bar\", \"x\": [\"AskReddit\"], \"y\": [3154]}, {\"legendgroup\": \"pink\", \"marker\": {\"color\": \"pink\"}, \"name\": \"Default Subreddits\", \"showlegend\": false, \"type\": \"bar\", \"x\": [\"pics\"], \"y\": [1752]}, {\"legendgroup\": \"pink\", \"marker\": {\"color\": \"pink\"}, \"name\": \"Default Subreddits\", \"showlegend\": false, \"type\": \"bar\", \"x\": [\"funny\"], \"y\": [1695]}, {\"legendgroup\": \"pink\", \"marker\": {\"color\": \"pink\"}, \"name\": \"Default Subreddits\", \"showlegend\": false, \"type\": \"bar\", \"x\": [\"todayilearned\"], \"y\": [1417]}, {\"legendgroup\": \"pink\", \"marker\": {\"color\": \"pink\"}, \"name\": \"Default Subreddits\", \"showlegend\": false, \"type\": \"bar\", \"x\": [\"IAmA\"], \"y\": [1364]}, {\"legendgroup\": \"pink\", \"marker\": {\"color\": \"pink\"}, \"name\": \"Default Subreddits\", \"showlegend\": false, \"type\": \"bar\", \"x\": [\"videos\"], \"y\": [1250]}, {\"legendgroup\": \"pink\", \"marker\": {\"color\": \"pink\"}, \"name\": \"Default Subreddits\", \"showlegend\": false, \"type\": \"bar\", \"x\": [\"gaming\"], \"y\": [1180]}, {\"legendgroup\": \"pink\", \"marker\": {\"color\": \"pink\"}, \"name\": \"Default Subreddits\", \"showlegend\": false, \"type\": \"bar\", \"x\": [\"movies\"], \"y\": [1155]}, {\"legendgroup\": \"blue\", \"marker\": {\"color\": \"blue\"}, \"name\": \"Other\", \"showlegend\": false, \"type\": \"bar\", \"x\": [\"nyc\"], \"y\": [1143]}, {\"legendgroup\": \"pink\", \"marker\": {\"color\": \"pink\"}, \"name\": \"Default Subreddits\", \"showlegend\": false, \"type\": \"bar\", \"x\": [\"worldnews\"], \"y\": [1125]}, {\"legendgroup\": \"blue\", \"marker\": {\"color\": \"blue\"}, \"name\": \"Other\", \"showlegend\": false, \"type\": \"bar\", \"x\": [\"politics\"], \"y\": [1108]}, {\"legendgroup\": \"pink\", \"marker\": {\"color\": \"pink\"}, \"name\": \"Default Subreddits\", \"showlegend\": false, \"type\": \"bar\", \"x\": [\"aww\"], \"y\": [1034]}, {\"legendgroup\": \"pink\", \"marker\": {\"color\": \"pink\"}, \"name\": \"Default Subreddits\", \"showlegend\": false, \"type\": \"bar\", \"x\": [\"news\"], \"y\": [986]}, {\"legendgroup\": \"blue\", \"marker\": {\"color\": \"blue\"}, \"name\": \"Other\", \"showlegend\": false, \"type\": \"bar\", \"x\": [\"WTF\"], \"y\": [947]}, {\"legendgroup\": \"blue\", \"marker\": {\"color\": \"blue\"}, \"name\": \"Other\", \"showlegend\": false, \"type\": \"bar\", \"x\": [\"ApplyingToCollege\"], \"y\": [943]}, {\"legendgroup\": \"pink\", \"marker\": {\"color\": \"pink\"}, \"name\": \"Default Subreddits\", \"showlegend\": false, \"type\": \"bar\", \"x\": [\"gifs\"], \"y\": [883]}, {\"legendgroup\": \"pink\", \"marker\": {\"color\": \"pink\"}, \"name\": \"Default Subreddits\", \"showlegend\": false, \"type\": \"bar\", \"x\": [\"Showerthoughts\"], \"y\": [865]}, {\"legendgroup\": \"pink\", \"marker\": {\"color\": \"pink\"}, \"name\": \"Default Subreddits\", \"showlegend\": false, \"type\": \"bar\", \"x\": [\"Music\"], \"y\": [839]}, {\"legendgroup\": \"pink\", \"marker\": {\"color\": \"pink\"}, \"name\": \"Default Subreddits\", \"showlegend\": false, \"type\": \"bar\", \"x\": [\"mildlyinteresting\"], \"y\": [805]}, {\"legendgroup\": \"blue\", \"marker\": {\"color\": \"blue\"}, \"name\": \"Other\", \"showlegend\": false, \"type\": \"bar\", \"x\": [\"AdviceAnimals\"], \"y\": [770]}, {\"legendgroup\": \"pink\", \"marker\": {\"color\": \"pink\"}, \"name\": \"Default Subreddits\", \"showlegend\": false, \"type\": \"bar\", \"x\": [\"science\"], \"y\": [647]}, {\"legendgroup\": \"pink\", \"marker\": {\"color\": \"pink\"}, \"name\": \"Default Subreddits\", \"showlegend\": false, \"type\": \"bar\", \"x\": [\"explainlikeimfive\"], \"y\": [604]}, {\"legendgroup\": \"blue\", \"marker\": {\"color\": \"blue\"}, \"name\": \"Other\", \"showlegend\": false, \"type\": \"bar\", \"x\": [\"technology\"], \"y\": [575]}, {\"legendgroup\": \"blue\", \"marker\": {\"color\": \"blue\"}, \"name\": \"Other\", \"showlegend\": false, \"type\": \"bar\", \"x\": [\"AskNYC\"], \"y\": [556]}, {\"legendgroup\": \"pink\", \"marker\": {\"color\": \"pink\"}, \"name\": \"Default Subreddits\", \"showlegend\": false, \"type\": \"bar\", \"x\": [\"LifeProTips\"], \"y\": [537]}, {\"legendgroup\": \"blue\", \"marker\": {\"color\": \"blue\"}, \"name\": \"Other\", \"showlegend\": false, \"type\": \"bar\", \"x\": [\"trees\"], \"y\": [535]}, {\"legendgroup\": \"blue\", \"marker\": {\"color\": \"blue\"}, \"name\": \"Other\", \"showlegend\": false, \"type\": \"bar\", \"x\": [\"television\"], \"y\": [532]}, {\"legendgroup\": \"blue\", \"marker\": {\"color\": \"blue\"}, \"name\": \"Other\", \"showlegend\": false, \"type\": \"bar\", \"x\": [\"BlackPeopleTwitter\"], \"y\": [526]}, {\"legendgroup\": \"blue\", \"marker\": {\"color\": \"blue\"}, \"name\": \"Other\", \"showlegend\": false, \"type\": \"bar\", \"x\": [\"tifu\"], \"y\": [525]}],\n",
       "                        {\"template\": {\"data\": {\"bar\": [{\"error_x\": {\"color\": \"#2a3f5f\"}, \"error_y\": {\"color\": \"#2a3f5f\"}, \"marker\": {\"line\": {\"color\": \"#E5ECF6\", \"width\": 0.5}}, \"type\": \"bar\"}], \"barpolar\": [{\"marker\": {\"line\": {\"color\": \"#E5ECF6\", \"width\": 0.5}}, \"type\": \"barpolar\"}], \"carpet\": [{\"aaxis\": {\"endlinecolor\": \"#2a3f5f\", \"gridcolor\": \"white\", \"linecolor\": \"white\", \"minorgridcolor\": \"white\", \"startlinecolor\": \"#2a3f5f\"}, \"baxis\": {\"endlinecolor\": \"#2a3f5f\", \"gridcolor\": \"white\", \"linecolor\": \"white\", \"minorgridcolor\": \"white\", \"startlinecolor\": \"#2a3f5f\"}, \"type\": \"carpet\"}], \"choropleth\": [{\"colorbar\": {\"outlinewidth\": 0, \"ticks\": \"\"}, \"type\": \"choropleth\"}], \"contour\": [{\"colorbar\": {\"outlinewidth\": 0, \"ticks\": \"\"}, \"colorscale\": [[0.0, \"#0d0887\"], [0.1111111111111111, \"#46039f\"], [0.2222222222222222, \"#7201a8\"], [0.3333333333333333, \"#9c179e\"], [0.4444444444444444, \"#bd3786\"], [0.5555555555555556, \"#d8576b\"], [0.6666666666666666, \"#ed7953\"], [0.7777777777777778, \"#fb9f3a\"], [0.8888888888888888, \"#fdca26\"], [1.0, \"#f0f921\"]], \"type\": \"contour\"}], \"contourcarpet\": [{\"colorbar\": {\"outlinewidth\": 0, \"ticks\": \"\"}, \"type\": \"contourcarpet\"}], \"heatmap\": [{\"colorbar\": {\"outlinewidth\": 0, \"ticks\": \"\"}, \"colorscale\": [[0.0, \"#0d0887\"], [0.1111111111111111, \"#46039f\"], [0.2222222222222222, \"#7201a8\"], [0.3333333333333333, \"#9c179e\"], [0.4444444444444444, \"#bd3786\"], [0.5555555555555556, \"#d8576b\"], [0.6666666666666666, \"#ed7953\"], [0.7777777777777778, \"#fb9f3a\"], [0.8888888888888888, \"#fdca26\"], [1.0, \"#f0f921\"]], \"type\": \"heatmap\"}], \"heatmapgl\": [{\"colorbar\": {\"outlinewidth\": 0, \"ticks\": \"\"}, \"colorscale\": [[0.0, \"#0d0887\"], [0.1111111111111111, \"#46039f\"], [0.2222222222222222, \"#7201a8\"], [0.3333333333333333, \"#9c179e\"], [0.4444444444444444, \"#bd3786\"], [0.5555555555555556, \"#d8576b\"], [0.6666666666666666, \"#ed7953\"], [0.7777777777777778, \"#fb9f3a\"], [0.8888888888888888, \"#fdca26\"], [1.0, \"#f0f921\"]], \"type\": \"heatmapgl\"}], \"histogram\": [{\"marker\": {\"colorbar\": {\"outlinewidth\": 0, \"ticks\": \"\"}}, \"type\": \"histogram\"}], \"histogram2d\": [{\"colorbar\": {\"outlinewidth\": 0, \"ticks\": \"\"}, \"colorscale\": [[0.0, \"#0d0887\"], [0.1111111111111111, \"#46039f\"], [0.2222222222222222, \"#7201a8\"], [0.3333333333333333, \"#9c179e\"], [0.4444444444444444, \"#bd3786\"], [0.5555555555555556, \"#d8576b\"], [0.6666666666666666, \"#ed7953\"], [0.7777777777777778, \"#fb9f3a\"], [0.8888888888888888, \"#fdca26\"], [1.0, \"#f0f921\"]], \"type\": \"histogram2d\"}], \"histogram2dcontour\": [{\"colorbar\": {\"outlinewidth\": 0, \"ticks\": \"\"}, \"colorscale\": [[0.0, \"#0d0887\"], [0.1111111111111111, \"#46039f\"], [0.2222222222222222, \"#7201a8\"], [0.3333333333333333, \"#9c179e\"], [0.4444444444444444, \"#bd3786\"], [0.5555555555555556, \"#d8576b\"], [0.6666666666666666, \"#ed7953\"], [0.7777777777777778, \"#fb9f3a\"], [0.8888888888888888, \"#fdca26\"], [1.0, \"#f0f921\"]], \"type\": \"histogram2dcontour\"}], \"mesh3d\": [{\"colorbar\": {\"outlinewidth\": 0, \"ticks\": \"\"}, \"type\": \"mesh3d\"}], \"parcoords\": [{\"line\": {\"colorbar\": {\"outlinewidth\": 0, \"ticks\": \"\"}}, \"type\": \"parcoords\"}], \"scatter\": [{\"marker\": {\"colorbar\": {\"outlinewidth\": 0, \"ticks\": \"\"}}, \"type\": \"scatter\"}], \"scatter3d\": [{\"line\": {\"colorbar\": {\"outlinewidth\": 0, \"ticks\": \"\"}}, \"marker\": {\"colorbar\": {\"outlinewidth\": 0, \"ticks\": \"\"}}, \"type\": \"scatter3d\"}], \"scattercarpet\": [{\"marker\": {\"colorbar\": {\"outlinewidth\": 0, \"ticks\": \"\"}}, \"type\": \"scattercarpet\"}], \"scattergeo\": [{\"marker\": {\"colorbar\": {\"outlinewidth\": 0, \"ticks\": \"\"}}, \"type\": \"scattergeo\"}], \"scattergl\": [{\"marker\": {\"colorbar\": {\"outlinewidth\": 0, \"ticks\": \"\"}}, \"type\": \"scattergl\"}], \"scattermapbox\": [{\"marker\": {\"colorbar\": {\"outlinewidth\": 0, \"ticks\": \"\"}}, \"type\": \"scattermapbox\"}], \"scatterpolar\": [{\"marker\": {\"colorbar\": {\"outlinewidth\": 0, \"ticks\": \"\"}}, \"type\": \"scatterpolar\"}], \"scatterpolargl\": [{\"marker\": {\"colorbar\": {\"outlinewidth\": 0, \"ticks\": \"\"}}, \"type\": \"scatterpolargl\"}], \"scatterternary\": [{\"marker\": {\"colorbar\": {\"outlinewidth\": 0, \"ticks\": \"\"}}, \"type\": \"scatterternary\"}], \"surface\": [{\"colorbar\": {\"outlinewidth\": 0, \"ticks\": \"\"}, \"colorscale\": [[0.0, \"#0d0887\"], [0.1111111111111111, \"#46039f\"], [0.2222222222222222, \"#7201a8\"], [0.3333333333333333, \"#9c179e\"], [0.4444444444444444, \"#bd3786\"], [0.5555555555555556, \"#d8576b\"], [0.6666666666666666, \"#ed7953\"], [0.7777777777777778, \"#fb9f3a\"], [0.8888888888888888, \"#fdca26\"], [1.0, \"#f0f921\"]], \"type\": \"surface\"}], \"table\": [{\"cells\": {\"fill\": {\"color\": \"#EBF0F8\"}, \"line\": {\"color\": \"white\"}}, \"header\": {\"fill\": {\"color\": \"#C8D4E3\"}, \"line\": {\"color\": \"white\"}}, \"type\": \"table\"}]}, \"layout\": {\"annotationdefaults\": {\"arrowcolor\": \"#2a3f5f\", \"arrowhead\": 0, \"arrowwidth\": 1}, \"colorscale\": {\"diverging\": [[0, \"#8e0152\"], [0.1, \"#c51b7d\"], [0.2, \"#de77ae\"], [0.3, \"#f1b6da\"], [0.4, \"#fde0ef\"], [0.5, \"#f7f7f7\"], [0.6, \"#e6f5d0\"], [0.7, \"#b8e186\"], [0.8, \"#7fbc41\"], [0.9, \"#4d9221\"], [1, \"#276419\"]], \"sequential\": [[0.0, \"#0d0887\"], [0.1111111111111111, \"#46039f\"], [0.2222222222222222, \"#7201a8\"], [0.3333333333333333, \"#9c179e\"], [0.4444444444444444, \"#bd3786\"], [0.5555555555555556, \"#d8576b\"], [0.6666666666666666, \"#ed7953\"], [0.7777777777777778, \"#fb9f3a\"], [0.8888888888888888, \"#fdca26\"], [1.0, \"#f0f921\"]], \"sequentialminus\": [[0.0, \"#0d0887\"], [0.1111111111111111, \"#46039f\"], [0.2222222222222222, \"#7201a8\"], [0.3333333333333333, \"#9c179e\"], [0.4444444444444444, \"#bd3786\"], [0.5555555555555556, \"#d8576b\"], [0.6666666666666666, \"#ed7953\"], [0.7777777777777778, \"#fb9f3a\"], [0.8888888888888888, \"#fdca26\"], [1.0, \"#f0f921\"]]}, \"colorway\": [\"#636efa\", \"#EF553B\", \"#00cc96\", \"#ab63fa\", \"#FFA15A\", \"#19d3f3\", \"#FF6692\", \"#B6E880\", \"#FF97FF\", \"#FECB52\"], \"font\": {\"color\": \"#2a3f5f\"}, \"geo\": {\"bgcolor\": \"white\", \"lakecolor\": \"white\", \"landcolor\": \"#E5ECF6\", \"showlakes\": true, \"showland\": true, \"subunitcolor\": \"white\"}, \"hoverlabel\": {\"align\": \"left\"}, \"hovermode\": \"closest\", \"mapbox\": {\"style\": \"light\"}, \"paper_bgcolor\": \"white\", \"plot_bgcolor\": \"#E5ECF6\", \"polar\": {\"angularaxis\": {\"gridcolor\": \"white\", \"linecolor\": \"white\", \"ticks\": \"\"}, \"bgcolor\": \"#E5ECF6\", \"radialaxis\": {\"gridcolor\": \"white\", \"linecolor\": \"white\", \"ticks\": \"\"}}, \"scene\": {\"xaxis\": {\"backgroundcolor\": \"#E5ECF6\", \"gridcolor\": \"white\", \"gridwidth\": 2, \"linecolor\": \"white\", \"showbackground\": true, \"ticks\": \"\", \"zerolinecolor\": \"white\"}, \"yaxis\": {\"backgroundcolor\": \"#E5ECF6\", \"gridcolor\": \"white\", \"gridwidth\": 2, \"linecolor\": \"white\", \"showbackground\": true, \"ticks\": \"\", \"zerolinecolor\": \"white\"}, \"zaxis\": {\"backgroundcolor\": \"#E5ECF6\", \"gridcolor\": \"white\", \"gridwidth\": 2, \"linecolor\": \"white\", \"showbackground\": true, \"ticks\": \"\", \"zerolinecolor\": \"white\"}}, \"shapedefaults\": {\"line\": {\"color\": \"#2a3f5f\"}}, \"ternary\": {\"aaxis\": {\"gridcolor\": \"white\", \"linecolor\": \"white\", \"ticks\": \"\"}, \"baxis\": {\"gridcolor\": \"white\", \"linecolor\": \"white\", \"ticks\": \"\"}, \"bgcolor\": \"#E5ECF6\", \"caxis\": {\"gridcolor\": \"white\", \"linecolor\": \"white\", \"ticks\": \"\"}}, \"title\": {\"x\": 0.05}, \"xaxis\": {\"automargin\": true, \"gridcolor\": \"white\", \"linecolor\": \"white\", \"ticks\": \"\", \"zerolinecolor\": \"white\", \"zerolinewidth\": 2}, \"yaxis\": {\"automargin\": true, \"gridcolor\": \"white\", \"linecolor\": \"white\", \"ticks\": \"\", \"zerolinecolor\": \"white\", \"zerolinewidth\": 2}}}, \"title\": {\"text\": \"Most Popular Subreddits from Users in r/NYU\"}, \"xaxis\": {\"title\": {\"text\": \"Subreddit\"}}, \"yaxis\": {\"title\": {\"text\": \"Number of posts\"}}},\n",
       "                        {\"responsive\": true}\n",
       "                    ).then(function(){\n",
       "                            \n",
       "var gd = document.getElementById('680e3cf7-56dc-44d1-9adc-a23469c17288');\n",
       "var x = new MutationObserver(function (mutations, observer) {{\n",
       "        var display = window.getComputedStyle(gd).display;\n",
       "        if (!display || display === 'none') {{\n",
       "            console.log([gd, 'removed!']);\n",
       "            Plotly.purge(gd);\n",
       "            observer.disconnect();\n",
       "        }}\n",
       "}});\n",
       "\n",
       "// Listen for the removal of the full notebook cells\n",
       "var notebookContainer = gd.closest('#notebook-container');\n",
       "if (notebookContainer) {{\n",
       "    x.observe(notebookContainer, {childList: true});\n",
       "}}\n",
       "\n",
       "// Listen for the clearing of the current output cell\n",
       "var outputEl = gd.closest('.output');\n",
       "if (outputEl) {{\n",
       "    x.observe(outputEl, {childList: true});\n",
       "}}\n",
       "\n",
       "                        })\n",
       "                };\n",
       "                });\n",
       "            </script>\n",
       "        </div>"
      ]
     },
     "metadata": {},
     "output_type": "display_data"
    }
   ],
   "source": [
    "#list of defaults subreddits that users are subscribed to and the number of posts\n",
    "defaults = ['AskReddit','funny','pics','todayilearned','gaming','videos','IAmA','worldnews','news','aww','gifs','movies',\n",
    "'mildlyinteresting','Showerthoughts','Music','science','explainlikeimfive','LifeProTips','personalfinance']\n",
    "\n",
    "subreds = subreddits['subreddit'].value_counts().index.tolist()[:30]\n",
    "other_subred = subreddits['subreddit'].value_counts().tolist()\n",
    "other_user = subreddits['subreddit'].value_counts().index.tolist()\n",
    "\n",
    "c_def = 0\n",
    "c_oth = 0\n",
    "fig = go.Figure()\n",
    "for i, sub in enumerate(subreds) :\n",
    "    # add a new bar to the graph\n",
    "    fig.add_trace(go.Bar(\n",
    "        x=[sub],\n",
    "        y=[other_subred[i]],\n",
    "        name='Default Subreddits' if sub in defaults else 'Other',\n",
    "        marker_color='pink' if sub in defaults else 'blue',\n",
    "        showlegend=True if c_def == 0 and sub in defaults or c_oth == 0 and sub not in defaults else False,\n",
    "        legendgroup='pink' if sub in defaults else 'blue'\n",
    "    ))\n",
    "    c_def += 1 if sub in defaults else 0\n",
    "    c_oth += 1 if sub not in defaults else 0\n",
    "    \n",
    "# plot the graph\n",
    "fig.update_layout(yaxis_title=\"Number of posts\", xaxis_title=\"Subreddit\", title=\"Most Popular Subreddits from Users in r/NYU\")\n",
    "fig.show()"
   ]
  },
  {
   "cell_type": "code",
   "execution_count": 171,
   "metadata": {
    "scrolled": true
   },
   "outputs": [
    {
     "name": "stdout",
     "output_type": "stream",
     "text": [
      "Post about application 1483\n"
     ]
    }
   ],
   "source": [
    "#Investigate if NYU subreddit is filled with application posts\n",
    "#Approach 1: Naive Approach - Checking every words in the title\n",
    "common_words = ['application', 'essay', 'essays','ED1','EDII','admissions',\n",
    "                'acceptance', 'acceptance rate','Internal Transfer','Transfer',\n",
    "               'apply', 'applying', 'app','Application', 'applicant', \n",
    "                'applicants', 'apply to','ED', 'Chance me', 'Chances', \n",
    "                'ED 1','ED II','EDI']\n",
    "\n",
    "count = 0 \n",
    "titles = posts['title'].tolist()\n",
    "contents = posts['content'].tolist()\n",
    "\n",
    "#Creating a list with id to prevent duplicates values\n",
    "applications = list()\n",
    "\n",
    "#Check both title and content of post\n",
    "for index, row in posts.iterrows():\n",
    "    if any(word in row['title'] for word in common_words):\n",
    "        applications.append(row['id'])\n",
    "        count+=1\n",
    "        \n",
    "for index, row in posts.iterrows():\n",
    "    if row['id'] not in applications:\n",
    "        if any(word in row['content'] for word in common_words):\n",
    "            count+=1\n",
    "            \n",
    "#To Do: Plot this value against the number of posts in NYU subreddit        \n",
    "print('Post about application', str(count))\n",
    "\n"
   ]
  },
  {
   "cell_type": "code",
   "execution_count": 169,
   "metadata": {},
   "outputs": [
    {
     "data": {
      "text/html": [
       "<div>\n",
       "<style scoped>\n",
       "    .dataframe tbody tr th:only-of-type {\n",
       "        vertical-align: middle;\n",
       "    }\n",
       "\n",
       "    .dataframe tbody tr th {\n",
       "        vertical-align: top;\n",
       "    }\n",
       "\n",
       "    .dataframe thead th {\n",
       "        text-align: right;\n",
       "    }\n",
       "</style>\n",
       "<table border=\"1\" class=\"dataframe\">\n",
       "  <thead>\n",
       "    <tr style=\"text-align: right;\">\n",
       "      <th></th>\n",
       "      <th>id</th>\n",
       "      <th>name</th>\n",
       "      <th>url</th>\n",
       "      <th>title</th>\n",
       "      <th>content</th>\n",
       "      <th>score</th>\n",
       "      <th>created_utc</th>\n",
       "      <th>permalink</th>\n",
       "      <th>link_flair_text</th>\n",
       "    </tr>\n",
       "  </thead>\n",
       "  <tbody>\n",
       "    <tr>\n",
       "      <th>0</th>\n",
       "      <td>ehaes3</td>\n",
       "      <td>somedude297</td>\n",
       "      <td>https://www.reddit.com/r/nyu/comments/ehaes3/i...</td>\n",
       "      <td>Internal Transfer to Stern</td>\n",
       "      <td>What is the word count for the personal statem...</td>\n",
       "      <td>1</td>\n",
       "      <td>1.577649e+09</td>\n",
       "      <td>/r/nyu/comments/ehaes3/internal_transfer_to_st...</td>\n",
       "      <td>None</td>\n",
       "    </tr>\n",
       "    <tr>\n",
       "      <th>1</th>\n",
       "      <td>ehacsf</td>\n",
       "      <td>skt_fekar</td>\n",
       "      <td>https://www.reddit.com/r/nyu/comments/ehacsf/a...</td>\n",
       "      <td>Are electives generally harder than the requir...</td>\n",
       "      <td>I just took my last required course (Basic Alg...</td>\n",
       "      <td>1</td>\n",
       "      <td>1.577648e+09</td>\n",
       "      <td>/r/nyu/comments/ehacsf/are_electives_generally...</td>\n",
       "      <td>None</td>\n",
       "    </tr>\n",
       "    <tr>\n",
       "      <th>2</th>\n",
       "      <td>eha7dc</td>\n",
       "      <td>Funkphlex</td>\n",
       "      <td>https://v.redd.it/uqbufxdpgm741</td>\n",
       "      <td>BYOB-friendly New Years Eve Dance Party &amp; Vari...</td>\n",
       "      <td></td>\n",
       "      <td>6</td>\n",
       "      <td>1.577648e+09</td>\n",
       "      <td>/r/nyu/comments/eha7dc/byobfriendly_new_years_...</td>\n",
       "      <td>None</td>\n",
       "    </tr>\n",
       "    <tr>\n",
       "      <th>3</th>\n",
       "      <td>eh7v8h</td>\n",
       "      <td>sarampagnepapi</td>\n",
       "      <td>https://www.reddit.com/r/nyu/comments/eh7v8h/l...</td>\n",
       "      <td>last min photographers in manhattan?</td>\n",
       "      <td>im here until jan 1st and im looking for a sup...</td>\n",
       "      <td>1</td>\n",
       "      <td>1.577637e+09</td>\n",
       "      <td>/r/nyu/comments/eh7v8h/last_min_photographers_...</td>\n",
       "      <td>None</td>\n",
       "    </tr>\n",
       "    <tr>\n",
       "      <th>4</th>\n",
       "      <td>eh7hnm</td>\n",
       "      <td>jerseyskies</td>\n",
       "      <td>https://www.reddit.com/r/nyu/comments/eh7hnm/i...</td>\n",
       "      <td>is it okay if i tuen in my film portfolio today?</td>\n",
       "      <td>i know they said at least 2 weeks prior to the...</td>\n",
       "      <td>1</td>\n",
       "      <td>1.577635e+09</td>\n",
       "      <td>/r/nyu/comments/eh7hnm/is_it_okay_if_i_tuen_in...</td>\n",
       "      <td>None</td>\n",
       "    </tr>\n",
       "    <tr>\n",
       "      <th>...</th>\n",
       "      <td>...</td>\n",
       "      <td>...</td>\n",
       "      <td>...</td>\n",
       "      <td>...</td>\n",
       "      <td>...</td>\n",
       "      <td>...</td>\n",
       "      <td>...</td>\n",
       "      <td>...</td>\n",
       "      <td>...</td>\n",
       "    </tr>\n",
       "    <tr>\n",
       "      <th>4819</th>\n",
       "      <td>eojaf</td>\n",
       "      <td>Hellapeno</td>\n",
       "      <td>https://www.reddit.com/r/nyu/comments/eojaf/ar...</td>\n",
       "      <td>Are you a Flash programmer or do you know a Fl...</td>\n",
       "      <td>\\n\\nI've really been focusing on improving my ...</td>\n",
       "      <td>2</td>\n",
       "      <td>1.292809e+09</td>\n",
       "      <td>/r/nyu/comments/eojaf/are_you_a_flash_programm...</td>\n",
       "      <td>None</td>\n",
       "    </tr>\n",
       "    <tr>\n",
       "      <th>4820</th>\n",
       "      <td>ej8a1</td>\n",
       "      <td>sallyNYU</td>\n",
       "      <td>https://www.reddit.com/r/nyu/comments/ej8a1/pr...</td>\n",
       "      <td>Procrastination from Finals!</td>\n",
       "      <td>I am procrastinating from completing my finals...</td>\n",
       "      <td>4</td>\n",
       "      <td>1.291939e+09</td>\n",
       "      <td>/r/nyu/comments/ej8a1/procrastination_from_fin...</td>\n",
       "      <td>None</td>\n",
       "    </tr>\n",
       "    <tr>\n",
       "      <th>4821</th>\n",
       "      <td>egcla</td>\n",
       "      <td>TODizzle91</td>\n",
       "      <td>https://www.reddit.com/r/nyu/comments/egcla/so...</td>\n",
       "      <td>So, I go to Stevens in Hoboken...</td>\n",
       "      <td>I stopped by early last year and talked to som...</td>\n",
       "      <td>4</td>\n",
       "      <td>1.291512e+09</td>\n",
       "      <td>/r/nyu/comments/egcla/so_i_go_to_stevens_in_ho...</td>\n",
       "      <td>None</td>\n",
       "    </tr>\n",
       "    <tr>\n",
       "      <th>4822</th>\n",
       "      <td>ee7am</td>\n",
       "      <td>YouBestBeTrollin</td>\n",
       "      <td>https://www.reddit.com/r/nyu/comments/ee7am/ar...</td>\n",
       "      <td>Are most of you rich?</td>\n",
       "      <td>NYU is a rather expensive school, are most of ...</td>\n",
       "      <td>1</td>\n",
       "      <td>1.291164e+09</td>\n",
       "      <td>/r/nyu/comments/ee7am/are_most_of_you_rich/</td>\n",
       "      <td>None</td>\n",
       "    </tr>\n",
       "    <tr>\n",
       "      <th>4823</th>\n",
       "      <td>ecwp1</td>\n",
       "      <td>no_pun_intendid</td>\n",
       "      <td>https://www.reddit.com/r/nyu/comments/ecwp1/no...</td>\n",
       "      <td>No NYU love?</td>\n",
       "      <td>Where are all my Violets?</td>\n",
       "      <td>5</td>\n",
       "      <td>1.290965e+09</td>\n",
       "      <td>/r/nyu/comments/ecwp1/no_nyu_love/</td>\n",
       "      <td>None</td>\n",
       "    </tr>\n",
       "  </tbody>\n",
       "</table>\n",
       "<p>4824 rows × 9 columns</p>\n",
       "</div>"
      ],
      "text/plain": [
       "          id              name  \\\n",
       "0     ehaes3       somedude297   \n",
       "1     ehacsf         skt_fekar   \n",
       "2     eha7dc         Funkphlex   \n",
       "3     eh7v8h    sarampagnepapi   \n",
       "4     eh7hnm       jerseyskies   \n",
       "...      ...               ...   \n",
       "4819   eojaf         Hellapeno   \n",
       "4820   ej8a1          sallyNYU   \n",
       "4821   egcla        TODizzle91   \n",
       "4822   ee7am  YouBestBeTrollin   \n",
       "4823   ecwp1   no_pun_intendid   \n",
       "\n",
       "                                                    url  \\\n",
       "0     https://www.reddit.com/r/nyu/comments/ehaes3/i...   \n",
       "1     https://www.reddit.com/r/nyu/comments/ehacsf/a...   \n",
       "2                       https://v.redd.it/uqbufxdpgm741   \n",
       "3     https://www.reddit.com/r/nyu/comments/eh7v8h/l...   \n",
       "4     https://www.reddit.com/r/nyu/comments/eh7hnm/i...   \n",
       "...                                                 ...   \n",
       "4819  https://www.reddit.com/r/nyu/comments/eojaf/ar...   \n",
       "4820  https://www.reddit.com/r/nyu/comments/ej8a1/pr...   \n",
       "4821  https://www.reddit.com/r/nyu/comments/egcla/so...   \n",
       "4822  https://www.reddit.com/r/nyu/comments/ee7am/ar...   \n",
       "4823  https://www.reddit.com/r/nyu/comments/ecwp1/no...   \n",
       "\n",
       "                                                  title  \\\n",
       "0                            Internal Transfer to Stern   \n",
       "1     Are electives generally harder than the requir...   \n",
       "2     BYOB-friendly New Years Eve Dance Party & Vari...   \n",
       "3                  last min photographers in manhattan?   \n",
       "4      is it okay if i tuen in my film portfolio today?   \n",
       "...                                                 ...   \n",
       "4819  Are you a Flash programmer or do you know a Fl...   \n",
       "4820                       Procrastination from Finals!   \n",
       "4821                  So, I go to Stevens in Hoboken...   \n",
       "4822                              Are most of you rich?   \n",
       "4823                                       No NYU love?   \n",
       "\n",
       "                                                content  score   created_utc  \\\n",
       "0     What is the word count for the personal statem...      1  1.577649e+09   \n",
       "1     I just took my last required course (Basic Alg...      1  1.577648e+09   \n",
       "2                                                            6  1.577648e+09   \n",
       "3     im here until jan 1st and im looking for a sup...      1  1.577637e+09   \n",
       "4     i know they said at least 2 weeks prior to the...      1  1.577635e+09   \n",
       "...                                                 ...    ...           ...   \n",
       "4819  \\n\\nI've really been focusing on improving my ...      2  1.292809e+09   \n",
       "4820  I am procrastinating from completing my finals...      4  1.291939e+09   \n",
       "4821  I stopped by early last year and talked to som...      4  1.291512e+09   \n",
       "4822  NYU is a rather expensive school, are most of ...      1  1.291164e+09   \n",
       "4823                          Where are all my Violets?      5  1.290965e+09   \n",
       "\n",
       "                                              permalink link_flair_text  \n",
       "0     /r/nyu/comments/ehaes3/internal_transfer_to_st...            None  \n",
       "1     /r/nyu/comments/ehacsf/are_electives_generally...            None  \n",
       "2     /r/nyu/comments/eha7dc/byobfriendly_new_years_...            None  \n",
       "3     /r/nyu/comments/eh7v8h/last_min_photographers_...            None  \n",
       "4     /r/nyu/comments/eh7hnm/is_it_okay_if_i_tuen_in...            None  \n",
       "...                                                 ...             ...  \n",
       "4819  /r/nyu/comments/eojaf/are_you_a_flash_programm...            None  \n",
       "4820  /r/nyu/comments/ej8a1/procrastination_from_fin...            None  \n",
       "4821  /r/nyu/comments/egcla/so_i_go_to_stevens_in_ho...            None  \n",
       "4822        /r/nyu/comments/ee7am/are_most_of_you_rich/            None  \n",
       "4823                 /r/nyu/comments/ecwp1/no_nyu_love/            None  \n",
       "\n",
       "[4824 rows x 9 columns]"
      ]
     },
     "execution_count": 169,
     "metadata": {},
     "output_type": "execute_result"
    }
   ],
   "source": [
    "#How many time is Stern mentions in both posts and comments\n",
    "words = ['Stern','stern','sternie']\n",
    "post_count = 0\n",
    "comment_count = 0\n",
    "posts_stern = posts['content'].tolist()\n",
    "for content in contents:\n",
    "    if any(word in content for word in words):\n",
    "        post_count += 1\n",
    "comments_stern = comments['content'].tolist()\n",
    "for comment in comments_stern:\n",
    "    if any(word in comment for word in words):\n",
    "        comment_count += 1\n",
    "        \n",
    "print(str(post_count), 'Post about Stern and ', str(comment_count), 'Comments about Stern')"
   ]
  },
  {
   "cell_type": "code",
   "execution_count": null,
   "metadata": {},
   "outputs": [],
   "source": []
  },
  {
   "cell_type": "code",
   "execution_count": 318,
   "metadata": {},
   "outputs": [],
   "source": [
    "#Approach 2: Using NLTK library\n",
    "stopword = set(stopwords.words('english'))\n",
    "\n",
    "def clear_filler(content):\n",
    "    word_token = word_tokenize(content)\n",
    "    sentence = [w for w in word_token if not w in stopword] \n",
    "    return ' '.join(sentence)"
   ]
  },
  {
   "cell_type": "code",
   "execution_count": 184,
   "metadata": {},
   "outputs": [],
   "source": [
    "#Cleaning up the title and content and added as a new column in the dataframe\n",
    "title_clean = posts['title'].apply(clear_filler)\n",
    "content_clean = posts['content'].apply(clear_filler)\n",
    "\n",
    "posts['doc'] = title_clean.map(str) + ' ' + content_clean"
   ]
  },
  {
   "cell_type": "code",
   "execution_count": null,
   "metadata": {},
   "outputs": [],
   "source": []
  },
  {
   "cell_type": "code",
   "execution_count": 189,
   "metadata": {},
   "outputs": [
    {
     "data": {
      "text/html": [
       "<div>\n",
       "<style scoped>\n",
       "    .dataframe tbody tr th:only-of-type {\n",
       "        vertical-align: middle;\n",
       "    }\n",
       "\n",
       "    .dataframe tbody tr th {\n",
       "        vertical-align: top;\n",
       "    }\n",
       "\n",
       "    .dataframe thead th {\n",
       "        text-align: right;\n",
       "    }\n",
       "</style>\n",
       "<table border=\"1\" class=\"dataframe\">\n",
       "  <thead>\n",
       "    <tr style=\"text-align: right;\">\n",
       "      <th></th>\n",
       "      <th>id</th>\n",
       "      <th>name</th>\n",
       "      <th>url</th>\n",
       "      <th>title</th>\n",
       "      <th>content</th>\n",
       "      <th>score</th>\n",
       "      <th>created_utc</th>\n",
       "      <th>permalink</th>\n",
       "      <th>link_flair_text</th>\n",
       "      <th>doc</th>\n",
       "    </tr>\n",
       "  </thead>\n",
       "  <tbody>\n",
       "    <tr>\n",
       "      <th>0</th>\n",
       "      <td>ehaes3</td>\n",
       "      <td>somedude297</td>\n",
       "      <td>https://www.reddit.com/r/nyu/comments/ehaes3/i...</td>\n",
       "      <td>Internal Transfer to Stern</td>\n",
       "      <td>What is the word count for the personal statem...</td>\n",
       "      <td>1</td>\n",
       "      <td>1.577649e+09</td>\n",
       "      <td>/r/nyu/comments/ehaes3/internal_transfer_to_st...</td>\n",
       "      <td>None</td>\n",
       "      <td>Internal Transfer Stern What word count person...</td>\n",
       "    </tr>\n",
       "    <tr>\n",
       "      <th>1</th>\n",
       "      <td>ehacsf</td>\n",
       "      <td>skt_fekar</td>\n",
       "      <td>https://www.reddit.com/r/nyu/comments/ehacsf/a...</td>\n",
       "      <td>Are electives generally harder than the requir...</td>\n",
       "      <td>I just took my last required course (Basic Alg...</td>\n",
       "      <td>1</td>\n",
       "      <td>1.577648e+09</td>\n",
       "      <td>/r/nyu/comments/ehacsf/are_electives_generally...</td>\n",
       "      <td>None</td>\n",
       "      <td>Are electives generally harder required course...</td>\n",
       "    </tr>\n",
       "    <tr>\n",
       "      <th>2</th>\n",
       "      <td>eha7dc</td>\n",
       "      <td>Funkphlex</td>\n",
       "      <td>https://v.redd.it/uqbufxdpgm741</td>\n",
       "      <td>BYOB-friendly New Years Eve Dance Party &amp; Vari...</td>\n",
       "      <td></td>\n",
       "      <td>6</td>\n",
       "      <td>1.577648e+09</td>\n",
       "      <td>/r/nyu/comments/eha7dc/byobfriendly_new_years_...</td>\n",
       "      <td>None</td>\n",
       "      <td>BYOB-friendly New Years Eve Dance Party &amp; Vari...</td>\n",
       "    </tr>\n",
       "    <tr>\n",
       "      <th>3</th>\n",
       "      <td>eh7v8h</td>\n",
       "      <td>sarampagnepapi</td>\n",
       "      <td>https://www.reddit.com/r/nyu/comments/eh7v8h/l...</td>\n",
       "      <td>last min photographers in manhattan?</td>\n",
       "      <td>im here until jan 1st and im looking for a sup...</td>\n",
       "      <td>1</td>\n",
       "      <td>1.577637e+09</td>\n",
       "      <td>/r/nyu/comments/eh7v8h/last_min_photographers_...</td>\n",
       "      <td>None</td>\n",
       "      <td>last min photographers manhattan ? im jan 1st ...</td>\n",
       "    </tr>\n",
       "    <tr>\n",
       "      <th>4</th>\n",
       "      <td>eh7hnm</td>\n",
       "      <td>jerseyskies</td>\n",
       "      <td>https://www.reddit.com/r/nyu/comments/eh7hnm/i...</td>\n",
       "      <td>is it okay if i tuen in my film portfolio today?</td>\n",
       "      <td>i know they said at least 2 weeks prior to the...</td>\n",
       "      <td>1</td>\n",
       "      <td>1.577635e+09</td>\n",
       "      <td>/r/nyu/comments/eh7hnm/is_it_okay_if_i_tuen_in...</td>\n",
       "      <td>None</td>\n",
       "      <td>okay tuen film portfolio today ? know said lea...</td>\n",
       "    </tr>\n",
       "    <tr>\n",
       "      <th>...</th>\n",
       "      <td>...</td>\n",
       "      <td>...</td>\n",
       "      <td>...</td>\n",
       "      <td>...</td>\n",
       "      <td>...</td>\n",
       "      <td>...</td>\n",
       "      <td>...</td>\n",
       "      <td>...</td>\n",
       "      <td>...</td>\n",
       "      <td>...</td>\n",
       "    </tr>\n",
       "    <tr>\n",
       "      <th>4819</th>\n",
       "      <td>eojaf</td>\n",
       "      <td>Hellapeno</td>\n",
       "      <td>https://www.reddit.com/r/nyu/comments/eojaf/ar...</td>\n",
       "      <td>Are you a Flash programmer or do you know a Fl...</td>\n",
       "      <td>\\n\\nI've really been focusing on improving my ...</td>\n",
       "      <td>2</td>\n",
       "      <td>1.292809e+09</td>\n",
       "      <td>/r/nyu/comments/eojaf/are_you_a_flash_programm...</td>\n",
       "      <td>None</td>\n",
       "      <td>Are Flash programmer know Flash programmer wou...</td>\n",
       "    </tr>\n",
       "    <tr>\n",
       "      <th>4820</th>\n",
       "      <td>ej8a1</td>\n",
       "      <td>sallyNYU</td>\n",
       "      <td>https://www.reddit.com/r/nyu/comments/ej8a1/pr...</td>\n",
       "      <td>Procrastination from Finals!</td>\n",
       "      <td>I am procrastinating from completing my finals...</td>\n",
       "      <td>4</td>\n",
       "      <td>1.291939e+09</td>\n",
       "      <td>/r/nyu/comments/ej8a1/procrastination_from_fin...</td>\n",
       "      <td>None</td>\n",
       "      <td>Procrastination Finals ! I procrastinating com...</td>\n",
       "    </tr>\n",
       "    <tr>\n",
       "      <th>4821</th>\n",
       "      <td>egcla</td>\n",
       "      <td>TODizzle91</td>\n",
       "      <td>https://www.reddit.com/r/nyu/comments/egcla/so...</td>\n",
       "      <td>So, I go to Stevens in Hoboken...</td>\n",
       "      <td>I stopped by early last year and talked to som...</td>\n",
       "      <td>4</td>\n",
       "      <td>1.291512e+09</td>\n",
       "      <td>/r/nyu/comments/egcla/so_i_go_to_stevens_in_ho...</td>\n",
       "      <td>None</td>\n",
       "      <td>So , I go Stevens Hoboken ... I stopped early ...</td>\n",
       "    </tr>\n",
       "    <tr>\n",
       "      <th>4822</th>\n",
       "      <td>ee7am</td>\n",
       "      <td>YouBestBeTrollin</td>\n",
       "      <td>https://www.reddit.com/r/nyu/comments/ee7am/ar...</td>\n",
       "      <td>Are most of you rich?</td>\n",
       "      <td>NYU is a rather expensive school, are most of ...</td>\n",
       "      <td>1</td>\n",
       "      <td>1.291164e+09</td>\n",
       "      <td>/r/nyu/comments/ee7am/are_most_of_you_rich/</td>\n",
       "      <td>None</td>\n",
       "      <td>Are rich ? NYU rather expensive school , folks...</td>\n",
       "    </tr>\n",
       "    <tr>\n",
       "      <th>4823</th>\n",
       "      <td>ecwp1</td>\n",
       "      <td>no_pun_intendid</td>\n",
       "      <td>https://www.reddit.com/r/nyu/comments/ecwp1/no...</td>\n",
       "      <td>No NYU love?</td>\n",
       "      <td>Where are all my Violets?</td>\n",
       "      <td>5</td>\n",
       "      <td>1.290965e+09</td>\n",
       "      <td>/r/nyu/comments/ecwp1/no_nyu_love/</td>\n",
       "      <td>None</td>\n",
       "      <td>No NYU love ? Where Violets ?</td>\n",
       "    </tr>\n",
       "  </tbody>\n",
       "</table>\n",
       "<p>4824 rows × 10 columns</p>\n",
       "</div>"
      ],
      "text/plain": [
       "          id              name  \\\n",
       "0     ehaes3       somedude297   \n",
       "1     ehacsf         skt_fekar   \n",
       "2     eha7dc         Funkphlex   \n",
       "3     eh7v8h    sarampagnepapi   \n",
       "4     eh7hnm       jerseyskies   \n",
       "...      ...               ...   \n",
       "4819   eojaf         Hellapeno   \n",
       "4820   ej8a1          sallyNYU   \n",
       "4821   egcla        TODizzle91   \n",
       "4822   ee7am  YouBestBeTrollin   \n",
       "4823   ecwp1   no_pun_intendid   \n",
       "\n",
       "                                                    url  \\\n",
       "0     https://www.reddit.com/r/nyu/comments/ehaes3/i...   \n",
       "1     https://www.reddit.com/r/nyu/comments/ehacsf/a...   \n",
       "2                       https://v.redd.it/uqbufxdpgm741   \n",
       "3     https://www.reddit.com/r/nyu/comments/eh7v8h/l...   \n",
       "4     https://www.reddit.com/r/nyu/comments/eh7hnm/i...   \n",
       "...                                                 ...   \n",
       "4819  https://www.reddit.com/r/nyu/comments/eojaf/ar...   \n",
       "4820  https://www.reddit.com/r/nyu/comments/ej8a1/pr...   \n",
       "4821  https://www.reddit.com/r/nyu/comments/egcla/so...   \n",
       "4822  https://www.reddit.com/r/nyu/comments/ee7am/ar...   \n",
       "4823  https://www.reddit.com/r/nyu/comments/ecwp1/no...   \n",
       "\n",
       "                                                  title  \\\n",
       "0                            Internal Transfer to Stern   \n",
       "1     Are electives generally harder than the requir...   \n",
       "2     BYOB-friendly New Years Eve Dance Party & Vari...   \n",
       "3                  last min photographers in manhattan?   \n",
       "4      is it okay if i tuen in my film portfolio today?   \n",
       "...                                                 ...   \n",
       "4819  Are you a Flash programmer or do you know a Fl...   \n",
       "4820                       Procrastination from Finals!   \n",
       "4821                  So, I go to Stevens in Hoboken...   \n",
       "4822                              Are most of you rich?   \n",
       "4823                                       No NYU love?   \n",
       "\n",
       "                                                content  score   created_utc  \\\n",
       "0     What is the word count for the personal statem...      1  1.577649e+09   \n",
       "1     I just took my last required course (Basic Alg...      1  1.577648e+09   \n",
       "2                                                            6  1.577648e+09   \n",
       "3     im here until jan 1st and im looking for a sup...      1  1.577637e+09   \n",
       "4     i know they said at least 2 weeks prior to the...      1  1.577635e+09   \n",
       "...                                                 ...    ...           ...   \n",
       "4819  \\n\\nI've really been focusing on improving my ...      2  1.292809e+09   \n",
       "4820  I am procrastinating from completing my finals...      4  1.291939e+09   \n",
       "4821  I stopped by early last year and talked to som...      4  1.291512e+09   \n",
       "4822  NYU is a rather expensive school, are most of ...      1  1.291164e+09   \n",
       "4823                          Where are all my Violets?      5  1.290965e+09   \n",
       "\n",
       "                                              permalink link_flair_text  \\\n",
       "0     /r/nyu/comments/ehaes3/internal_transfer_to_st...            None   \n",
       "1     /r/nyu/comments/ehacsf/are_electives_generally...            None   \n",
       "2     /r/nyu/comments/eha7dc/byobfriendly_new_years_...            None   \n",
       "3     /r/nyu/comments/eh7v8h/last_min_photographers_...            None   \n",
       "4     /r/nyu/comments/eh7hnm/is_it_okay_if_i_tuen_in...            None   \n",
       "...                                                 ...             ...   \n",
       "4819  /r/nyu/comments/eojaf/are_you_a_flash_programm...            None   \n",
       "4820  /r/nyu/comments/ej8a1/procrastination_from_fin...            None   \n",
       "4821  /r/nyu/comments/egcla/so_i_go_to_stevens_in_ho...            None   \n",
       "4822        /r/nyu/comments/ee7am/are_most_of_you_rich/            None   \n",
       "4823                 /r/nyu/comments/ecwp1/no_nyu_love/            None   \n",
       "\n",
       "                                                    doc  \n",
       "0     Internal Transfer Stern What word count person...  \n",
       "1     Are electives generally harder required course...  \n",
       "2     BYOB-friendly New Years Eve Dance Party & Vari...  \n",
       "3     last min photographers manhattan ? im jan 1st ...  \n",
       "4     okay tuen film portfolio today ? know said lea...  \n",
       "...                                                 ...  \n",
       "4819  Are Flash programmer know Flash programmer wou...  \n",
       "4820  Procrastination Finals ! I procrastinating com...  \n",
       "4821  So , I go Stevens Hoboken ... I stopped early ...  \n",
       "4822  Are rich ? NYU rather expensive school , folks...  \n",
       "4823                      No NYU love ? Where Violets ?  \n",
       "\n",
       "[4824 rows x 10 columns]"
      ]
     },
     "execution_count": 189,
     "metadata": {},
     "output_type": "execute_result"
    }
   ],
   "source": [
    "titles = posts['title'].tolist()\n",
    "docs = posts['doc'].tolist()\n",
    "\n",
    "vectorizer = TfidfVectorizer(stop_words='english')\n",
    "X = vectorizer.fit_transform(docs)\n",
    "posts_tfidf = pd.DataFrame(X.T.todense(), index=vectorizer.get_feature_names(), columns = titles)\n",
    "\n",
    "posts"
   ]
  },
  {
   "cell_type": "code",
   "execution_count": 204,
   "metadata": {
    "scrolled": true
   },
   "outputs": [
    {
     "name": "stdout",
     "output_type": "stream",
     "text": [
      "Top terms per cluster:\n",
      "Cluster 0:\n",
      " game\n",
      " library\n",
      " bobst\n",
      " design\n",
      " nyu\n",
      " center\n",
      " access\n",
      " play\n",
      " games\n",
      " hey\n",
      "Cluster 1:\n",
      " nyu\n",
      " know\n",
      " does\n",
      " student\n",
      " wondering\n",
      " thanks\n",
      " like\n",
      " year\n",
      " school\n",
      " going\n",
      "Cluster 2:\n",
      " survey\n",
      " com\n",
      " https\n",
      " www\n",
      " help\n",
      " forms\n",
      " nyu\n",
      " qualtrics\n",
      " jfe\n",
      " link\n",
      "Cluster 3:\n",
      " campus\n",
      " housing\n",
      " room\n",
      " live\n",
      " dorm\n",
      " living\n",
      " looking\n",
      " nyu\n",
      " freshman\n",
      " bed\n",
      "Cluster 4:\n",
      " school\n",
      " nyu\n",
      " program\n",
      " transfer\n",
      " tisch\n",
      " film\n",
      " like\n",
      " major\n",
      " know\n",
      " want\n",
      "Cluster 5:\n",
      " stern\n",
      " transfer\n",
      " nyu\n",
      " business\n",
      " cas\n",
      " major\n",
      " applying\n",
      " econ\n",
      " apply\n",
      " ed\n",
      "Cluster 6:\n",
      " students\n",
      " nyu\n",
      " student\n",
      " current\n",
      " program\n",
      " know\n",
      " college\n",
      " free\n",
      " wondering\n",
      " new\n",
      "Cluster 7:\n",
      " know\n",
      " nyu\n",
      " new\n",
      " like\n",
      " looking\n",
      " people\n",
      " thanks\n",
      " does\n",
      " need\n",
      " interested\n",
      "Cluster 8:\n",
      " summer\n",
      " housing\n",
      " nyu\n",
      " sublet\n",
      " looking\n",
      " apartment\n",
      " staying\n",
      " hall\n",
      " nyc\n",
      " internship\n",
      "Cluster 9:\n",
      " sat\n",
      " gpa\n",
      " school\n",
      " ap\n",
      " high\n",
      " scores\n",
      " nyu\n",
      " score\n",
      " year\n",
      " ib\n",
      "Cluster 10:\n",
      " aid\n",
      " financial\n",
      " nyu\n",
      " package\n",
      " got\n",
      " scholarships\n",
      " international\n",
      " scholarship\n",
      " question\n",
      " decision\n",
      "Cluster 11:\n",
      " removed\n",
      " nyu\n",
      " free\n",
      " students\n",
      " looking\n",
      " college\n",
      " help\n",
      " paid\n",
      " girls\n",
      " student\n",
      "Cluster 12:\n",
      " study\n",
      " abroad\n",
      " program\n",
      " studies\n",
      " liberal\n",
      " studying\n",
      " london\n",
      " nyu\n",
      " work\n",
      " year\n",
      "Cluster 13:\n",
      " tandon\n",
      " cs\n",
      " nyu\n",
      " cas\n",
      " engineering\n",
      " computer\n",
      " science\n",
      " major\n",
      " program\n",
      " school\n",
      "Cluster 14:\n",
      " class\n",
      " classes\n",
      " course\n",
      " semester\n",
      " courses\n",
      " taken\n",
      " taking\n",
      " credit\n",
      " professor\n",
      " freshman\n"
     ]
    }
   ],
   "source": [
    "# using KMeans, cluster the data into a set number of categories\n",
    "true_k = 15\n",
    "r = 728 # KMeans is non-deterministic unless we specify the random seed\n",
    "model = KMeans(n_clusters=true_k, init='k-means++', max_iter=100, n_init=1, random_state = r)\n",
    "\n",
    "# fit the model\n",
    "model.fit(X)\n",
    "print(\"Top terms per cluster:\")\n",
    "order_centroids = model.cluster_centers_.argsort()[:, ::-1]\n",
    "terms = vectorizer.get_feature_names()\n",
    "for i in range(true_k):\n",
    "    print(\"Cluster %d:\" % i),\n",
    "    for ind in order_centroids[i, :10]:\n",
    "        print(' %s' % terms[ind])\n",
    "    \n",
    "# # free up extra space\n",
    "# del df_post_tfidf"
   ]
  },
  {
   "cell_type": "code",
   "execution_count": 217,
   "metadata": {
    "scrolled": true
   },
   "outputs": [],
   "source": [
    "cluster_names = {0: 'game', 1: 'NYU ', 2: 'random', 3: 'Housing', \n",
    "                 4: 'School/Transfer', 5: 'Stern/Transfer', 6: 'NYU program/students', 7: 'New Experience/People',\n",
    "                 8: 'Summer Housing/Internship', 9:'Application (high school student)', 10: 'Financial Aid',\n",
    "                11:'Study Abroad',12:'CS CAS/Tandon', 13:'Course Information'}"
   ]
  },
  {
   "cell_type": "code",
   "execution_count": 218,
   "metadata": {},
   "outputs": [],
   "source": [
    "# Unwraps the prediction from the model and looks up the category string in the dictionary, as well as grouping\n",
    "# classifications with similar characteristics.\n",
    "def classify(post) :\n",
    "    Y = vectorizer.transform([post])\n",
    "    prediction = model.predict(Y)[0]\n",
    "    if prediction == 13 :\n",
    "        prediction = 12\n",
    "    if prediction > 13:\n",
    "        prediction = 13\n",
    "    return prediction"
   ]
  },
  {
   "cell_type": "code",
   "execution_count": 219,
   "metadata": {},
   "outputs": [
    {
     "name": "stdout",
     "output_type": "stream",
     "text": [
      "\n",
      "~~~~~~~~~~ game ~~~~~~~~~~\n",
      "\n",
      "~~~~~~~~~~ NYU  ~~~~~~~~~~\n",
      "NYU alumni, how is the alumni network for getting jobs?\n",
      "Prospective student here with some questions!\n",
      "Different between NYU and NYU School of Professional studies?\n",
      "\n",
      "~~~~~~~~~~ random ~~~~~~~~~~\n",
      "Entrepreneurship Idea - Quick Survey (Looking for NYU Students)\n",
      "CAPSTONE PROJECT HELP NEEDED\n",
      "\"Better Than We Are\" - A Dark Comedy by Metaphysics Exam Productions\n",
      "\n",
      "~~~~~~~~~~ Housing ~~~~~~~~~~\n",
      "Choosing a freshman dorm\n",
      "Honestly: Is the female to straight-guy ratio really as bad as everyone makes it out to be?\n",
      "Sophomore Transfer: Dorm Recommendations?\n",
      "\n",
      "~~~~~~~~~~ School/Transfer ~~~~~~~~~~\n",
      "Actor looking for NYU film students\n",
      "Dramatic Writing Masters Advice\n",
      "Tisch Internal Transfer\n",
      "\n",
      "~~~~~~~~~~ Stern/Transfer ~~~~~~~~~~\n",
      "\n",
      "~~~~~~~~~~ NYU program/students ~~~~~~~~~~\n",
      "NYU Nightlife\n",
      "NYC ID\n",
      "Portal changes\n",
      "\n",
      "~~~~~~~~~~ New Experience/People ~~~~~~~~~~\n",
      "Anyone down to see Star Slinger and Bondax on Dec 5th?\n",
      "NYC to add solar technology on pay phones\n",
      "To the NYU students on the overnight from Nairobi to JFK: you were a fucking embarrassment and disgrace.\n",
      "How did you afford to go to NYU?\n",
      "NSFW and odd\n",
      "Found scholarship for a year of free parking?\n",
      "LUXURY BRANDS & SOCIAL NETWORKS: my master thesis on perception of different levels of luxury . purpose: exploring new effective online business strategies for brands.please, I need all your help!\n",
      "Through a series of experiments in the Polytechnic Institute of New York, a robotic fish ended up becoming the leader of a school of live fish. (X-Post from /r/todayilearned)\n",
      "Intro to Web Design Placement Exam?\n",
      "There's a new Ms. Pacman Record in Brittany Hall.\n",
      "Top that.\n",
      "Best things to stress eat?\n",
      "In CAS do you NEED to have a minor in order to graduate?\n",
      "\n",
      "~~~~~~~~~~ Summer Housing/Internship ~~~~~~~~~~\n",
      "Internships/Jobs\n"
     ]
    }
   ],
   "source": [
    "#Note to self: A bit dirty data\n",
    "#create random sample of dataframe\n",
    "sample = posts.sample(n=40)\n",
    "header_str = '~~~~~~~~~~'\n",
    "#sample = df\n",
    "pred = []\n",
    "#add column for the prediction to the dataframe\n",
    "for row in sample.iterrows() : \n",
    "    pred.append(classify(row[1]['doc']))\n",
    "sample['pred'] = pred\n",
    "#display sample posts by subject\n",
    "for i in range(0,9) :\n",
    "        print()\n",
    "        print(header_str,cluster_names[i],header_str)\n",
    "        sub = sample[sample['pred'] == i]\n",
    "        for row in sub.iterrows() :\n",
    "            print(row[1]['title'])"
   ]
  },
  {
   "cell_type": "code",
   "execution_count": 222,
   "metadata": {},
   "outputs": [
    {
     "data": {
      "text/html": [
       "<div>\n",
       "<style scoped>\n",
       "    .dataframe tbody tr th:only-of-type {\n",
       "        vertical-align: middle;\n",
       "    }\n",
       "\n",
       "    .dataframe tbody tr th {\n",
       "        vertical-align: top;\n",
       "    }\n",
       "\n",
       "    .dataframe thead th {\n",
       "        text-align: right;\n",
       "    }\n",
       "</style>\n",
       "<table border=\"1\" class=\"dataframe\">\n",
       "  <thead>\n",
       "    <tr style=\"text-align: right;\">\n",
       "      <th></th>\n",
       "      <th>id</th>\n",
       "      <th>name</th>\n",
       "      <th>url</th>\n",
       "      <th>title</th>\n",
       "      <th>content</th>\n",
       "      <th>score</th>\n",
       "      <th>created_utc</th>\n",
       "      <th>permalink</th>\n",
       "      <th>link_flair_text</th>\n",
       "      <th>class</th>\n",
       "    </tr>\n",
       "  </thead>\n",
       "  <tbody>\n",
       "    <tr>\n",
       "      <th>0</th>\n",
       "      <td>ehaes3</td>\n",
       "      <td>somedude297</td>\n",
       "      <td>https://www.reddit.com/r/nyu/comments/ehaes3/i...</td>\n",
       "      <td>Internal Transfer to Stern</td>\n",
       "      <td>What is the word count for the personal statem...</td>\n",
       "      <td>1</td>\n",
       "      <td>1.577649e+09</td>\n",
       "      <td>/r/nyu/comments/ehaes3/internal_transfer_to_st...</td>\n",
       "      <td>None</td>\n",
       "      <td>Stern/Transfer</td>\n",
       "    </tr>\n",
       "    <tr>\n",
       "      <th>1</th>\n",
       "      <td>ehacsf</td>\n",
       "      <td>skt_fekar</td>\n",
       "      <td>https://www.reddit.com/r/nyu/comments/ehacsf/a...</td>\n",
       "      <td>Are electives generally harder than the requir...</td>\n",
       "      <td>I just took my last required course (Basic Alg...</td>\n",
       "      <td>1</td>\n",
       "      <td>1.577648e+09</td>\n",
       "      <td>/r/nyu/comments/ehacsf/are_electives_generally...</td>\n",
       "      <td>None</td>\n",
       "      <td>Course Information</td>\n",
       "    </tr>\n",
       "    <tr>\n",
       "      <th>2</th>\n",
       "      <td>eha7dc</td>\n",
       "      <td>Funkphlex</td>\n",
       "      <td>https://v.redd.it/uqbufxdpgm741</td>\n",
       "      <td>BYOB-friendly New Years Eve Dance Party &amp; Vari...</td>\n",
       "      <td></td>\n",
       "      <td>6</td>\n",
       "      <td>1.577648e+09</td>\n",
       "      <td>/r/nyu/comments/eha7dc/byobfriendly_new_years_...</td>\n",
       "      <td>None</td>\n",
       "      <td>New Experience/People</td>\n",
       "    </tr>\n",
       "    <tr>\n",
       "      <th>3</th>\n",
       "      <td>eh7v8h</td>\n",
       "      <td>sarampagnepapi</td>\n",
       "      <td>https://www.reddit.com/r/nyu/comments/eh7v8h/l...</td>\n",
       "      <td>last min photographers in manhattan?</td>\n",
       "      <td>im here until jan 1st and im looking for a sup...</td>\n",
       "      <td>1</td>\n",
       "      <td>1.577637e+09</td>\n",
       "      <td>/r/nyu/comments/eh7v8h/last_min_photographers_...</td>\n",
       "      <td>None</td>\n",
       "      <td>New Experience/People</td>\n",
       "    </tr>\n",
       "    <tr>\n",
       "      <th>4</th>\n",
       "      <td>eh7hnm</td>\n",
       "      <td>jerseyskies</td>\n",
       "      <td>https://www.reddit.com/r/nyu/comments/eh7hnm/i...</td>\n",
       "      <td>is it okay if i tuen in my film portfolio today?</td>\n",
       "      <td>i know they said at least 2 weeks prior to the...</td>\n",
       "      <td>1</td>\n",
       "      <td>1.577635e+09</td>\n",
       "      <td>/r/nyu/comments/eh7hnm/is_it_okay_if_i_tuen_in...</td>\n",
       "      <td>None</td>\n",
       "      <td>New Experience/People</td>\n",
       "    </tr>\n",
       "  </tbody>\n",
       "</table>\n",
       "</div>"
      ],
      "text/plain": [
       "       id            name                                                url  \\\n",
       "0  ehaes3     somedude297  https://www.reddit.com/r/nyu/comments/ehaes3/i...   \n",
       "1  ehacsf       skt_fekar  https://www.reddit.com/r/nyu/comments/ehacsf/a...   \n",
       "2  eha7dc       Funkphlex                    https://v.redd.it/uqbufxdpgm741   \n",
       "3  eh7v8h  sarampagnepapi  https://www.reddit.com/r/nyu/comments/eh7v8h/l...   \n",
       "4  eh7hnm     jerseyskies  https://www.reddit.com/r/nyu/comments/eh7hnm/i...   \n",
       "\n",
       "                                               title  \\\n",
       "0                         Internal Transfer to Stern   \n",
       "1  Are electives generally harder than the requir...   \n",
       "2  BYOB-friendly New Years Eve Dance Party & Vari...   \n",
       "3               last min photographers in manhattan?   \n",
       "4   is it okay if i tuen in my film portfolio today?   \n",
       "\n",
       "                                             content  score   created_utc  \\\n",
       "0  What is the word count for the personal statem...      1  1.577649e+09   \n",
       "1  I just took my last required course (Basic Alg...      1  1.577648e+09   \n",
       "2                                                         6  1.577648e+09   \n",
       "3  im here until jan 1st and im looking for a sup...      1  1.577637e+09   \n",
       "4  i know they said at least 2 weeks prior to the...      1  1.577635e+09   \n",
       "\n",
       "                                           permalink link_flair_text  \\\n",
       "0  /r/nyu/comments/ehaes3/internal_transfer_to_st...            None   \n",
       "1  /r/nyu/comments/ehacsf/are_electives_generally...            None   \n",
       "2  /r/nyu/comments/eha7dc/byobfriendly_new_years_...            None   \n",
       "3  /r/nyu/comments/eh7v8h/last_min_photographers_...            None   \n",
       "4  /r/nyu/comments/eh7hnm/is_it_okay_if_i_tuen_in...            None   \n",
       "\n",
       "                   class  \n",
       "0         Stern/Transfer  \n",
       "1     Course Information  \n",
       "2  New Experience/People  \n",
       "3  New Experience/People  \n",
       "4  New Experience/People  "
      ]
     },
     "execution_count": 222,
     "metadata": {},
     "output_type": "execute_result"
    }
   ],
   "source": [
    "#Classify each content and title with the right label\n",
    "classifications = []\n",
    "\n",
    "# add classification for every row\n",
    "for index, row in posts.iterrows() :\n",
    "    doc = row['doc']\n",
    "    classifications.append(cluster_names[classify(doc)])\n",
    "posts['class'] = classifications\n",
    "posts = posts.drop(['doc'], axis = 1) # don't need this anymore\n",
    "posts.head(5)"
   ]
  },
  {
   "cell_type": "code",
   "execution_count": 226,
   "metadata": {},
   "outputs": [],
   "source": [
    "terms = {}\n",
    "for key, value in cluster_names.items():\n",
    "    terms[value] = 0\n",
    "\n",
    "# tally up each category\n",
    "for index, row in posts.iterrows() :\n",
    "    terms[row['class']] += 1"
   ]
  },
  {
   "cell_type": "code",
   "execution_count": null,
   "metadata": {},
   "outputs": [],
   "source": []
  },
  {
   "cell_type": "code",
   "execution_count": 240,
   "metadata": {},
   "outputs": [
    {
     "data": {
      "text/html": [
       "        <script type=\"text/javascript\">\n",
       "        window.PlotlyConfig = {MathJaxConfig: 'local'};\n",
       "        if (window.MathJax) {MathJax.Hub.Config({SVG: {font: \"STIX-Web\"}});}\n",
       "        if (typeof require !== 'undefined') {\n",
       "        require.undef(\"plotly\");\n",
       "        requirejs.config({\n",
       "            paths: {\n",
       "                'plotly': ['https://cdn.plot.ly/plotly-latest.min']\n",
       "            }\n",
       "        });\n",
       "        require(['plotly'], function(Plotly) {\n",
       "            window._Plotly = Plotly;\n",
       "        });\n",
       "        }\n",
       "        </script>\n",
       "        "
      ]
     },
     "metadata": {},
     "output_type": "display_data"
    }
   ],
   "source": []
  },
  {
   "cell_type": "code",
   "execution_count": 247,
   "metadata": {},
   "outputs": [
    {
     "data": {
      "application/vnd.plotly.v1+json": {
       "config": {
        "plotlyServerURL": "https://plot.ly"
       },
       "data": [
        {
         "labels": [
          "game",
          "NYU ",
          "random",
          "Housing",
          "School/Transfer",
          "Stern/Transfer",
          "NYU program/students",
          "New Experience/People",
          "Summer Housing/Internship",
          "Application (high school student)",
          "Financial Aid",
          "Study Abroad",
          "CS CAS/Tandon",
          "Course Information"
         ],
         "type": "pie",
         "values": [
          83,
          591,
          142,
          330,
          500,
          162,
          180,
          1445,
          137,
          202,
          93,
          256,
          347,
          356
         ]
        }
       ],
       "layout": {
        "template": {
         "data": {
          "bar": [
           {
            "error_x": {
             "color": "#2a3f5f"
            },
            "error_y": {
             "color": "#2a3f5f"
            },
            "marker": {
             "line": {
              "color": "#E5ECF6",
              "width": 0.5
             }
            },
            "type": "bar"
           }
          ],
          "barpolar": [
           {
            "marker": {
             "line": {
              "color": "#E5ECF6",
              "width": 0.5
             }
            },
            "type": "barpolar"
           }
          ],
          "carpet": [
           {
            "aaxis": {
             "endlinecolor": "#2a3f5f",
             "gridcolor": "white",
             "linecolor": "white",
             "minorgridcolor": "white",
             "startlinecolor": "#2a3f5f"
            },
            "baxis": {
             "endlinecolor": "#2a3f5f",
             "gridcolor": "white",
             "linecolor": "white",
             "minorgridcolor": "white",
             "startlinecolor": "#2a3f5f"
            },
            "type": "carpet"
           }
          ],
          "choropleth": [
           {
            "colorbar": {
             "outlinewidth": 0,
             "ticks": ""
            },
            "type": "choropleth"
           }
          ],
          "contour": [
           {
            "colorbar": {
             "outlinewidth": 0,
             "ticks": ""
            },
            "colorscale": [
             [
              0,
              "#0d0887"
             ],
             [
              0.1111111111111111,
              "#46039f"
             ],
             [
              0.2222222222222222,
              "#7201a8"
             ],
             [
              0.3333333333333333,
              "#9c179e"
             ],
             [
              0.4444444444444444,
              "#bd3786"
             ],
             [
              0.5555555555555556,
              "#d8576b"
             ],
             [
              0.6666666666666666,
              "#ed7953"
             ],
             [
              0.7777777777777778,
              "#fb9f3a"
             ],
             [
              0.8888888888888888,
              "#fdca26"
             ],
             [
              1,
              "#f0f921"
             ]
            ],
            "type": "contour"
           }
          ],
          "contourcarpet": [
           {
            "colorbar": {
             "outlinewidth": 0,
             "ticks": ""
            },
            "type": "contourcarpet"
           }
          ],
          "heatmap": [
           {
            "colorbar": {
             "outlinewidth": 0,
             "ticks": ""
            },
            "colorscale": [
             [
              0,
              "#0d0887"
             ],
             [
              0.1111111111111111,
              "#46039f"
             ],
             [
              0.2222222222222222,
              "#7201a8"
             ],
             [
              0.3333333333333333,
              "#9c179e"
             ],
             [
              0.4444444444444444,
              "#bd3786"
             ],
             [
              0.5555555555555556,
              "#d8576b"
             ],
             [
              0.6666666666666666,
              "#ed7953"
             ],
             [
              0.7777777777777778,
              "#fb9f3a"
             ],
             [
              0.8888888888888888,
              "#fdca26"
             ],
             [
              1,
              "#f0f921"
             ]
            ],
            "type": "heatmap"
           }
          ],
          "heatmapgl": [
           {
            "colorbar": {
             "outlinewidth": 0,
             "ticks": ""
            },
            "colorscale": [
             [
              0,
              "#0d0887"
             ],
             [
              0.1111111111111111,
              "#46039f"
             ],
             [
              0.2222222222222222,
              "#7201a8"
             ],
             [
              0.3333333333333333,
              "#9c179e"
             ],
             [
              0.4444444444444444,
              "#bd3786"
             ],
             [
              0.5555555555555556,
              "#d8576b"
             ],
             [
              0.6666666666666666,
              "#ed7953"
             ],
             [
              0.7777777777777778,
              "#fb9f3a"
             ],
             [
              0.8888888888888888,
              "#fdca26"
             ],
             [
              1,
              "#f0f921"
             ]
            ],
            "type": "heatmapgl"
           }
          ],
          "histogram": [
           {
            "marker": {
             "colorbar": {
              "outlinewidth": 0,
              "ticks": ""
             }
            },
            "type": "histogram"
           }
          ],
          "histogram2d": [
           {
            "colorbar": {
             "outlinewidth": 0,
             "ticks": ""
            },
            "colorscale": [
             [
              0,
              "#0d0887"
             ],
             [
              0.1111111111111111,
              "#46039f"
             ],
             [
              0.2222222222222222,
              "#7201a8"
             ],
             [
              0.3333333333333333,
              "#9c179e"
             ],
             [
              0.4444444444444444,
              "#bd3786"
             ],
             [
              0.5555555555555556,
              "#d8576b"
             ],
             [
              0.6666666666666666,
              "#ed7953"
             ],
             [
              0.7777777777777778,
              "#fb9f3a"
             ],
             [
              0.8888888888888888,
              "#fdca26"
             ],
             [
              1,
              "#f0f921"
             ]
            ],
            "type": "histogram2d"
           }
          ],
          "histogram2dcontour": [
           {
            "colorbar": {
             "outlinewidth": 0,
             "ticks": ""
            },
            "colorscale": [
             [
              0,
              "#0d0887"
             ],
             [
              0.1111111111111111,
              "#46039f"
             ],
             [
              0.2222222222222222,
              "#7201a8"
             ],
             [
              0.3333333333333333,
              "#9c179e"
             ],
             [
              0.4444444444444444,
              "#bd3786"
             ],
             [
              0.5555555555555556,
              "#d8576b"
             ],
             [
              0.6666666666666666,
              "#ed7953"
             ],
             [
              0.7777777777777778,
              "#fb9f3a"
             ],
             [
              0.8888888888888888,
              "#fdca26"
             ],
             [
              1,
              "#f0f921"
             ]
            ],
            "type": "histogram2dcontour"
           }
          ],
          "mesh3d": [
           {
            "colorbar": {
             "outlinewidth": 0,
             "ticks": ""
            },
            "type": "mesh3d"
           }
          ],
          "parcoords": [
           {
            "line": {
             "colorbar": {
              "outlinewidth": 0,
              "ticks": ""
             }
            },
            "type": "parcoords"
           }
          ],
          "scatter": [
           {
            "marker": {
             "colorbar": {
              "outlinewidth": 0,
              "ticks": ""
             }
            },
            "type": "scatter"
           }
          ],
          "scatter3d": [
           {
            "line": {
             "colorbar": {
              "outlinewidth": 0,
              "ticks": ""
             }
            },
            "marker": {
             "colorbar": {
              "outlinewidth": 0,
              "ticks": ""
             }
            },
            "type": "scatter3d"
           }
          ],
          "scattercarpet": [
           {
            "marker": {
             "colorbar": {
              "outlinewidth": 0,
              "ticks": ""
             }
            },
            "type": "scattercarpet"
           }
          ],
          "scattergeo": [
           {
            "marker": {
             "colorbar": {
              "outlinewidth": 0,
              "ticks": ""
             }
            },
            "type": "scattergeo"
           }
          ],
          "scattergl": [
           {
            "marker": {
             "colorbar": {
              "outlinewidth": 0,
              "ticks": ""
             }
            },
            "type": "scattergl"
           }
          ],
          "scattermapbox": [
           {
            "marker": {
             "colorbar": {
              "outlinewidth": 0,
              "ticks": ""
             }
            },
            "type": "scattermapbox"
           }
          ],
          "scatterpolar": [
           {
            "marker": {
             "colorbar": {
              "outlinewidth": 0,
              "ticks": ""
             }
            },
            "type": "scatterpolar"
           }
          ],
          "scatterpolargl": [
           {
            "marker": {
             "colorbar": {
              "outlinewidth": 0,
              "ticks": ""
             }
            },
            "type": "scatterpolargl"
           }
          ],
          "scatterternary": [
           {
            "marker": {
             "colorbar": {
              "outlinewidth": 0,
              "ticks": ""
             }
            },
            "type": "scatterternary"
           }
          ],
          "surface": [
           {
            "colorbar": {
             "outlinewidth": 0,
             "ticks": ""
            },
            "colorscale": [
             [
              0,
              "#0d0887"
             ],
             [
              0.1111111111111111,
              "#46039f"
             ],
             [
              0.2222222222222222,
              "#7201a8"
             ],
             [
              0.3333333333333333,
              "#9c179e"
             ],
             [
              0.4444444444444444,
              "#bd3786"
             ],
             [
              0.5555555555555556,
              "#d8576b"
             ],
             [
              0.6666666666666666,
              "#ed7953"
             ],
             [
              0.7777777777777778,
              "#fb9f3a"
             ],
             [
              0.8888888888888888,
              "#fdca26"
             ],
             [
              1,
              "#f0f921"
             ]
            ],
            "type": "surface"
           }
          ],
          "table": [
           {
            "cells": {
             "fill": {
              "color": "#EBF0F8"
             },
             "line": {
              "color": "white"
             }
            },
            "header": {
             "fill": {
              "color": "#C8D4E3"
             },
             "line": {
              "color": "white"
             }
            },
            "type": "table"
           }
          ]
         },
         "layout": {
          "annotationdefaults": {
           "arrowcolor": "#2a3f5f",
           "arrowhead": 0,
           "arrowwidth": 1
          },
          "colorscale": {
           "diverging": [
            [
             0,
             "#8e0152"
            ],
            [
             0.1,
             "#c51b7d"
            ],
            [
             0.2,
             "#de77ae"
            ],
            [
             0.3,
             "#f1b6da"
            ],
            [
             0.4,
             "#fde0ef"
            ],
            [
             0.5,
             "#f7f7f7"
            ],
            [
             0.6,
             "#e6f5d0"
            ],
            [
             0.7,
             "#b8e186"
            ],
            [
             0.8,
             "#7fbc41"
            ],
            [
             0.9,
             "#4d9221"
            ],
            [
             1,
             "#276419"
            ]
           ],
           "sequential": [
            [
             0,
             "#0d0887"
            ],
            [
             0.1111111111111111,
             "#46039f"
            ],
            [
             0.2222222222222222,
             "#7201a8"
            ],
            [
             0.3333333333333333,
             "#9c179e"
            ],
            [
             0.4444444444444444,
             "#bd3786"
            ],
            [
             0.5555555555555556,
             "#d8576b"
            ],
            [
             0.6666666666666666,
             "#ed7953"
            ],
            [
             0.7777777777777778,
             "#fb9f3a"
            ],
            [
             0.8888888888888888,
             "#fdca26"
            ],
            [
             1,
             "#f0f921"
            ]
           ],
           "sequentialminus": [
            [
             0,
             "#0d0887"
            ],
            [
             0.1111111111111111,
             "#46039f"
            ],
            [
             0.2222222222222222,
             "#7201a8"
            ],
            [
             0.3333333333333333,
             "#9c179e"
            ],
            [
             0.4444444444444444,
             "#bd3786"
            ],
            [
             0.5555555555555556,
             "#d8576b"
            ],
            [
             0.6666666666666666,
             "#ed7953"
            ],
            [
             0.7777777777777778,
             "#fb9f3a"
            ],
            [
             0.8888888888888888,
             "#fdca26"
            ],
            [
             1,
             "#f0f921"
            ]
           ]
          },
          "colorway": [
           "#636efa",
           "#EF553B",
           "#00cc96",
           "#ab63fa",
           "#FFA15A",
           "#19d3f3",
           "#FF6692",
           "#B6E880",
           "#FF97FF",
           "#FECB52"
          ],
          "font": {
           "color": "#2a3f5f"
          },
          "geo": {
           "bgcolor": "white",
           "lakecolor": "white",
           "landcolor": "#E5ECF6",
           "showlakes": true,
           "showland": true,
           "subunitcolor": "white"
          },
          "hoverlabel": {
           "align": "left"
          },
          "hovermode": "closest",
          "mapbox": {
           "style": "light"
          },
          "paper_bgcolor": "white",
          "plot_bgcolor": "#E5ECF6",
          "polar": {
           "angularaxis": {
            "gridcolor": "white",
            "linecolor": "white",
            "ticks": ""
           },
           "bgcolor": "#E5ECF6",
           "radialaxis": {
            "gridcolor": "white",
            "linecolor": "white",
            "ticks": ""
           }
          },
          "scene": {
           "xaxis": {
            "backgroundcolor": "#E5ECF6",
            "gridcolor": "white",
            "gridwidth": 2,
            "linecolor": "white",
            "showbackground": true,
            "ticks": "",
            "zerolinecolor": "white"
           },
           "yaxis": {
            "backgroundcolor": "#E5ECF6",
            "gridcolor": "white",
            "gridwidth": 2,
            "linecolor": "white",
            "showbackground": true,
            "ticks": "",
            "zerolinecolor": "white"
           },
           "zaxis": {
            "backgroundcolor": "#E5ECF6",
            "gridcolor": "white",
            "gridwidth": 2,
            "linecolor": "white",
            "showbackground": true,
            "ticks": "",
            "zerolinecolor": "white"
           }
          },
          "shapedefaults": {
           "line": {
            "color": "#2a3f5f"
           }
          },
          "ternary": {
           "aaxis": {
            "gridcolor": "white",
            "linecolor": "white",
            "ticks": ""
           },
           "baxis": {
            "gridcolor": "white",
            "linecolor": "white",
            "ticks": ""
           },
           "bgcolor": "#E5ECF6",
           "caxis": {
            "gridcolor": "white",
            "linecolor": "white",
            "ticks": ""
           }
          },
          "title": {
           "x": 0.05
          },
          "xaxis": {
           "automargin": true,
           "gridcolor": "white",
           "linecolor": "white",
           "ticks": "",
           "zerolinecolor": "white",
           "zerolinewidth": 2
          },
          "yaxis": {
           "automargin": true,
           "gridcolor": "white",
           "linecolor": "white",
           "ticks": "",
           "zerolinecolor": "white",
           "zerolinewidth": 2
          }
         }
        }
       }
      },
      "text/html": [
       "<div>\n",
       "        \n",
       "        \n",
       "            <div id=\"1939ea64-621d-4322-9e92-f9e96f645612\" class=\"plotly-graph-div\" style=\"height:525px; width:100%;\"></div>\n",
       "            <script type=\"text/javascript\">\n",
       "                require([\"plotly\"], function(Plotly) {\n",
       "                    window.PLOTLYENV=window.PLOTLYENV || {};\n",
       "                    \n",
       "                if (document.getElementById(\"1939ea64-621d-4322-9e92-f9e96f645612\")) {\n",
       "                    Plotly.newPlot(\n",
       "                        '1939ea64-621d-4322-9e92-f9e96f645612',\n",
       "                        [{\"labels\": [\"game\", \"NYU \", \"random\", \"Housing\", \"School/Transfer\", \"Stern/Transfer\", \"NYU program/students\", \"New Experience/People\", \"Summer Housing/Internship\", \"Application (high school student)\", \"Financial Aid\", \"Study Abroad\", \"CS CAS/Tandon\", \"Course Information\"], \"type\": \"pie\", \"values\": [83, 591, 142, 330, 500, 162, 180, 1445, 137, 202, 93, 256, 347, 356]}],\n",
       "                        {\"template\": {\"data\": {\"bar\": [{\"error_x\": {\"color\": \"#2a3f5f\"}, \"error_y\": {\"color\": \"#2a3f5f\"}, \"marker\": {\"line\": {\"color\": \"#E5ECF6\", \"width\": 0.5}}, \"type\": \"bar\"}], \"barpolar\": [{\"marker\": {\"line\": {\"color\": \"#E5ECF6\", \"width\": 0.5}}, \"type\": \"barpolar\"}], \"carpet\": [{\"aaxis\": {\"endlinecolor\": \"#2a3f5f\", \"gridcolor\": \"white\", \"linecolor\": \"white\", \"minorgridcolor\": \"white\", \"startlinecolor\": \"#2a3f5f\"}, \"baxis\": {\"endlinecolor\": \"#2a3f5f\", \"gridcolor\": \"white\", \"linecolor\": \"white\", \"minorgridcolor\": \"white\", \"startlinecolor\": \"#2a3f5f\"}, \"type\": \"carpet\"}], \"choropleth\": [{\"colorbar\": {\"outlinewidth\": 0, \"ticks\": \"\"}, \"type\": \"choropleth\"}], \"contour\": [{\"colorbar\": {\"outlinewidth\": 0, \"ticks\": \"\"}, \"colorscale\": [[0.0, \"#0d0887\"], [0.1111111111111111, \"#46039f\"], [0.2222222222222222, \"#7201a8\"], [0.3333333333333333, \"#9c179e\"], [0.4444444444444444, \"#bd3786\"], [0.5555555555555556, \"#d8576b\"], [0.6666666666666666, \"#ed7953\"], [0.7777777777777778, \"#fb9f3a\"], [0.8888888888888888, \"#fdca26\"], [1.0, \"#f0f921\"]], \"type\": \"contour\"}], \"contourcarpet\": [{\"colorbar\": {\"outlinewidth\": 0, \"ticks\": \"\"}, \"type\": \"contourcarpet\"}], \"heatmap\": [{\"colorbar\": {\"outlinewidth\": 0, \"ticks\": \"\"}, \"colorscale\": [[0.0, \"#0d0887\"], [0.1111111111111111, \"#46039f\"], [0.2222222222222222, \"#7201a8\"], [0.3333333333333333, \"#9c179e\"], [0.4444444444444444, \"#bd3786\"], [0.5555555555555556, \"#d8576b\"], [0.6666666666666666, \"#ed7953\"], [0.7777777777777778, \"#fb9f3a\"], [0.8888888888888888, \"#fdca26\"], [1.0, \"#f0f921\"]], \"type\": \"heatmap\"}], \"heatmapgl\": [{\"colorbar\": {\"outlinewidth\": 0, \"ticks\": \"\"}, \"colorscale\": [[0.0, \"#0d0887\"], [0.1111111111111111, \"#46039f\"], [0.2222222222222222, \"#7201a8\"], [0.3333333333333333, \"#9c179e\"], [0.4444444444444444, \"#bd3786\"], [0.5555555555555556, \"#d8576b\"], [0.6666666666666666, \"#ed7953\"], [0.7777777777777778, \"#fb9f3a\"], [0.8888888888888888, \"#fdca26\"], [1.0, \"#f0f921\"]], \"type\": \"heatmapgl\"}], \"histogram\": [{\"marker\": {\"colorbar\": {\"outlinewidth\": 0, \"ticks\": \"\"}}, \"type\": \"histogram\"}], \"histogram2d\": [{\"colorbar\": {\"outlinewidth\": 0, \"ticks\": \"\"}, \"colorscale\": [[0.0, \"#0d0887\"], [0.1111111111111111, \"#46039f\"], [0.2222222222222222, \"#7201a8\"], [0.3333333333333333, \"#9c179e\"], [0.4444444444444444, \"#bd3786\"], [0.5555555555555556, \"#d8576b\"], [0.6666666666666666, \"#ed7953\"], [0.7777777777777778, \"#fb9f3a\"], [0.8888888888888888, \"#fdca26\"], [1.0, \"#f0f921\"]], \"type\": \"histogram2d\"}], \"histogram2dcontour\": [{\"colorbar\": {\"outlinewidth\": 0, \"ticks\": \"\"}, \"colorscale\": [[0.0, \"#0d0887\"], [0.1111111111111111, \"#46039f\"], [0.2222222222222222, \"#7201a8\"], [0.3333333333333333, \"#9c179e\"], [0.4444444444444444, \"#bd3786\"], [0.5555555555555556, \"#d8576b\"], [0.6666666666666666, \"#ed7953\"], [0.7777777777777778, \"#fb9f3a\"], [0.8888888888888888, \"#fdca26\"], [1.0, \"#f0f921\"]], \"type\": \"histogram2dcontour\"}], \"mesh3d\": [{\"colorbar\": {\"outlinewidth\": 0, \"ticks\": \"\"}, \"type\": \"mesh3d\"}], \"parcoords\": [{\"line\": {\"colorbar\": {\"outlinewidth\": 0, \"ticks\": \"\"}}, \"type\": \"parcoords\"}], \"scatter\": [{\"marker\": {\"colorbar\": {\"outlinewidth\": 0, \"ticks\": \"\"}}, \"type\": \"scatter\"}], \"scatter3d\": [{\"line\": {\"colorbar\": {\"outlinewidth\": 0, \"ticks\": \"\"}}, \"marker\": {\"colorbar\": {\"outlinewidth\": 0, \"ticks\": \"\"}}, \"type\": \"scatter3d\"}], \"scattercarpet\": [{\"marker\": {\"colorbar\": {\"outlinewidth\": 0, \"ticks\": \"\"}}, \"type\": \"scattercarpet\"}], \"scattergeo\": [{\"marker\": {\"colorbar\": {\"outlinewidth\": 0, \"ticks\": \"\"}}, \"type\": \"scattergeo\"}], \"scattergl\": [{\"marker\": {\"colorbar\": {\"outlinewidth\": 0, \"ticks\": \"\"}}, \"type\": \"scattergl\"}], \"scattermapbox\": [{\"marker\": {\"colorbar\": {\"outlinewidth\": 0, \"ticks\": \"\"}}, \"type\": \"scattermapbox\"}], \"scatterpolar\": [{\"marker\": {\"colorbar\": {\"outlinewidth\": 0, \"ticks\": \"\"}}, \"type\": \"scatterpolar\"}], \"scatterpolargl\": [{\"marker\": {\"colorbar\": {\"outlinewidth\": 0, \"ticks\": \"\"}}, \"type\": \"scatterpolargl\"}], \"scatterternary\": [{\"marker\": {\"colorbar\": {\"outlinewidth\": 0, \"ticks\": \"\"}}, \"type\": \"scatterternary\"}], \"surface\": [{\"colorbar\": {\"outlinewidth\": 0, \"ticks\": \"\"}, \"colorscale\": [[0.0, \"#0d0887\"], [0.1111111111111111, \"#46039f\"], [0.2222222222222222, \"#7201a8\"], [0.3333333333333333, \"#9c179e\"], [0.4444444444444444, \"#bd3786\"], [0.5555555555555556, \"#d8576b\"], [0.6666666666666666, \"#ed7953\"], [0.7777777777777778, \"#fb9f3a\"], [0.8888888888888888, \"#fdca26\"], [1.0, \"#f0f921\"]], \"type\": \"surface\"}], \"table\": [{\"cells\": {\"fill\": {\"color\": \"#EBF0F8\"}, \"line\": {\"color\": \"white\"}}, \"header\": {\"fill\": {\"color\": \"#C8D4E3\"}, \"line\": {\"color\": \"white\"}}, \"type\": \"table\"}]}, \"layout\": {\"annotationdefaults\": {\"arrowcolor\": \"#2a3f5f\", \"arrowhead\": 0, \"arrowwidth\": 1}, \"colorscale\": {\"diverging\": [[0, \"#8e0152\"], [0.1, \"#c51b7d\"], [0.2, \"#de77ae\"], [0.3, \"#f1b6da\"], [0.4, \"#fde0ef\"], [0.5, \"#f7f7f7\"], [0.6, \"#e6f5d0\"], [0.7, \"#b8e186\"], [0.8, \"#7fbc41\"], [0.9, \"#4d9221\"], [1, \"#276419\"]], \"sequential\": [[0.0, \"#0d0887\"], [0.1111111111111111, \"#46039f\"], [0.2222222222222222, \"#7201a8\"], [0.3333333333333333, \"#9c179e\"], [0.4444444444444444, \"#bd3786\"], [0.5555555555555556, \"#d8576b\"], [0.6666666666666666, \"#ed7953\"], [0.7777777777777778, \"#fb9f3a\"], [0.8888888888888888, \"#fdca26\"], [1.0, \"#f0f921\"]], \"sequentialminus\": [[0.0, \"#0d0887\"], [0.1111111111111111, \"#46039f\"], [0.2222222222222222, \"#7201a8\"], [0.3333333333333333, \"#9c179e\"], [0.4444444444444444, \"#bd3786\"], [0.5555555555555556, \"#d8576b\"], [0.6666666666666666, \"#ed7953\"], [0.7777777777777778, \"#fb9f3a\"], [0.8888888888888888, \"#fdca26\"], [1.0, \"#f0f921\"]]}, \"colorway\": [\"#636efa\", \"#EF553B\", \"#00cc96\", \"#ab63fa\", \"#FFA15A\", \"#19d3f3\", \"#FF6692\", \"#B6E880\", \"#FF97FF\", \"#FECB52\"], \"font\": {\"color\": \"#2a3f5f\"}, \"geo\": {\"bgcolor\": \"white\", \"lakecolor\": \"white\", \"landcolor\": \"#E5ECF6\", \"showlakes\": true, \"showland\": true, \"subunitcolor\": \"white\"}, \"hoverlabel\": {\"align\": \"left\"}, \"hovermode\": \"closest\", \"mapbox\": {\"style\": \"light\"}, \"paper_bgcolor\": \"white\", \"plot_bgcolor\": \"#E5ECF6\", \"polar\": {\"angularaxis\": {\"gridcolor\": \"white\", \"linecolor\": \"white\", \"ticks\": \"\"}, \"bgcolor\": \"#E5ECF6\", \"radialaxis\": {\"gridcolor\": \"white\", \"linecolor\": \"white\", \"ticks\": \"\"}}, \"scene\": {\"xaxis\": {\"backgroundcolor\": \"#E5ECF6\", \"gridcolor\": \"white\", \"gridwidth\": 2, \"linecolor\": \"white\", \"showbackground\": true, \"ticks\": \"\", \"zerolinecolor\": \"white\"}, \"yaxis\": {\"backgroundcolor\": \"#E5ECF6\", \"gridcolor\": \"white\", \"gridwidth\": 2, \"linecolor\": \"white\", \"showbackground\": true, \"ticks\": \"\", \"zerolinecolor\": \"white\"}, \"zaxis\": {\"backgroundcolor\": \"#E5ECF6\", \"gridcolor\": \"white\", \"gridwidth\": 2, \"linecolor\": \"white\", \"showbackground\": true, \"ticks\": \"\", \"zerolinecolor\": \"white\"}}, \"shapedefaults\": {\"line\": {\"color\": \"#2a3f5f\"}}, \"ternary\": {\"aaxis\": {\"gridcolor\": \"white\", \"linecolor\": \"white\", \"ticks\": \"\"}, \"baxis\": {\"gridcolor\": \"white\", \"linecolor\": \"white\", \"ticks\": \"\"}, \"bgcolor\": \"#E5ECF6\", \"caxis\": {\"gridcolor\": \"white\", \"linecolor\": \"white\", \"ticks\": \"\"}}, \"title\": {\"x\": 0.05}, \"xaxis\": {\"automargin\": true, \"gridcolor\": \"white\", \"linecolor\": \"white\", \"ticks\": \"\", \"zerolinecolor\": \"white\", \"zerolinewidth\": 2}, \"yaxis\": {\"automargin\": true, \"gridcolor\": \"white\", \"linecolor\": \"white\", \"ticks\": \"\", \"zerolinecolor\": \"white\", \"zerolinewidth\": 2}}}},\n",
       "                        {\"responsive\": true}\n",
       "                    ).then(function(){\n",
       "                            \n",
       "var gd = document.getElementById('1939ea64-621d-4322-9e92-f9e96f645612');\n",
       "var x = new MutationObserver(function (mutations, observer) {{\n",
       "        var display = window.getComputedStyle(gd).display;\n",
       "        if (!display || display === 'none') {{\n",
       "            console.log([gd, 'removed!']);\n",
       "            Plotly.purge(gd);\n",
       "            observer.disconnect();\n",
       "        }}\n",
       "}});\n",
       "\n",
       "// Listen for the removal of the full notebook cells\n",
       "var notebookContainer = gd.closest('#notebook-container');\n",
       "if (notebookContainer) {{\n",
       "    x.observe(notebookContainer, {childList: true});\n",
       "}}\n",
       "\n",
       "// Listen for the clearing of the current output cell\n",
       "var outputEl = gd.closest('.output');\n",
       "if (outputEl) {{\n",
       "    x.observe(outputEl, {childList: true});\n",
       "}}\n",
       "\n",
       "                        })\n",
       "                };\n",
       "                });\n",
       "            </script>\n",
       "        </div>"
      ]
     },
     "metadata": {},
     "output_type": "display_data"
    }
   ],
   "source": [
    "# Create temporary dataframe for use of Plotly\n",
    "df_temp = pd.DataFrame()\n",
    "df_temp['classification'] = terms.keys()\n",
    "df_temp['count'] = terms.values()\n",
    "trace = go.Pie(\n",
    "    labels = df_temp['classification'],\n",
    "    values = df_temp['count'],\n",
    ")\n",
    "fig = go.Figure(trace, title = 'Classification of r/NYU Posts by Percent')\n",
    "fig.show()"
   ]
  },
  {
   "cell_type": "code",
   "execution_count": 383,
   "metadata": {},
   "outputs": [],
   "source": [
    "analyzer = SentimentIntensityAnalyzer()\n",
    "def get_sentiment(content):\n",
    "    score = analyzer.polarity_scores(content)\n",
    "    if score['pos'] >= 0.05:\n",
    "        return 'positive'\n",
    "    if score['neg'] <= 0.05:\n",
    "        return 'negative'\n",
    "    else:\n",
    "        return 'neutral'\n",
    "    "
   ]
  },
  {
   "cell_type": "code",
   "execution_count": 384,
   "metadata": {},
   "outputs": [
    {
     "data": {
      "text/html": [
       "<div>\n",
       "<style scoped>\n",
       "    .dataframe tbody tr th:only-of-type {\n",
       "        vertical-align: middle;\n",
       "    }\n",
       "\n",
       "    .dataframe tbody tr th {\n",
       "        vertical-align: top;\n",
       "    }\n",
       "\n",
       "    .dataframe thead th {\n",
       "        text-align: right;\n",
       "    }\n",
       "</style>\n",
       "<table border=\"1\" class=\"dataframe\">\n",
       "  <thead>\n",
       "    <tr style=\"text-align: right;\">\n",
       "      <th></th>\n",
       "      <th>id</th>\n",
       "      <th>name</th>\n",
       "      <th>url</th>\n",
       "      <th>title</th>\n",
       "      <th>content</th>\n",
       "      <th>score</th>\n",
       "      <th>created_utc</th>\n",
       "      <th>permalink</th>\n",
       "      <th>link_flair_text</th>\n",
       "      <th>sentiment</th>\n",
       "    </tr>\n",
       "  </thead>\n",
       "  <tbody>\n",
       "    <tr>\n",
       "      <th>0</th>\n",
       "      <td>ehaes3</td>\n",
       "      <td>somedude297</td>\n",
       "      <td>https://www.reddit.com/r/nyu/comments/ehaes3/i...</td>\n",
       "      <td>Internal Transfer to Stern</td>\n",
       "      <td>What is the word count for the personal statem...</td>\n",
       "      <td>1</td>\n",
       "      <td>1.577649e+09</td>\n",
       "      <td>/r/nyu/comments/ehaes3/internal_transfer_to_st...</td>\n",
       "      <td>None</td>\n",
       "      <td>neutral</td>\n",
       "    </tr>\n",
       "    <tr>\n",
       "      <th>1</th>\n",
       "      <td>ehacsf</td>\n",
       "      <td>skt_fekar</td>\n",
       "      <td>https://www.reddit.com/r/nyu/comments/ehacsf/a...</td>\n",
       "      <td>Are electives generally harder than the requir...</td>\n",
       "      <td>I just took my last required course (Basic Alg...</td>\n",
       "      <td>1</td>\n",
       "      <td>1.577648e+09</td>\n",
       "      <td>/r/nyu/comments/ehacsf/are_electives_generally...</td>\n",
       "      <td>None</td>\n",
       "      <td>neutral</td>\n",
       "    </tr>\n",
       "    <tr>\n",
       "      <th>2</th>\n",
       "      <td>eha7dc</td>\n",
       "      <td>Funkphlex</td>\n",
       "      <td>https://v.redd.it/uqbufxdpgm741</td>\n",
       "      <td>BYOB-friendly New Years Eve Dance Party &amp; Vari...</td>\n",
       "      <td></td>\n",
       "      <td>6</td>\n",
       "      <td>1.577648e+09</td>\n",
       "      <td>/r/nyu/comments/eha7dc/byobfriendly_new_years_...</td>\n",
       "      <td>None</td>\n",
       "      <td>positive</td>\n",
       "    </tr>\n",
       "    <tr>\n",
       "      <th>3</th>\n",
       "      <td>eh7v8h</td>\n",
       "      <td>sarampagnepapi</td>\n",
       "      <td>https://www.reddit.com/r/nyu/comments/eh7v8h/l...</td>\n",
       "      <td>last min photographers in manhattan?</td>\n",
       "      <td>im here until jan 1st and im looking for a sup...</td>\n",
       "      <td>1</td>\n",
       "      <td>1.577637e+09</td>\n",
       "      <td>/r/nyu/comments/eh7v8h/last_min_photographers_...</td>\n",
       "      <td>None</td>\n",
       "      <td>positive</td>\n",
       "    </tr>\n",
       "    <tr>\n",
       "      <th>4</th>\n",
       "      <td>eh7hnm</td>\n",
       "      <td>jerseyskies</td>\n",
       "      <td>https://www.reddit.com/r/nyu/comments/eh7hnm/i...</td>\n",
       "      <td>is it okay if i tuen in my film portfolio today?</td>\n",
       "      <td>i know they said at least 2 weeks prior to the...</td>\n",
       "      <td>1</td>\n",
       "      <td>1.577635e+09</td>\n",
       "      <td>/r/nyu/comments/eh7hnm/is_it_okay_if_i_tuen_in...</td>\n",
       "      <td>None</td>\n",
       "      <td>positive</td>\n",
       "    </tr>\n",
       "    <tr>\n",
       "      <th>5</th>\n",
       "      <td>eh6zs6</td>\n",
       "      <td>bluethotiana</td>\n",
       "      <td>https://www.reddit.com/r/nyu/comments/eh6zs6/c...</td>\n",
       "      <td>Current High school Junior with a few questions</td>\n",
       "      <td>1. I heard that NYU has started a Data Science...</td>\n",
       "      <td>1</td>\n",
       "      <td>1.577633e+09</td>\n",
       "      <td>/r/nyu/comments/eh6zs6/current_high_school_jun...</td>\n",
       "      <td>None</td>\n",
       "      <td>positive</td>\n",
       "    </tr>\n",
       "    <tr>\n",
       "      <th>6</th>\n",
       "      <td>eh4d8b</td>\n",
       "      <td>ContrabandParagon</td>\n",
       "      <td>https://www.reddit.com/r/nyu/comments/eh4d8b/w...</td>\n",
       "      <td>Why did you choose NYU?</td>\n",
       "      <td></td>\n",
       "      <td>11</td>\n",
       "      <td>1.577614e+09</td>\n",
       "      <td>/r/nyu/comments/eh4d8b/why_did_you_choose_nyu/</td>\n",
       "      <td>None</td>\n",
       "      <td>negative</td>\n",
       "    </tr>\n",
       "    <tr>\n",
       "      <th>7</th>\n",
       "      <td>eh3ao8</td>\n",
       "      <td>herefortheshibas</td>\n",
       "      <td>https://www.reddit.com/r/nyu/comments/eh3ao8/s...</td>\n",
       "      <td>Should I join Stern's AKPsi Business Frat?</td>\n",
       "      <td>I will be a freshman at Stern in the fall of 2...</td>\n",
       "      <td>1</td>\n",
       "      <td>1.577605e+09</td>\n",
       "      <td>/r/nyu/comments/eh3ao8/should_i_join_sterns_ak...</td>\n",
       "      <td>None</td>\n",
       "      <td>positive</td>\n",
       "    </tr>\n",
       "    <tr>\n",
       "      <th>8</th>\n",
       "      <td>eh2vn9</td>\n",
       "      <td>hellasadgemini</td>\n",
       "      <td>https://www.reddit.com/r/nyu/comments/eh2vn9/t...</td>\n",
       "      <td>Theatre for non-majors?</td>\n",
       "      <td>Hi, I'm currently finishing my EDII applicatio...</td>\n",
       "      <td>3</td>\n",
       "      <td>1.577602e+09</td>\n",
       "      <td>/r/nyu/comments/eh2vn9/theatre_for_nonmajors/</td>\n",
       "      <td>None</td>\n",
       "      <td>negative</td>\n",
       "    </tr>\n",
       "    <tr>\n",
       "      <th>9</th>\n",
       "      <td>eh2sws</td>\n",
       "      <td>Ilovehashmaps</td>\n",
       "      <td>https://www.reddit.com/r/nyu/comments/eh2sws/h...</td>\n",
       "      <td>Has anyone successfully waived their Texts and...</td>\n",
       "      <td>I was checking  [https://cas.nyu.edu/content/n...</td>\n",
       "      <td>4</td>\n",
       "      <td>1.577602e+09</td>\n",
       "      <td>/r/nyu/comments/eh2sws/has_anyone_successfully...</td>\n",
       "      <td>None</td>\n",
       "      <td>positive</td>\n",
       "    </tr>\n",
       "  </tbody>\n",
       "</table>\n",
       "</div>"
      ],
      "text/plain": [
       "       id               name  \\\n",
       "0  ehaes3        somedude297   \n",
       "1  ehacsf          skt_fekar   \n",
       "2  eha7dc          Funkphlex   \n",
       "3  eh7v8h     sarampagnepapi   \n",
       "4  eh7hnm        jerseyskies   \n",
       "5  eh6zs6       bluethotiana   \n",
       "6  eh4d8b  ContrabandParagon   \n",
       "7  eh3ao8   herefortheshibas   \n",
       "8  eh2vn9     hellasadgemini   \n",
       "9  eh2sws      Ilovehashmaps   \n",
       "\n",
       "                                                 url  \\\n",
       "0  https://www.reddit.com/r/nyu/comments/ehaes3/i...   \n",
       "1  https://www.reddit.com/r/nyu/comments/ehacsf/a...   \n",
       "2                    https://v.redd.it/uqbufxdpgm741   \n",
       "3  https://www.reddit.com/r/nyu/comments/eh7v8h/l...   \n",
       "4  https://www.reddit.com/r/nyu/comments/eh7hnm/i...   \n",
       "5  https://www.reddit.com/r/nyu/comments/eh6zs6/c...   \n",
       "6  https://www.reddit.com/r/nyu/comments/eh4d8b/w...   \n",
       "7  https://www.reddit.com/r/nyu/comments/eh3ao8/s...   \n",
       "8  https://www.reddit.com/r/nyu/comments/eh2vn9/t...   \n",
       "9  https://www.reddit.com/r/nyu/comments/eh2sws/h...   \n",
       "\n",
       "                                               title  \\\n",
       "0                         Internal Transfer to Stern   \n",
       "1  Are electives generally harder than the requir...   \n",
       "2  BYOB-friendly New Years Eve Dance Party & Vari...   \n",
       "3               last min photographers in manhattan?   \n",
       "4   is it okay if i tuen in my film portfolio today?   \n",
       "5    Current High school Junior with a few questions   \n",
       "6                            Why did you choose NYU?   \n",
       "7         Should I join Stern's AKPsi Business Frat?   \n",
       "8                            Theatre for non-majors?   \n",
       "9  Has anyone successfully waived their Texts and...   \n",
       "\n",
       "                                             content  score   created_utc  \\\n",
       "0  What is the word count for the personal statem...      1  1.577649e+09   \n",
       "1  I just took my last required course (Basic Alg...      1  1.577648e+09   \n",
       "2                                                         6  1.577648e+09   \n",
       "3  im here until jan 1st and im looking for a sup...      1  1.577637e+09   \n",
       "4  i know they said at least 2 weeks prior to the...      1  1.577635e+09   \n",
       "5  1. I heard that NYU has started a Data Science...      1  1.577633e+09   \n",
       "6                                                        11  1.577614e+09   \n",
       "7  I will be a freshman at Stern in the fall of 2...      1  1.577605e+09   \n",
       "8  Hi, I'm currently finishing my EDII applicatio...      3  1.577602e+09   \n",
       "9  I was checking  [https://cas.nyu.edu/content/n...      4  1.577602e+09   \n",
       "\n",
       "                                           permalink link_flair_text sentiment  \n",
       "0  /r/nyu/comments/ehaes3/internal_transfer_to_st...            None   neutral  \n",
       "1  /r/nyu/comments/ehacsf/are_electives_generally...            None   neutral  \n",
       "2  /r/nyu/comments/eha7dc/byobfriendly_new_years_...            None  positive  \n",
       "3  /r/nyu/comments/eh7v8h/last_min_photographers_...            None  positive  \n",
       "4  /r/nyu/comments/eh7hnm/is_it_okay_if_i_tuen_in...            None  positive  \n",
       "5  /r/nyu/comments/eh6zs6/current_high_school_jun...            None  positive  \n",
       "6     /r/nyu/comments/eh4d8b/why_did_you_choose_nyu/            None  negative  \n",
       "7  /r/nyu/comments/eh3ao8/should_i_join_sterns_ak...            None  positive  \n",
       "8      /r/nyu/comments/eh2vn9/theatre_for_nonmajors/            None  negative  \n",
       "9  /r/nyu/comments/eh2sws/has_anyone_successfully...            None  positive  "
      ]
     },
     "execution_count": 384,
     "metadata": {},
     "output_type": "execute_result"
    }
   ],
   "source": [
    "sentiments = []\n",
    "for index, row in posts.iterrows():\n",
    "    sentiment = get_sentiment(row['title'] + ' ' + row['content'])\n",
    "    sentiments.append(sentiment)\n",
    "\n",
    "posts['sentiment'] = sentiments\n",
    "posts.head(10)"
   ]
  },
  {
   "cell_type": "code",
   "execution_count": null,
   "metadata": {},
   "outputs": [],
   "source": [
    "cmt_sentiments = []\n",
    "for index, row in comments.iterrows():\n",
    "    sentiment = get_sentiment(row['content'])\n",
    "    cmt_sentiments.append(sentiment)\n",
    "\n",
    "comments['sentiment'] = cmt_sentiments\n",
    "comments.head(10)"
   ]
  },
  {
   "cell_type": "code",
   "execution_count": null,
   "metadata": {},
   "outputs": [],
   "source": [
    "#Get the total sentiments of posts and comments total\n",
    "post_dict = posts['sentiment'].value_counts().to_dict()\n",
    "cmt_dict = comments['sentiment'].value_counts().to_dict()"
   ]
  },
  {
   "cell_type": "code",
   "execution_count": 382,
   "metadata": {},
   "outputs": [
    {
     "data": {
      "application/vnd.plotly.v1+json": {
       "config": {
        "plotlyServerURL": "https://plot.ly"
       },
       "data": [
        {
         "labels": [
          "positive",
          "negative",
          "neutral"
         ],
         "type": "pie",
         "values": [
          3395,
          1063,
          366
         ]
        }
       ],
       "layout": {
        "template": {
         "data": {
          "bar": [
           {
            "error_x": {
             "color": "#2a3f5f"
            },
            "error_y": {
             "color": "#2a3f5f"
            },
            "marker": {
             "line": {
              "color": "#E5ECF6",
              "width": 0.5
             }
            },
            "type": "bar"
           }
          ],
          "barpolar": [
           {
            "marker": {
             "line": {
              "color": "#E5ECF6",
              "width": 0.5
             }
            },
            "type": "barpolar"
           }
          ],
          "carpet": [
           {
            "aaxis": {
             "endlinecolor": "#2a3f5f",
             "gridcolor": "white",
             "linecolor": "white",
             "minorgridcolor": "white",
             "startlinecolor": "#2a3f5f"
            },
            "baxis": {
             "endlinecolor": "#2a3f5f",
             "gridcolor": "white",
             "linecolor": "white",
             "minorgridcolor": "white",
             "startlinecolor": "#2a3f5f"
            },
            "type": "carpet"
           }
          ],
          "choropleth": [
           {
            "colorbar": {
             "outlinewidth": 0,
             "ticks": ""
            },
            "type": "choropleth"
           }
          ],
          "contour": [
           {
            "colorbar": {
             "outlinewidth": 0,
             "ticks": ""
            },
            "colorscale": [
             [
              0,
              "#0d0887"
             ],
             [
              0.1111111111111111,
              "#46039f"
             ],
             [
              0.2222222222222222,
              "#7201a8"
             ],
             [
              0.3333333333333333,
              "#9c179e"
             ],
             [
              0.4444444444444444,
              "#bd3786"
             ],
             [
              0.5555555555555556,
              "#d8576b"
             ],
             [
              0.6666666666666666,
              "#ed7953"
             ],
             [
              0.7777777777777778,
              "#fb9f3a"
             ],
             [
              0.8888888888888888,
              "#fdca26"
             ],
             [
              1,
              "#f0f921"
             ]
            ],
            "type": "contour"
           }
          ],
          "contourcarpet": [
           {
            "colorbar": {
             "outlinewidth": 0,
             "ticks": ""
            },
            "type": "contourcarpet"
           }
          ],
          "heatmap": [
           {
            "colorbar": {
             "outlinewidth": 0,
             "ticks": ""
            },
            "colorscale": [
             [
              0,
              "#0d0887"
             ],
             [
              0.1111111111111111,
              "#46039f"
             ],
             [
              0.2222222222222222,
              "#7201a8"
             ],
             [
              0.3333333333333333,
              "#9c179e"
             ],
             [
              0.4444444444444444,
              "#bd3786"
             ],
             [
              0.5555555555555556,
              "#d8576b"
             ],
             [
              0.6666666666666666,
              "#ed7953"
             ],
             [
              0.7777777777777778,
              "#fb9f3a"
             ],
             [
              0.8888888888888888,
              "#fdca26"
             ],
             [
              1,
              "#f0f921"
             ]
            ],
            "type": "heatmap"
           }
          ],
          "heatmapgl": [
           {
            "colorbar": {
             "outlinewidth": 0,
             "ticks": ""
            },
            "colorscale": [
             [
              0,
              "#0d0887"
             ],
             [
              0.1111111111111111,
              "#46039f"
             ],
             [
              0.2222222222222222,
              "#7201a8"
             ],
             [
              0.3333333333333333,
              "#9c179e"
             ],
             [
              0.4444444444444444,
              "#bd3786"
             ],
             [
              0.5555555555555556,
              "#d8576b"
             ],
             [
              0.6666666666666666,
              "#ed7953"
             ],
             [
              0.7777777777777778,
              "#fb9f3a"
             ],
             [
              0.8888888888888888,
              "#fdca26"
             ],
             [
              1,
              "#f0f921"
             ]
            ],
            "type": "heatmapgl"
           }
          ],
          "histogram": [
           {
            "marker": {
             "colorbar": {
              "outlinewidth": 0,
              "ticks": ""
             }
            },
            "type": "histogram"
           }
          ],
          "histogram2d": [
           {
            "colorbar": {
             "outlinewidth": 0,
             "ticks": ""
            },
            "colorscale": [
             [
              0,
              "#0d0887"
             ],
             [
              0.1111111111111111,
              "#46039f"
             ],
             [
              0.2222222222222222,
              "#7201a8"
             ],
             [
              0.3333333333333333,
              "#9c179e"
             ],
             [
              0.4444444444444444,
              "#bd3786"
             ],
             [
              0.5555555555555556,
              "#d8576b"
             ],
             [
              0.6666666666666666,
              "#ed7953"
             ],
             [
              0.7777777777777778,
              "#fb9f3a"
             ],
             [
              0.8888888888888888,
              "#fdca26"
             ],
             [
              1,
              "#f0f921"
             ]
            ],
            "type": "histogram2d"
           }
          ],
          "histogram2dcontour": [
           {
            "colorbar": {
             "outlinewidth": 0,
             "ticks": ""
            },
            "colorscale": [
             [
              0,
              "#0d0887"
             ],
             [
              0.1111111111111111,
              "#46039f"
             ],
             [
              0.2222222222222222,
              "#7201a8"
             ],
             [
              0.3333333333333333,
              "#9c179e"
             ],
             [
              0.4444444444444444,
              "#bd3786"
             ],
             [
              0.5555555555555556,
              "#d8576b"
             ],
             [
              0.6666666666666666,
              "#ed7953"
             ],
             [
              0.7777777777777778,
              "#fb9f3a"
             ],
             [
              0.8888888888888888,
              "#fdca26"
             ],
             [
              1,
              "#f0f921"
             ]
            ],
            "type": "histogram2dcontour"
           }
          ],
          "mesh3d": [
           {
            "colorbar": {
             "outlinewidth": 0,
             "ticks": ""
            },
            "type": "mesh3d"
           }
          ],
          "parcoords": [
           {
            "line": {
             "colorbar": {
              "outlinewidth": 0,
              "ticks": ""
             }
            },
            "type": "parcoords"
           }
          ],
          "scatter": [
           {
            "marker": {
             "colorbar": {
              "outlinewidth": 0,
              "ticks": ""
             }
            },
            "type": "scatter"
           }
          ],
          "scatter3d": [
           {
            "line": {
             "colorbar": {
              "outlinewidth": 0,
              "ticks": ""
             }
            },
            "marker": {
             "colorbar": {
              "outlinewidth": 0,
              "ticks": ""
             }
            },
            "type": "scatter3d"
           }
          ],
          "scattercarpet": [
           {
            "marker": {
             "colorbar": {
              "outlinewidth": 0,
              "ticks": ""
             }
            },
            "type": "scattercarpet"
           }
          ],
          "scattergeo": [
           {
            "marker": {
             "colorbar": {
              "outlinewidth": 0,
              "ticks": ""
             }
            },
            "type": "scattergeo"
           }
          ],
          "scattergl": [
           {
            "marker": {
             "colorbar": {
              "outlinewidth": 0,
              "ticks": ""
             }
            },
            "type": "scattergl"
           }
          ],
          "scattermapbox": [
           {
            "marker": {
             "colorbar": {
              "outlinewidth": 0,
              "ticks": ""
             }
            },
            "type": "scattermapbox"
           }
          ],
          "scatterpolar": [
           {
            "marker": {
             "colorbar": {
              "outlinewidth": 0,
              "ticks": ""
             }
            },
            "type": "scatterpolar"
           }
          ],
          "scatterpolargl": [
           {
            "marker": {
             "colorbar": {
              "outlinewidth": 0,
              "ticks": ""
             }
            },
            "type": "scatterpolargl"
           }
          ],
          "scatterternary": [
           {
            "marker": {
             "colorbar": {
              "outlinewidth": 0,
              "ticks": ""
             }
            },
            "type": "scatterternary"
           }
          ],
          "surface": [
           {
            "colorbar": {
             "outlinewidth": 0,
             "ticks": ""
            },
            "colorscale": [
             [
              0,
              "#0d0887"
             ],
             [
              0.1111111111111111,
              "#46039f"
             ],
             [
              0.2222222222222222,
              "#7201a8"
             ],
             [
              0.3333333333333333,
              "#9c179e"
             ],
             [
              0.4444444444444444,
              "#bd3786"
             ],
             [
              0.5555555555555556,
              "#d8576b"
             ],
             [
              0.6666666666666666,
              "#ed7953"
             ],
             [
              0.7777777777777778,
              "#fb9f3a"
             ],
             [
              0.8888888888888888,
              "#fdca26"
             ],
             [
              1,
              "#f0f921"
             ]
            ],
            "type": "surface"
           }
          ],
          "table": [
           {
            "cells": {
             "fill": {
              "color": "#EBF0F8"
             },
             "line": {
              "color": "white"
             }
            },
            "header": {
             "fill": {
              "color": "#C8D4E3"
             },
             "line": {
              "color": "white"
             }
            },
            "type": "table"
           }
          ]
         },
         "layout": {
          "annotationdefaults": {
           "arrowcolor": "#2a3f5f",
           "arrowhead": 0,
           "arrowwidth": 1
          },
          "colorscale": {
           "diverging": [
            [
             0,
             "#8e0152"
            ],
            [
             0.1,
             "#c51b7d"
            ],
            [
             0.2,
             "#de77ae"
            ],
            [
             0.3,
             "#f1b6da"
            ],
            [
             0.4,
             "#fde0ef"
            ],
            [
             0.5,
             "#f7f7f7"
            ],
            [
             0.6,
             "#e6f5d0"
            ],
            [
             0.7,
             "#b8e186"
            ],
            [
             0.8,
             "#7fbc41"
            ],
            [
             0.9,
             "#4d9221"
            ],
            [
             1,
             "#276419"
            ]
           ],
           "sequential": [
            [
             0,
             "#0d0887"
            ],
            [
             0.1111111111111111,
             "#46039f"
            ],
            [
             0.2222222222222222,
             "#7201a8"
            ],
            [
             0.3333333333333333,
             "#9c179e"
            ],
            [
             0.4444444444444444,
             "#bd3786"
            ],
            [
             0.5555555555555556,
             "#d8576b"
            ],
            [
             0.6666666666666666,
             "#ed7953"
            ],
            [
             0.7777777777777778,
             "#fb9f3a"
            ],
            [
             0.8888888888888888,
             "#fdca26"
            ],
            [
             1,
             "#f0f921"
            ]
           ],
           "sequentialminus": [
            [
             0,
             "#0d0887"
            ],
            [
             0.1111111111111111,
             "#46039f"
            ],
            [
             0.2222222222222222,
             "#7201a8"
            ],
            [
             0.3333333333333333,
             "#9c179e"
            ],
            [
             0.4444444444444444,
             "#bd3786"
            ],
            [
             0.5555555555555556,
             "#d8576b"
            ],
            [
             0.6666666666666666,
             "#ed7953"
            ],
            [
             0.7777777777777778,
             "#fb9f3a"
            ],
            [
             0.8888888888888888,
             "#fdca26"
            ],
            [
             1,
             "#f0f921"
            ]
           ]
          },
          "colorway": [
           "#636efa",
           "#EF553B",
           "#00cc96",
           "#ab63fa",
           "#FFA15A",
           "#19d3f3",
           "#FF6692",
           "#B6E880",
           "#FF97FF",
           "#FECB52"
          ],
          "font": {
           "color": "#2a3f5f"
          },
          "geo": {
           "bgcolor": "white",
           "lakecolor": "white",
           "landcolor": "#E5ECF6",
           "showlakes": true,
           "showland": true,
           "subunitcolor": "white"
          },
          "hoverlabel": {
           "align": "left"
          },
          "hovermode": "closest",
          "mapbox": {
           "style": "light"
          },
          "paper_bgcolor": "white",
          "plot_bgcolor": "#E5ECF6",
          "polar": {
           "angularaxis": {
            "gridcolor": "white",
            "linecolor": "white",
            "ticks": ""
           },
           "bgcolor": "#E5ECF6",
           "radialaxis": {
            "gridcolor": "white",
            "linecolor": "white",
            "ticks": ""
           }
          },
          "scene": {
           "xaxis": {
            "backgroundcolor": "#E5ECF6",
            "gridcolor": "white",
            "gridwidth": 2,
            "linecolor": "white",
            "showbackground": true,
            "ticks": "",
            "zerolinecolor": "white"
           },
           "yaxis": {
            "backgroundcolor": "#E5ECF6",
            "gridcolor": "white",
            "gridwidth": 2,
            "linecolor": "white",
            "showbackground": true,
            "ticks": "",
            "zerolinecolor": "white"
           },
           "zaxis": {
            "backgroundcolor": "#E5ECF6",
            "gridcolor": "white",
            "gridwidth": 2,
            "linecolor": "white",
            "showbackground": true,
            "ticks": "",
            "zerolinecolor": "white"
           }
          },
          "shapedefaults": {
           "line": {
            "color": "#2a3f5f"
           }
          },
          "ternary": {
           "aaxis": {
            "gridcolor": "white",
            "linecolor": "white",
            "ticks": ""
           },
           "baxis": {
            "gridcolor": "white",
            "linecolor": "white",
            "ticks": ""
           },
           "bgcolor": "#E5ECF6",
           "caxis": {
            "gridcolor": "white",
            "linecolor": "white",
            "ticks": ""
           }
          },
          "title": {
           "x": 0.05
          },
          "xaxis": {
           "automargin": true,
           "gridcolor": "white",
           "linecolor": "white",
           "ticks": "",
           "zerolinecolor": "white",
           "zerolinewidth": 2
          },
          "yaxis": {
           "automargin": true,
           "gridcolor": "white",
           "linecolor": "white",
           "ticks": "",
           "zerolinecolor": "white",
           "zerolinewidth": 2
          }
         }
        },
        "title": {
         "text": "Sentiments of r/NYU Percentage"
        }
       }
      },
      "text/html": [
       "<div>\n",
       "        \n",
       "        \n",
       "            <div id=\"32e67ab1-0625-4d01-8c48-2e69d0f117d0\" class=\"plotly-graph-div\" style=\"height:525px; width:100%;\"></div>\n",
       "            <script type=\"text/javascript\">\n",
       "                require([\"plotly\"], function(Plotly) {\n",
       "                    window.PLOTLYENV=window.PLOTLYENV || {};\n",
       "                    \n",
       "                if (document.getElementById(\"32e67ab1-0625-4d01-8c48-2e69d0f117d0\")) {\n",
       "                    Plotly.newPlot(\n",
       "                        '32e67ab1-0625-4d01-8c48-2e69d0f117d0',\n",
       "                        [{\"labels\": [\"positive\", \"negative\", \"neutral\"], \"type\": \"pie\", \"values\": [3395, 1063, 366]}],\n",
       "                        {\"template\": {\"data\": {\"bar\": [{\"error_x\": {\"color\": \"#2a3f5f\"}, \"error_y\": {\"color\": \"#2a3f5f\"}, \"marker\": {\"line\": {\"color\": \"#E5ECF6\", \"width\": 0.5}}, \"type\": \"bar\"}], \"barpolar\": [{\"marker\": {\"line\": {\"color\": \"#E5ECF6\", \"width\": 0.5}}, \"type\": \"barpolar\"}], \"carpet\": [{\"aaxis\": {\"endlinecolor\": \"#2a3f5f\", \"gridcolor\": \"white\", \"linecolor\": \"white\", \"minorgridcolor\": \"white\", \"startlinecolor\": \"#2a3f5f\"}, \"baxis\": {\"endlinecolor\": \"#2a3f5f\", \"gridcolor\": \"white\", \"linecolor\": \"white\", \"minorgridcolor\": \"white\", \"startlinecolor\": \"#2a3f5f\"}, \"type\": \"carpet\"}], \"choropleth\": [{\"colorbar\": {\"outlinewidth\": 0, \"ticks\": \"\"}, \"type\": \"choropleth\"}], \"contour\": [{\"colorbar\": {\"outlinewidth\": 0, \"ticks\": \"\"}, \"colorscale\": [[0.0, \"#0d0887\"], [0.1111111111111111, \"#46039f\"], [0.2222222222222222, \"#7201a8\"], [0.3333333333333333, \"#9c179e\"], [0.4444444444444444, \"#bd3786\"], [0.5555555555555556, \"#d8576b\"], [0.6666666666666666, \"#ed7953\"], [0.7777777777777778, \"#fb9f3a\"], [0.8888888888888888, \"#fdca26\"], [1.0, \"#f0f921\"]], \"type\": \"contour\"}], \"contourcarpet\": [{\"colorbar\": {\"outlinewidth\": 0, \"ticks\": \"\"}, \"type\": \"contourcarpet\"}], \"heatmap\": [{\"colorbar\": {\"outlinewidth\": 0, \"ticks\": \"\"}, \"colorscale\": [[0.0, \"#0d0887\"], [0.1111111111111111, \"#46039f\"], [0.2222222222222222, \"#7201a8\"], [0.3333333333333333, \"#9c179e\"], [0.4444444444444444, \"#bd3786\"], [0.5555555555555556, \"#d8576b\"], [0.6666666666666666, \"#ed7953\"], [0.7777777777777778, \"#fb9f3a\"], [0.8888888888888888, \"#fdca26\"], [1.0, \"#f0f921\"]], \"type\": \"heatmap\"}], \"heatmapgl\": [{\"colorbar\": {\"outlinewidth\": 0, \"ticks\": \"\"}, \"colorscale\": [[0.0, \"#0d0887\"], [0.1111111111111111, \"#46039f\"], [0.2222222222222222, \"#7201a8\"], [0.3333333333333333, \"#9c179e\"], [0.4444444444444444, \"#bd3786\"], [0.5555555555555556, \"#d8576b\"], [0.6666666666666666, \"#ed7953\"], [0.7777777777777778, \"#fb9f3a\"], [0.8888888888888888, \"#fdca26\"], [1.0, \"#f0f921\"]], \"type\": \"heatmapgl\"}], \"histogram\": [{\"marker\": {\"colorbar\": {\"outlinewidth\": 0, \"ticks\": \"\"}}, \"type\": \"histogram\"}], \"histogram2d\": [{\"colorbar\": {\"outlinewidth\": 0, \"ticks\": \"\"}, \"colorscale\": [[0.0, \"#0d0887\"], [0.1111111111111111, \"#46039f\"], [0.2222222222222222, \"#7201a8\"], [0.3333333333333333, \"#9c179e\"], [0.4444444444444444, \"#bd3786\"], [0.5555555555555556, \"#d8576b\"], [0.6666666666666666, \"#ed7953\"], [0.7777777777777778, \"#fb9f3a\"], [0.8888888888888888, \"#fdca26\"], [1.0, \"#f0f921\"]], \"type\": \"histogram2d\"}], \"histogram2dcontour\": [{\"colorbar\": {\"outlinewidth\": 0, \"ticks\": \"\"}, \"colorscale\": [[0.0, \"#0d0887\"], [0.1111111111111111, \"#46039f\"], [0.2222222222222222, \"#7201a8\"], [0.3333333333333333, \"#9c179e\"], [0.4444444444444444, \"#bd3786\"], [0.5555555555555556, \"#d8576b\"], [0.6666666666666666, \"#ed7953\"], [0.7777777777777778, \"#fb9f3a\"], [0.8888888888888888, \"#fdca26\"], [1.0, \"#f0f921\"]], \"type\": \"histogram2dcontour\"}], \"mesh3d\": [{\"colorbar\": {\"outlinewidth\": 0, \"ticks\": \"\"}, \"type\": \"mesh3d\"}], \"parcoords\": [{\"line\": {\"colorbar\": {\"outlinewidth\": 0, \"ticks\": \"\"}}, \"type\": \"parcoords\"}], \"scatter\": [{\"marker\": {\"colorbar\": {\"outlinewidth\": 0, \"ticks\": \"\"}}, \"type\": \"scatter\"}], \"scatter3d\": [{\"line\": {\"colorbar\": {\"outlinewidth\": 0, \"ticks\": \"\"}}, \"marker\": {\"colorbar\": {\"outlinewidth\": 0, \"ticks\": \"\"}}, \"type\": \"scatter3d\"}], \"scattercarpet\": [{\"marker\": {\"colorbar\": {\"outlinewidth\": 0, \"ticks\": \"\"}}, \"type\": \"scattercarpet\"}], \"scattergeo\": [{\"marker\": {\"colorbar\": {\"outlinewidth\": 0, \"ticks\": \"\"}}, \"type\": \"scattergeo\"}], \"scattergl\": [{\"marker\": {\"colorbar\": {\"outlinewidth\": 0, \"ticks\": \"\"}}, \"type\": \"scattergl\"}], \"scattermapbox\": [{\"marker\": {\"colorbar\": {\"outlinewidth\": 0, \"ticks\": \"\"}}, \"type\": \"scattermapbox\"}], \"scatterpolar\": [{\"marker\": {\"colorbar\": {\"outlinewidth\": 0, \"ticks\": \"\"}}, \"type\": \"scatterpolar\"}], \"scatterpolargl\": [{\"marker\": {\"colorbar\": {\"outlinewidth\": 0, \"ticks\": \"\"}}, \"type\": \"scatterpolargl\"}], \"scatterternary\": [{\"marker\": {\"colorbar\": {\"outlinewidth\": 0, \"ticks\": \"\"}}, \"type\": \"scatterternary\"}], \"surface\": [{\"colorbar\": {\"outlinewidth\": 0, \"ticks\": \"\"}, \"colorscale\": [[0.0, \"#0d0887\"], [0.1111111111111111, \"#46039f\"], [0.2222222222222222, \"#7201a8\"], [0.3333333333333333, \"#9c179e\"], [0.4444444444444444, \"#bd3786\"], [0.5555555555555556, \"#d8576b\"], [0.6666666666666666, \"#ed7953\"], [0.7777777777777778, \"#fb9f3a\"], [0.8888888888888888, \"#fdca26\"], [1.0, \"#f0f921\"]], \"type\": \"surface\"}], \"table\": [{\"cells\": {\"fill\": {\"color\": \"#EBF0F8\"}, \"line\": {\"color\": \"white\"}}, \"header\": {\"fill\": {\"color\": \"#C8D4E3\"}, \"line\": {\"color\": \"white\"}}, \"type\": \"table\"}]}, \"layout\": {\"annotationdefaults\": {\"arrowcolor\": \"#2a3f5f\", \"arrowhead\": 0, \"arrowwidth\": 1}, \"colorscale\": {\"diverging\": [[0, \"#8e0152\"], [0.1, \"#c51b7d\"], [0.2, \"#de77ae\"], [0.3, \"#f1b6da\"], [0.4, \"#fde0ef\"], [0.5, \"#f7f7f7\"], [0.6, \"#e6f5d0\"], [0.7, \"#b8e186\"], [0.8, \"#7fbc41\"], [0.9, \"#4d9221\"], [1, \"#276419\"]], \"sequential\": [[0.0, \"#0d0887\"], [0.1111111111111111, \"#46039f\"], [0.2222222222222222, \"#7201a8\"], [0.3333333333333333, \"#9c179e\"], [0.4444444444444444, \"#bd3786\"], [0.5555555555555556, \"#d8576b\"], [0.6666666666666666, \"#ed7953\"], [0.7777777777777778, \"#fb9f3a\"], [0.8888888888888888, \"#fdca26\"], [1.0, \"#f0f921\"]], \"sequentialminus\": [[0.0, \"#0d0887\"], [0.1111111111111111, \"#46039f\"], [0.2222222222222222, \"#7201a8\"], [0.3333333333333333, \"#9c179e\"], [0.4444444444444444, \"#bd3786\"], [0.5555555555555556, \"#d8576b\"], [0.6666666666666666, \"#ed7953\"], [0.7777777777777778, \"#fb9f3a\"], [0.8888888888888888, \"#fdca26\"], [1.0, \"#f0f921\"]]}, \"colorway\": [\"#636efa\", \"#EF553B\", \"#00cc96\", \"#ab63fa\", \"#FFA15A\", \"#19d3f3\", \"#FF6692\", \"#B6E880\", \"#FF97FF\", \"#FECB52\"], \"font\": {\"color\": \"#2a3f5f\"}, \"geo\": {\"bgcolor\": \"white\", \"lakecolor\": \"white\", \"landcolor\": \"#E5ECF6\", \"showlakes\": true, \"showland\": true, \"subunitcolor\": \"white\"}, \"hoverlabel\": {\"align\": \"left\"}, \"hovermode\": \"closest\", \"mapbox\": {\"style\": \"light\"}, \"paper_bgcolor\": \"white\", \"plot_bgcolor\": \"#E5ECF6\", \"polar\": {\"angularaxis\": {\"gridcolor\": \"white\", \"linecolor\": \"white\", \"ticks\": \"\"}, \"bgcolor\": \"#E5ECF6\", \"radialaxis\": {\"gridcolor\": \"white\", \"linecolor\": \"white\", \"ticks\": \"\"}}, \"scene\": {\"xaxis\": {\"backgroundcolor\": \"#E5ECF6\", \"gridcolor\": \"white\", \"gridwidth\": 2, \"linecolor\": \"white\", \"showbackground\": true, \"ticks\": \"\", \"zerolinecolor\": \"white\"}, \"yaxis\": {\"backgroundcolor\": \"#E5ECF6\", \"gridcolor\": \"white\", \"gridwidth\": 2, \"linecolor\": \"white\", \"showbackground\": true, \"ticks\": \"\", \"zerolinecolor\": \"white\"}, \"zaxis\": {\"backgroundcolor\": \"#E5ECF6\", \"gridcolor\": \"white\", \"gridwidth\": 2, \"linecolor\": \"white\", \"showbackground\": true, \"ticks\": \"\", \"zerolinecolor\": \"white\"}}, \"shapedefaults\": {\"line\": {\"color\": \"#2a3f5f\"}}, \"ternary\": {\"aaxis\": {\"gridcolor\": \"white\", \"linecolor\": \"white\", \"ticks\": \"\"}, \"baxis\": {\"gridcolor\": \"white\", \"linecolor\": \"white\", \"ticks\": \"\"}, \"bgcolor\": \"#E5ECF6\", \"caxis\": {\"gridcolor\": \"white\", \"linecolor\": \"white\", \"ticks\": \"\"}}, \"title\": {\"x\": 0.05}, \"xaxis\": {\"automargin\": true, \"gridcolor\": \"white\", \"linecolor\": \"white\", \"ticks\": \"\", \"zerolinecolor\": \"white\", \"zerolinewidth\": 2}, \"yaxis\": {\"automargin\": true, \"gridcolor\": \"white\", \"linecolor\": \"white\", \"ticks\": \"\", \"zerolinecolor\": \"white\", \"zerolinewidth\": 2}}}, \"title\": {\"text\": \"Sentiments of r/NYU Percentage\"}},\n",
       "                        {\"responsive\": true}\n",
       "                    ).then(function(){\n",
       "                            \n",
       "var gd = document.getElementById('32e67ab1-0625-4d01-8c48-2e69d0f117d0');\n",
       "var x = new MutationObserver(function (mutations, observer) {{\n",
       "        var display = window.getComputedStyle(gd).display;\n",
       "        if (!display || display === 'none') {{\n",
       "            console.log([gd, 'removed!']);\n",
       "            Plotly.purge(gd);\n",
       "            observer.disconnect();\n",
       "        }}\n",
       "}});\n",
       "\n",
       "// Listen for the removal of the full notebook cells\n",
       "var notebookContainer = gd.closest('#notebook-container');\n",
       "if (notebookContainer) {{\n",
       "    x.observe(notebookContainer, {childList: true});\n",
       "}}\n",
       "\n",
       "// Listen for the clearing of the current output cell\n",
       "var outputEl = gd.closest('.output');\n",
       "if (outputEl) {{\n",
       "    x.observe(outputEl, {childList: true});\n",
       "}}\n",
       "\n",
       "                        })\n",
       "                };\n",
       "                });\n",
       "            </script>\n",
       "        </div>"
      ]
     },
     "metadata": {},
     "output_type": "display_data"
    }
   ],
   "source": [
    "#Pie plot of the sentiment percentage\n",
    "trace = go.Pie(\n",
    "    labels = list(post_dict.keys()),\n",
    "    values = list(post_dict.values()),\n",
    ")\n",
    "fig = go.Figure(trace)\n",
    "fig.update_layout(title = 'Sentiments of r/NYU Percentage')\n",
    "fig.show()\n",
    "\n",
    "#Pie plot of the sentiment percentage\n",
    "trace = go.Pie(\n",
    "    labels = list(cmt_di.keys()),\n",
    "    values = list(post_dict.values()),\n",
    ")\n",
    "fig = go.Figure(trace)\n",
    "fig.update_layout(title = 'Sentiments of r/NYU Percentage')\n",
    "fig.show()"
   ]
  },
  {
   "cell_type": "code",
   "execution_count": null,
   "metadata": {},
   "outputs": [],
   "source": []
  },
  {
   "cell_type": "code",
   "execution_count": 313,
   "metadata": {},
   "outputs": [],
   "source": [
    "#Finding the users with the most reddit karma\n",
    "users_ls = users['name'].tolist()\n",
    "scores = {user : 0 for user in users_ls}\n",
    "\n",
    "#Get the score from posts dataframe\n",
    "for index, row in posts.iterrows():\n",
    "    user = row['name']\n",
    "    if user in scores:\n",
    "        scores[user] += row['score']\n",
    "\n",
    "#Get the score from comments dataframe        \n",
    "for index, row in comments.iterrows():\n",
    "    user = row['name']\n",
    "    if user in scores:\n",
    "        scores[user] += row['score']\n",
    "\n",
    "def get_value(k):\n",
    "    return scores[k]"
   ]
  },
  {
   "cell_type": "code",
   "execution_count": 317,
   "metadata": {},
   "outputs": [
    {
     "data": {
      "text/html": [
       "<div>\n",
       "<style scoped>\n",
       "    .dataframe tbody tr th:only-of-type {\n",
       "        vertical-align: middle;\n",
       "    }\n",
       "\n",
       "    .dataframe tbody tr th {\n",
       "        vertical-align: top;\n",
       "    }\n",
       "\n",
       "    .dataframe thead th {\n",
       "        text-align: right;\n",
       "    }\n",
       "</style>\n",
       "<table border=\"1\" class=\"dataframe\">\n",
       "  <thead>\n",
       "    <tr style=\"text-align: right;\">\n",
       "      <th></th>\n",
       "      <th>User</th>\n",
       "      <th>Karma</th>\n",
       "    </tr>\n",
       "  </thead>\n",
       "  <tbody>\n",
       "    <tr>\n",
       "      <th>0</th>\n",
       "      <td>None</td>\n",
       "      <td>4680</td>\n",
       "    </tr>\n",
       "    <tr>\n",
       "      <th>1</th>\n",
       "      <td>Impune</td>\n",
       "      <td>3030</td>\n",
       "    </tr>\n",
       "    <tr>\n",
       "      <th>2</th>\n",
       "      <td>Conpen</td>\n",
       "      <td>1453</td>\n",
       "    </tr>\n",
       "    <tr>\n",
       "      <th>3</th>\n",
       "      <td>sokpuppet1</td>\n",
       "      <td>787</td>\n",
       "    </tr>\n",
       "    <tr>\n",
       "      <th>4</th>\n",
       "      <td>doneanddead</td>\n",
       "      <td>529</td>\n",
       "    </tr>\n",
       "    <tr>\n",
       "      <th>5</th>\n",
       "      <td>KenyaAirwaysAnon</td>\n",
       "      <td>448</td>\n",
       "    </tr>\n",
       "    <tr>\n",
       "      <th>6</th>\n",
       "      <td>lolmonger</td>\n",
       "      <td>429</td>\n",
       "    </tr>\n",
       "    <tr>\n",
       "      <th>7</th>\n",
       "      <td>Wherearemylegs</td>\n",
       "      <td>424</td>\n",
       "    </tr>\n",
       "    <tr>\n",
       "      <th>8</th>\n",
       "      <td>hardwaregeek</td>\n",
       "      <td>420</td>\n",
       "    </tr>\n",
       "    <tr>\n",
       "      <th>9</th>\n",
       "      <td>Iambikecurious</td>\n",
       "      <td>415</td>\n",
       "    </tr>\n",
       "  </tbody>\n",
       "</table>\n",
       "</div>"
      ],
      "text/plain": [
       "               User  Karma\n",
       "0              None   4680\n",
       "1            Impune   3030\n",
       "2            Conpen   1453\n",
       "3        sokpuppet1    787\n",
       "4       doneanddead    529\n",
       "5  KenyaAirwaysAnon    448\n",
       "6         lolmonger    429\n",
       "7    Wherearemylegs    424\n",
       "8      hardwaregeek    420\n",
       "9    Iambikecurious    415"
      ]
     },
     "execution_count": 317,
     "metadata": {},
     "output_type": "execute_result"
    }
   ],
   "source": [
    "top_users = sorted(scores, key = get_value, reverse = True)[:10]\n",
    "top_scores = list()\n",
    "for user in top_users:\n",
    "    top_scores.append(scores[user])\n",
    "\n",
    "top_posters = pd.DataFrame({'User': top_users, 'Karma': top_scores})\n",
    "top_posters"
   ]
  },
  {
   "cell_type": "code",
   "execution_count": 326,
   "metadata": {},
   "outputs": [
    {
     "data": {
      "application/vnd.plotly.v1+json": {
       "config": {
        "plotlyServerURL": "https://plot.ly"
       },
       "data": [
        {
         "marker": {
          "color": "darkviolet"
         },
         "name": "None",
         "type": "bar",
         "x": [
          "None"
         ],
         "y": [
          4680
         ]
        },
        {
         "marker": {
          "color": "darkviolet"
         },
         "name": "Impune",
         "type": "bar",
         "x": [
          "Impune"
         ],
         "y": [
          3030
         ]
        },
        {
         "marker": {
          "color": "darkviolet"
         },
         "name": "Conpen",
         "type": "bar",
         "x": [
          "Conpen"
         ],
         "y": [
          1453
         ]
        },
        {
         "marker": {
          "color": "darkviolet"
         },
         "name": "sokpuppet1",
         "type": "bar",
         "x": [
          "sokpuppet1"
         ],
         "y": [
          787
         ]
        },
        {
         "marker": {
          "color": "darkviolet"
         },
         "name": "doneanddead",
         "type": "bar",
         "x": [
          "doneanddead"
         ],
         "y": [
          529
         ]
        },
        {
         "marker": {
          "color": "darkviolet"
         },
         "name": "KenyaAirwaysAnon",
         "type": "bar",
         "x": [
          "KenyaAirwaysAnon"
         ],
         "y": [
          448
         ]
        },
        {
         "marker": {
          "color": "darkviolet"
         },
         "name": "lolmonger",
         "type": "bar",
         "x": [
          "lolmonger"
         ],
         "y": [
          429
         ]
        },
        {
         "marker": {
          "color": "darkviolet"
         },
         "name": "Wherearemylegs",
         "type": "bar",
         "x": [
          "Wherearemylegs"
         ],
         "y": [
          424
         ]
        },
        {
         "marker": {
          "color": "darkviolet"
         },
         "name": "hardwaregeek",
         "type": "bar",
         "x": [
          "hardwaregeek"
         ],
         "y": [
          420
         ]
        },
        {
         "marker": {
          "color": "darkviolet"
         },
         "name": "Iambikecurious",
         "type": "bar",
         "x": [
          "Iambikecurious"
         ],
         "y": [
          415
         ]
        },
        {
         "marker": {
          "color": "darkviolet"
         },
         "name": "memento15",
         "type": "bar",
         "x": [
          "memento15"
         ],
         "y": [
          403
         ]
        },
        {
         "marker": {
          "color": "darkviolet"
         },
         "name": "mrmbuceta",
         "type": "bar",
         "x": [
          "mrmbuceta"
         ],
         "y": [
          356
         ]
        },
        {
         "marker": {
          "color": "darkviolet"
         },
         "name": "ahhhhhhhhhthrowaway",
         "type": "bar",
         "x": [
          "ahhhhhhhhhthrowaway"
         ],
         "y": [
          355
         ]
        },
        {
         "marker": {
          "color": "darkviolet"
         },
         "name": "IgglePiggle69420",
         "type": "bar",
         "x": [
          "IgglePiggle69420"
         ],
         "y": [
          328
         ]
        },
        {
         "marker": {
          "color": "darkviolet"
         },
         "name": "unqualifiedking",
         "type": "bar",
         "x": [
          "unqualifiedking"
         ],
         "y": [
          323
         ]
        },
        {
         "marker": {
          "color": "darkviolet"
         },
         "name": "NotDido",
         "type": "bar",
         "x": [
          "NotDido"
         ],
         "y": [
          323
         ]
        },
        {
         "marker": {
          "color": "darkviolet"
         },
         "name": "dreaminq",
         "type": "bar",
         "x": [
          "dreaminq"
         ],
         "y": [
          304
         ]
        },
        {
         "marker": {
          "color": "darkviolet"
         },
         "name": "r55r44",
         "type": "bar",
         "x": [
          "r55r44"
         ],
         "y": [
          304
         ]
        },
        {
         "marker": {
          "color": "darkviolet"
         },
         "name": "peter_pounce",
         "type": "bar",
         "x": [
          "peter_pounce"
         ],
         "y": [
          290
         ]
        },
        {
         "marker": {
          "color": "darkviolet"
         },
         "name": "rzrike",
         "type": "bar",
         "x": [
          "rzrike"
         ],
         "y": [
          289
         ]
        },
        {
         "marker": {
          "color": "darkviolet"
         },
         "name": "SirDeniz",
         "type": "bar",
         "x": [
          "SirDeniz"
         ],
         "y": [
          281
         ]
        },
        {
         "marker": {
          "color": "darkviolet"
         },
         "name": "Not_Ayn_Rand",
         "type": "bar",
         "x": [
          "Not_Ayn_Rand"
         ],
         "y": [
          266
         ]
        },
        {
         "marker": {
          "color": "darkviolet"
         },
         "name": "blu3flannel",
         "type": "bar",
         "x": [
          "blu3flannel"
         ],
         "y": [
          263
         ]
        },
        {
         "marker": {
          "color": "darkviolet"
         },
         "name": "wannalimou",
         "type": "bar",
         "x": [
          "wannalimou"
         ],
         "y": [
          262
         ]
        },
        {
         "marker": {
          "color": "darkviolet"
         },
         "name": "100dylan99",
         "type": "bar",
         "x": [
          "100dylan99"
         ],
         "y": [
          239
         ]
        },
        {
         "marker": {
          "color": "darkviolet"
         },
         "name": "theEolian",
         "type": "bar",
         "x": [
          "theEolian"
         ],
         "y": [
          230
         ]
        },
        {
         "marker": {
          "color": "darkviolet"
         },
         "name": "slukenz",
         "type": "bar",
         "x": [
          "slukenz"
         ],
         "y": [
          230
         ]
        },
        {
         "marker": {
          "color": "darkviolet"
         },
         "name": "KittyScholar",
         "type": "bar",
         "x": [
          "KittyScholar"
         ],
         "y": [
          229
         ]
        },
        {
         "marker": {
          "color": "darkviolet"
         },
         "name": "itsrichardparkerr",
         "type": "bar",
         "x": [
          "itsrichardparkerr"
         ],
         "y": [
          228
         ]
        },
        {
         "marker": {
          "color": "darkviolet"
         },
         "name": "skier",
         "type": "bar",
         "x": [
          "skier"
         ],
         "y": [
          220
         ]
        },
        {
         "marker": {
          "color": "darkviolet"
         },
         "name": "PJChloupek",
         "type": "bar",
         "x": [
          "PJChloupek"
         ],
         "y": [
          219
         ]
        },
        {
         "marker": {
          "color": "darkviolet"
         },
         "name": "cxavier",
         "type": "bar",
         "x": [
          "cxavier"
         ],
         "y": [
          219
         ]
        },
        {
         "marker": {
          "color": "darkviolet"
         },
         "name": "arctic_moss",
         "type": "bar",
         "x": [
          "arctic_moss"
         ],
         "y": [
          213
         ]
        },
        {
         "marker": {
          "color": "darkviolet"
         },
         "name": "Pakmed",
         "type": "bar",
         "x": [
          "Pakmed"
         ],
         "y": [
          210
         ]
        },
        {
         "marker": {
          "color": "darkviolet"
         },
         "name": "Kerse",
         "type": "bar",
         "x": [
          "Kerse"
         ],
         "y": [
          210
         ]
        },
        {
         "marker": {
          "color": "darkviolet"
         },
         "name": "jdgoldfine",
         "type": "bar",
         "x": [
          "jdgoldfine"
         ],
         "y": [
          207
         ]
        },
        {
         "marker": {
          "color": "darkviolet"
         },
         "name": "imsh9381",
         "type": "bar",
         "x": [
          "imsh9381"
         ],
         "y": [
          207
         ]
        },
        {
         "marker": {
          "color": "darkviolet"
         },
         "name": "NYUStudent9",
         "type": "bar",
         "x": [
          "NYUStudent9"
         ],
         "y": [
          204
         ]
        },
        {
         "marker": {
          "color": "darkviolet"
         },
         "name": "jaundicedave",
         "type": "bar",
         "x": [
          "jaundicedave"
         ],
         "y": [
          201
         ]
        },
        {
         "marker": {
          "color": "darkviolet"
         },
         "name": "NY2018MMM",
         "type": "bar",
         "x": [
          "NY2018MMM"
         ],
         "y": [
          197
         ]
        },
        {
         "marker": {
          "color": "darkviolet"
         },
         "name": "volhair",
         "type": "bar",
         "x": [
          "volhair"
         ],
         "y": [
          194
         ]
        },
        {
         "marker": {
          "color": "darkviolet"
         },
         "name": "InterstellarBlue",
         "type": "bar",
         "x": [
          "InterstellarBlue"
         ],
         "y": [
          192
         ]
        },
        {
         "marker": {
          "color": "darkviolet"
         },
         "name": "byanigul",
         "type": "bar",
         "x": [
          "byanigul"
         ],
         "y": [
          182
         ]
        },
        {
         "marker": {
          "color": "darkviolet"
         },
         "name": "mm0nam",
         "type": "bar",
         "x": [
          "mm0nam"
         ],
         "y": [
          182
         ]
        },
        {
         "marker": {
          "color": "darkviolet"
         },
         "name": "tricksta616",
         "type": "bar",
         "x": [
          "tricksta616"
         ],
         "y": [
          182
         ]
        },
        {
         "marker": {
          "color": "darkviolet"
         },
         "name": "Rdxenti",
         "type": "bar",
         "x": [
          "Rdxenti"
         ],
         "y": [
          171
         ]
        },
        {
         "marker": {
          "color": "darkviolet"
         },
         "name": "DianeSucks",
         "type": "bar",
         "x": [
          "DianeSucks"
         ],
         "y": [
          171
         ]
        },
        {
         "marker": {
          "color": "darkviolet"
         },
         "name": "RamenTheory",
         "type": "bar",
         "x": [
          "RamenTheory"
         ],
         "y": [
          170
         ]
        },
        {
         "marker": {
          "color": "darkviolet"
         },
         "name": "Smartt88",
         "type": "bar",
         "x": [
          "Smartt88"
         ],
         "y": [
          170
         ]
        },
        {
         "marker": {
          "color": "darkviolet"
         },
         "name": "5uicidalxD",
         "type": "bar",
         "x": [
          "5uicidalxD"
         ],
         "y": [
          170
         ]
        }
       ],
       "layout": {
        "template": {
         "data": {
          "bar": [
           {
            "error_x": {
             "color": "#2a3f5f"
            },
            "error_y": {
             "color": "#2a3f5f"
            },
            "marker": {
             "line": {
              "color": "#E5ECF6",
              "width": 0.5
             }
            },
            "type": "bar"
           }
          ],
          "barpolar": [
           {
            "marker": {
             "line": {
              "color": "#E5ECF6",
              "width": 0.5
             }
            },
            "type": "barpolar"
           }
          ],
          "carpet": [
           {
            "aaxis": {
             "endlinecolor": "#2a3f5f",
             "gridcolor": "white",
             "linecolor": "white",
             "minorgridcolor": "white",
             "startlinecolor": "#2a3f5f"
            },
            "baxis": {
             "endlinecolor": "#2a3f5f",
             "gridcolor": "white",
             "linecolor": "white",
             "minorgridcolor": "white",
             "startlinecolor": "#2a3f5f"
            },
            "type": "carpet"
           }
          ],
          "choropleth": [
           {
            "colorbar": {
             "outlinewidth": 0,
             "ticks": ""
            },
            "type": "choropleth"
           }
          ],
          "contour": [
           {
            "colorbar": {
             "outlinewidth": 0,
             "ticks": ""
            },
            "colorscale": [
             [
              0,
              "#0d0887"
             ],
             [
              0.1111111111111111,
              "#46039f"
             ],
             [
              0.2222222222222222,
              "#7201a8"
             ],
             [
              0.3333333333333333,
              "#9c179e"
             ],
             [
              0.4444444444444444,
              "#bd3786"
             ],
             [
              0.5555555555555556,
              "#d8576b"
             ],
             [
              0.6666666666666666,
              "#ed7953"
             ],
             [
              0.7777777777777778,
              "#fb9f3a"
             ],
             [
              0.8888888888888888,
              "#fdca26"
             ],
             [
              1,
              "#f0f921"
             ]
            ],
            "type": "contour"
           }
          ],
          "contourcarpet": [
           {
            "colorbar": {
             "outlinewidth": 0,
             "ticks": ""
            },
            "type": "contourcarpet"
           }
          ],
          "heatmap": [
           {
            "colorbar": {
             "outlinewidth": 0,
             "ticks": ""
            },
            "colorscale": [
             [
              0,
              "#0d0887"
             ],
             [
              0.1111111111111111,
              "#46039f"
             ],
             [
              0.2222222222222222,
              "#7201a8"
             ],
             [
              0.3333333333333333,
              "#9c179e"
             ],
             [
              0.4444444444444444,
              "#bd3786"
             ],
             [
              0.5555555555555556,
              "#d8576b"
             ],
             [
              0.6666666666666666,
              "#ed7953"
             ],
             [
              0.7777777777777778,
              "#fb9f3a"
             ],
             [
              0.8888888888888888,
              "#fdca26"
             ],
             [
              1,
              "#f0f921"
             ]
            ],
            "type": "heatmap"
           }
          ],
          "heatmapgl": [
           {
            "colorbar": {
             "outlinewidth": 0,
             "ticks": ""
            },
            "colorscale": [
             [
              0,
              "#0d0887"
             ],
             [
              0.1111111111111111,
              "#46039f"
             ],
             [
              0.2222222222222222,
              "#7201a8"
             ],
             [
              0.3333333333333333,
              "#9c179e"
             ],
             [
              0.4444444444444444,
              "#bd3786"
             ],
             [
              0.5555555555555556,
              "#d8576b"
             ],
             [
              0.6666666666666666,
              "#ed7953"
             ],
             [
              0.7777777777777778,
              "#fb9f3a"
             ],
             [
              0.8888888888888888,
              "#fdca26"
             ],
             [
              1,
              "#f0f921"
             ]
            ],
            "type": "heatmapgl"
           }
          ],
          "histogram": [
           {
            "marker": {
             "colorbar": {
              "outlinewidth": 0,
              "ticks": ""
             }
            },
            "type": "histogram"
           }
          ],
          "histogram2d": [
           {
            "colorbar": {
             "outlinewidth": 0,
             "ticks": ""
            },
            "colorscale": [
             [
              0,
              "#0d0887"
             ],
             [
              0.1111111111111111,
              "#46039f"
             ],
             [
              0.2222222222222222,
              "#7201a8"
             ],
             [
              0.3333333333333333,
              "#9c179e"
             ],
             [
              0.4444444444444444,
              "#bd3786"
             ],
             [
              0.5555555555555556,
              "#d8576b"
             ],
             [
              0.6666666666666666,
              "#ed7953"
             ],
             [
              0.7777777777777778,
              "#fb9f3a"
             ],
             [
              0.8888888888888888,
              "#fdca26"
             ],
             [
              1,
              "#f0f921"
             ]
            ],
            "type": "histogram2d"
           }
          ],
          "histogram2dcontour": [
           {
            "colorbar": {
             "outlinewidth": 0,
             "ticks": ""
            },
            "colorscale": [
             [
              0,
              "#0d0887"
             ],
             [
              0.1111111111111111,
              "#46039f"
             ],
             [
              0.2222222222222222,
              "#7201a8"
             ],
             [
              0.3333333333333333,
              "#9c179e"
             ],
             [
              0.4444444444444444,
              "#bd3786"
             ],
             [
              0.5555555555555556,
              "#d8576b"
             ],
             [
              0.6666666666666666,
              "#ed7953"
             ],
             [
              0.7777777777777778,
              "#fb9f3a"
             ],
             [
              0.8888888888888888,
              "#fdca26"
             ],
             [
              1,
              "#f0f921"
             ]
            ],
            "type": "histogram2dcontour"
           }
          ],
          "mesh3d": [
           {
            "colorbar": {
             "outlinewidth": 0,
             "ticks": ""
            },
            "type": "mesh3d"
           }
          ],
          "parcoords": [
           {
            "line": {
             "colorbar": {
              "outlinewidth": 0,
              "ticks": ""
             }
            },
            "type": "parcoords"
           }
          ],
          "scatter": [
           {
            "marker": {
             "colorbar": {
              "outlinewidth": 0,
              "ticks": ""
             }
            },
            "type": "scatter"
           }
          ],
          "scatter3d": [
           {
            "line": {
             "colorbar": {
              "outlinewidth": 0,
              "ticks": ""
             }
            },
            "marker": {
             "colorbar": {
              "outlinewidth": 0,
              "ticks": ""
             }
            },
            "type": "scatter3d"
           }
          ],
          "scattercarpet": [
           {
            "marker": {
             "colorbar": {
              "outlinewidth": 0,
              "ticks": ""
             }
            },
            "type": "scattercarpet"
           }
          ],
          "scattergeo": [
           {
            "marker": {
             "colorbar": {
              "outlinewidth": 0,
              "ticks": ""
             }
            },
            "type": "scattergeo"
           }
          ],
          "scattergl": [
           {
            "marker": {
             "colorbar": {
              "outlinewidth": 0,
              "ticks": ""
             }
            },
            "type": "scattergl"
           }
          ],
          "scattermapbox": [
           {
            "marker": {
             "colorbar": {
              "outlinewidth": 0,
              "ticks": ""
             }
            },
            "type": "scattermapbox"
           }
          ],
          "scatterpolar": [
           {
            "marker": {
             "colorbar": {
              "outlinewidth": 0,
              "ticks": ""
             }
            },
            "type": "scatterpolar"
           }
          ],
          "scatterpolargl": [
           {
            "marker": {
             "colorbar": {
              "outlinewidth": 0,
              "ticks": ""
             }
            },
            "type": "scatterpolargl"
           }
          ],
          "scatterternary": [
           {
            "marker": {
             "colorbar": {
              "outlinewidth": 0,
              "ticks": ""
             }
            },
            "type": "scatterternary"
           }
          ],
          "surface": [
           {
            "colorbar": {
             "outlinewidth": 0,
             "ticks": ""
            },
            "colorscale": [
             [
              0,
              "#0d0887"
             ],
             [
              0.1111111111111111,
              "#46039f"
             ],
             [
              0.2222222222222222,
              "#7201a8"
             ],
             [
              0.3333333333333333,
              "#9c179e"
             ],
             [
              0.4444444444444444,
              "#bd3786"
             ],
             [
              0.5555555555555556,
              "#d8576b"
             ],
             [
              0.6666666666666666,
              "#ed7953"
             ],
             [
              0.7777777777777778,
              "#fb9f3a"
             ],
             [
              0.8888888888888888,
              "#fdca26"
             ],
             [
              1,
              "#f0f921"
             ]
            ],
            "type": "surface"
           }
          ],
          "table": [
           {
            "cells": {
             "fill": {
              "color": "#EBF0F8"
             },
             "line": {
              "color": "white"
             }
            },
            "header": {
             "fill": {
              "color": "#C8D4E3"
             },
             "line": {
              "color": "white"
             }
            },
            "type": "table"
           }
          ]
         },
         "layout": {
          "annotationdefaults": {
           "arrowcolor": "#2a3f5f",
           "arrowhead": 0,
           "arrowwidth": 1
          },
          "colorscale": {
           "diverging": [
            [
             0,
             "#8e0152"
            ],
            [
             0.1,
             "#c51b7d"
            ],
            [
             0.2,
             "#de77ae"
            ],
            [
             0.3,
             "#f1b6da"
            ],
            [
             0.4,
             "#fde0ef"
            ],
            [
             0.5,
             "#f7f7f7"
            ],
            [
             0.6,
             "#e6f5d0"
            ],
            [
             0.7,
             "#b8e186"
            ],
            [
             0.8,
             "#7fbc41"
            ],
            [
             0.9,
             "#4d9221"
            ],
            [
             1,
             "#276419"
            ]
           ],
           "sequential": [
            [
             0,
             "#0d0887"
            ],
            [
             0.1111111111111111,
             "#46039f"
            ],
            [
             0.2222222222222222,
             "#7201a8"
            ],
            [
             0.3333333333333333,
             "#9c179e"
            ],
            [
             0.4444444444444444,
             "#bd3786"
            ],
            [
             0.5555555555555556,
             "#d8576b"
            ],
            [
             0.6666666666666666,
             "#ed7953"
            ],
            [
             0.7777777777777778,
             "#fb9f3a"
            ],
            [
             0.8888888888888888,
             "#fdca26"
            ],
            [
             1,
             "#f0f921"
            ]
           ],
           "sequentialminus": [
            [
             0,
             "#0d0887"
            ],
            [
             0.1111111111111111,
             "#46039f"
            ],
            [
             0.2222222222222222,
             "#7201a8"
            ],
            [
             0.3333333333333333,
             "#9c179e"
            ],
            [
             0.4444444444444444,
             "#bd3786"
            ],
            [
             0.5555555555555556,
             "#d8576b"
            ],
            [
             0.6666666666666666,
             "#ed7953"
            ],
            [
             0.7777777777777778,
             "#fb9f3a"
            ],
            [
             0.8888888888888888,
             "#fdca26"
            ],
            [
             1,
             "#f0f921"
            ]
           ]
          },
          "colorway": [
           "#636efa",
           "#EF553B",
           "#00cc96",
           "#ab63fa",
           "#FFA15A",
           "#19d3f3",
           "#FF6692",
           "#B6E880",
           "#FF97FF",
           "#FECB52"
          ],
          "font": {
           "color": "#2a3f5f"
          },
          "geo": {
           "bgcolor": "white",
           "lakecolor": "white",
           "landcolor": "#E5ECF6",
           "showlakes": true,
           "showland": true,
           "subunitcolor": "white"
          },
          "hoverlabel": {
           "align": "left"
          },
          "hovermode": "closest",
          "mapbox": {
           "style": "light"
          },
          "paper_bgcolor": "white",
          "plot_bgcolor": "#E5ECF6",
          "polar": {
           "angularaxis": {
            "gridcolor": "white",
            "linecolor": "white",
            "ticks": ""
           },
           "bgcolor": "#E5ECF6",
           "radialaxis": {
            "gridcolor": "white",
            "linecolor": "white",
            "ticks": ""
           }
          },
          "scene": {
           "xaxis": {
            "backgroundcolor": "#E5ECF6",
            "gridcolor": "white",
            "gridwidth": 2,
            "linecolor": "white",
            "showbackground": true,
            "ticks": "",
            "zerolinecolor": "white"
           },
           "yaxis": {
            "backgroundcolor": "#E5ECF6",
            "gridcolor": "white",
            "gridwidth": 2,
            "linecolor": "white",
            "showbackground": true,
            "ticks": "",
            "zerolinecolor": "white"
           },
           "zaxis": {
            "backgroundcolor": "#E5ECF6",
            "gridcolor": "white",
            "gridwidth": 2,
            "linecolor": "white",
            "showbackground": true,
            "ticks": "",
            "zerolinecolor": "white"
           }
          },
          "shapedefaults": {
           "line": {
            "color": "#2a3f5f"
           }
          },
          "ternary": {
           "aaxis": {
            "gridcolor": "white",
            "linecolor": "white",
            "ticks": ""
           },
           "baxis": {
            "gridcolor": "white",
            "linecolor": "white",
            "ticks": ""
           },
           "bgcolor": "#E5ECF6",
           "caxis": {
            "gridcolor": "white",
            "linecolor": "white",
            "ticks": ""
           }
          },
          "title": {
           "x": 0.05
          },
          "xaxis": {
           "automargin": true,
           "gridcolor": "white",
           "linecolor": "white",
           "ticks": "",
           "zerolinecolor": "white",
           "zerolinewidth": 2
          },
          "yaxis": {
           "automargin": true,
           "gridcolor": "white",
           "linecolor": "white",
           "ticks": "",
           "zerolinecolor": "white",
           "zerolinewidth": 2
          }
         }
        },
        "title": {
         "text": "Most Popular Posters/Commenters on r/NYU"
        },
        "xaxis": {
         "title": {
          "text": "Users"
         }
        },
        "yaxis": {
         "title": {
          "text": "Total Karmas"
         }
        }
       }
      },
      "text/html": [
       "<div>\n",
       "        \n",
       "        \n",
       "            <div id=\"2f5d9fc0-738e-4ddf-b9a3-39911ff1c6ef\" class=\"plotly-graph-div\" style=\"height:525px; width:100%;\"></div>\n",
       "            <script type=\"text/javascript\">\n",
       "                require([\"plotly\"], function(Plotly) {\n",
       "                    window.PLOTLYENV=window.PLOTLYENV || {};\n",
       "                    \n",
       "                if (document.getElementById(\"2f5d9fc0-738e-4ddf-b9a3-39911ff1c6ef\")) {\n",
       "                    Plotly.newPlot(\n",
       "                        '2f5d9fc0-738e-4ddf-b9a3-39911ff1c6ef',\n",
       "                        [{\"marker\": {\"color\": \"darkviolet\"}, \"name\": \"None\", \"type\": \"bar\", \"x\": [\"None\"], \"y\": [4680]}, {\"marker\": {\"color\": \"darkviolet\"}, \"name\": \"Impune\", \"type\": \"bar\", \"x\": [\"Impune\"], \"y\": [3030]}, {\"marker\": {\"color\": \"darkviolet\"}, \"name\": \"Conpen\", \"type\": \"bar\", \"x\": [\"Conpen\"], \"y\": [1453]}, {\"marker\": {\"color\": \"darkviolet\"}, \"name\": \"sokpuppet1\", \"type\": \"bar\", \"x\": [\"sokpuppet1\"], \"y\": [787]}, {\"marker\": {\"color\": \"darkviolet\"}, \"name\": \"doneanddead\", \"type\": \"bar\", \"x\": [\"doneanddead\"], \"y\": [529]}, {\"marker\": {\"color\": \"darkviolet\"}, \"name\": \"KenyaAirwaysAnon\", \"type\": \"bar\", \"x\": [\"KenyaAirwaysAnon\"], \"y\": [448]}, {\"marker\": {\"color\": \"darkviolet\"}, \"name\": \"lolmonger\", \"type\": \"bar\", \"x\": [\"lolmonger\"], \"y\": [429]}, {\"marker\": {\"color\": \"darkviolet\"}, \"name\": \"Wherearemylegs\", \"type\": \"bar\", \"x\": [\"Wherearemylegs\"], \"y\": [424]}, {\"marker\": {\"color\": \"darkviolet\"}, \"name\": \"hardwaregeek\", \"type\": \"bar\", \"x\": [\"hardwaregeek\"], \"y\": [420]}, {\"marker\": {\"color\": \"darkviolet\"}, \"name\": \"Iambikecurious\", \"type\": \"bar\", \"x\": [\"Iambikecurious\"], \"y\": [415]}, {\"marker\": {\"color\": \"darkviolet\"}, \"name\": \"memento15\", \"type\": \"bar\", \"x\": [\"memento15\"], \"y\": [403]}, {\"marker\": {\"color\": \"darkviolet\"}, \"name\": \"mrmbuceta\", \"type\": \"bar\", \"x\": [\"mrmbuceta\"], \"y\": [356]}, {\"marker\": {\"color\": \"darkviolet\"}, \"name\": \"ahhhhhhhhhthrowaway\", \"type\": \"bar\", \"x\": [\"ahhhhhhhhhthrowaway\"], \"y\": [355]}, {\"marker\": {\"color\": \"darkviolet\"}, \"name\": \"IgglePiggle69420\", \"type\": \"bar\", \"x\": [\"IgglePiggle69420\"], \"y\": [328]}, {\"marker\": {\"color\": \"darkviolet\"}, \"name\": \"unqualifiedking\", \"type\": \"bar\", \"x\": [\"unqualifiedking\"], \"y\": [323]}, {\"marker\": {\"color\": \"darkviolet\"}, \"name\": \"NotDido\", \"type\": \"bar\", \"x\": [\"NotDido\"], \"y\": [323]}, {\"marker\": {\"color\": \"darkviolet\"}, \"name\": \"dreaminq\", \"type\": \"bar\", \"x\": [\"dreaminq\"], \"y\": [304]}, {\"marker\": {\"color\": \"darkviolet\"}, \"name\": \"r55r44\", \"type\": \"bar\", \"x\": [\"r55r44\"], \"y\": [304]}, {\"marker\": {\"color\": \"darkviolet\"}, \"name\": \"peter_pounce\", \"type\": \"bar\", \"x\": [\"peter_pounce\"], \"y\": [290]}, {\"marker\": {\"color\": \"darkviolet\"}, \"name\": \"rzrike\", \"type\": \"bar\", \"x\": [\"rzrike\"], \"y\": [289]}, {\"marker\": {\"color\": \"darkviolet\"}, \"name\": \"SirDeniz\", \"type\": \"bar\", \"x\": [\"SirDeniz\"], \"y\": [281]}, {\"marker\": {\"color\": \"darkviolet\"}, \"name\": \"Not_Ayn_Rand\", \"type\": \"bar\", \"x\": [\"Not_Ayn_Rand\"], \"y\": [266]}, {\"marker\": {\"color\": \"darkviolet\"}, \"name\": \"blu3flannel\", \"type\": \"bar\", \"x\": [\"blu3flannel\"], \"y\": [263]}, {\"marker\": {\"color\": \"darkviolet\"}, \"name\": \"wannalimou\", \"type\": \"bar\", \"x\": [\"wannalimou\"], \"y\": [262]}, {\"marker\": {\"color\": \"darkviolet\"}, \"name\": \"100dylan99\", \"type\": \"bar\", \"x\": [\"100dylan99\"], \"y\": [239]}, {\"marker\": {\"color\": \"darkviolet\"}, \"name\": \"theEolian\", \"type\": \"bar\", \"x\": [\"theEolian\"], \"y\": [230]}, {\"marker\": {\"color\": \"darkviolet\"}, \"name\": \"slukenz\", \"type\": \"bar\", \"x\": [\"slukenz\"], \"y\": [230]}, {\"marker\": {\"color\": \"darkviolet\"}, \"name\": \"KittyScholar\", \"type\": \"bar\", \"x\": [\"KittyScholar\"], \"y\": [229]}, {\"marker\": {\"color\": \"darkviolet\"}, \"name\": \"itsrichardparkerr\", \"type\": \"bar\", \"x\": [\"itsrichardparkerr\"], \"y\": [228]}, {\"marker\": {\"color\": \"darkviolet\"}, \"name\": \"skier\", \"type\": \"bar\", \"x\": [\"skier\"], \"y\": [220]}, {\"marker\": {\"color\": \"darkviolet\"}, \"name\": \"PJChloupek\", \"type\": \"bar\", \"x\": [\"PJChloupek\"], \"y\": [219]}, {\"marker\": {\"color\": \"darkviolet\"}, \"name\": \"cxavier\", \"type\": \"bar\", \"x\": [\"cxavier\"], \"y\": [219]}, {\"marker\": {\"color\": \"darkviolet\"}, \"name\": \"arctic_moss\", \"type\": \"bar\", \"x\": [\"arctic_moss\"], \"y\": [213]}, {\"marker\": {\"color\": \"darkviolet\"}, \"name\": \"Pakmed\", \"type\": \"bar\", \"x\": [\"Pakmed\"], \"y\": [210]}, {\"marker\": {\"color\": \"darkviolet\"}, \"name\": \"Kerse\", \"type\": \"bar\", \"x\": [\"Kerse\"], \"y\": [210]}, {\"marker\": {\"color\": \"darkviolet\"}, \"name\": \"jdgoldfine\", \"type\": \"bar\", \"x\": [\"jdgoldfine\"], \"y\": [207]}, {\"marker\": {\"color\": \"darkviolet\"}, \"name\": \"imsh9381\", \"type\": \"bar\", \"x\": [\"imsh9381\"], \"y\": [207]}, {\"marker\": {\"color\": \"darkviolet\"}, \"name\": \"NYUStudent9\", \"type\": \"bar\", \"x\": [\"NYUStudent9\"], \"y\": [204]}, {\"marker\": {\"color\": \"darkviolet\"}, \"name\": \"jaundicedave\", \"type\": \"bar\", \"x\": [\"jaundicedave\"], \"y\": [201]}, {\"marker\": {\"color\": \"darkviolet\"}, \"name\": \"NY2018MMM\", \"type\": \"bar\", \"x\": [\"NY2018MMM\"], \"y\": [197]}, {\"marker\": {\"color\": \"darkviolet\"}, \"name\": \"volhair\", \"type\": \"bar\", \"x\": [\"volhair\"], \"y\": [194]}, {\"marker\": {\"color\": \"darkviolet\"}, \"name\": \"InterstellarBlue\", \"type\": \"bar\", \"x\": [\"InterstellarBlue\"], \"y\": [192]}, {\"marker\": {\"color\": \"darkviolet\"}, \"name\": \"byanigul\", \"type\": \"bar\", \"x\": [\"byanigul\"], \"y\": [182]}, {\"marker\": {\"color\": \"darkviolet\"}, \"name\": \"mm0nam\", \"type\": \"bar\", \"x\": [\"mm0nam\"], \"y\": [182]}, {\"marker\": {\"color\": \"darkviolet\"}, \"name\": \"tricksta616\", \"type\": \"bar\", \"x\": [\"tricksta616\"], \"y\": [182]}, {\"marker\": {\"color\": \"darkviolet\"}, \"name\": \"Rdxenti\", \"type\": \"bar\", \"x\": [\"Rdxenti\"], \"y\": [171]}, {\"marker\": {\"color\": \"darkviolet\"}, \"name\": \"DianeSucks\", \"type\": \"bar\", \"x\": [\"DianeSucks\"], \"y\": [171]}, {\"marker\": {\"color\": \"darkviolet\"}, \"name\": \"RamenTheory\", \"type\": \"bar\", \"x\": [\"RamenTheory\"], \"y\": [170]}, {\"marker\": {\"color\": \"darkviolet\"}, \"name\": \"Smartt88\", \"type\": \"bar\", \"x\": [\"Smartt88\"], \"y\": [170]}, {\"marker\": {\"color\": \"darkviolet\"}, \"name\": \"5uicidalxD\", \"type\": \"bar\", \"x\": [\"5uicidalxD\"], \"y\": [170]}],\n",
       "                        {\"template\": {\"data\": {\"bar\": [{\"error_x\": {\"color\": \"#2a3f5f\"}, \"error_y\": {\"color\": \"#2a3f5f\"}, \"marker\": {\"line\": {\"color\": \"#E5ECF6\", \"width\": 0.5}}, \"type\": \"bar\"}], \"barpolar\": [{\"marker\": {\"line\": {\"color\": \"#E5ECF6\", \"width\": 0.5}}, \"type\": \"barpolar\"}], \"carpet\": [{\"aaxis\": {\"endlinecolor\": \"#2a3f5f\", \"gridcolor\": \"white\", \"linecolor\": \"white\", \"minorgridcolor\": \"white\", \"startlinecolor\": \"#2a3f5f\"}, \"baxis\": {\"endlinecolor\": \"#2a3f5f\", \"gridcolor\": \"white\", \"linecolor\": \"white\", \"minorgridcolor\": \"white\", \"startlinecolor\": \"#2a3f5f\"}, \"type\": \"carpet\"}], \"choropleth\": [{\"colorbar\": {\"outlinewidth\": 0, \"ticks\": \"\"}, \"type\": \"choropleth\"}], \"contour\": [{\"colorbar\": {\"outlinewidth\": 0, \"ticks\": \"\"}, \"colorscale\": [[0.0, \"#0d0887\"], [0.1111111111111111, \"#46039f\"], [0.2222222222222222, \"#7201a8\"], [0.3333333333333333, \"#9c179e\"], [0.4444444444444444, \"#bd3786\"], [0.5555555555555556, \"#d8576b\"], [0.6666666666666666, \"#ed7953\"], [0.7777777777777778, \"#fb9f3a\"], [0.8888888888888888, \"#fdca26\"], [1.0, \"#f0f921\"]], \"type\": \"contour\"}], \"contourcarpet\": [{\"colorbar\": {\"outlinewidth\": 0, \"ticks\": \"\"}, \"type\": \"contourcarpet\"}], \"heatmap\": [{\"colorbar\": {\"outlinewidth\": 0, \"ticks\": \"\"}, \"colorscale\": [[0.0, \"#0d0887\"], [0.1111111111111111, \"#46039f\"], [0.2222222222222222, \"#7201a8\"], [0.3333333333333333, \"#9c179e\"], [0.4444444444444444, \"#bd3786\"], [0.5555555555555556, \"#d8576b\"], [0.6666666666666666, \"#ed7953\"], [0.7777777777777778, \"#fb9f3a\"], [0.8888888888888888, \"#fdca26\"], [1.0, \"#f0f921\"]], \"type\": \"heatmap\"}], \"heatmapgl\": [{\"colorbar\": {\"outlinewidth\": 0, \"ticks\": \"\"}, \"colorscale\": [[0.0, \"#0d0887\"], [0.1111111111111111, \"#46039f\"], [0.2222222222222222, \"#7201a8\"], [0.3333333333333333, \"#9c179e\"], [0.4444444444444444, \"#bd3786\"], [0.5555555555555556, \"#d8576b\"], [0.6666666666666666, \"#ed7953\"], [0.7777777777777778, \"#fb9f3a\"], [0.8888888888888888, \"#fdca26\"], [1.0, \"#f0f921\"]], \"type\": \"heatmapgl\"}], \"histogram\": [{\"marker\": {\"colorbar\": {\"outlinewidth\": 0, \"ticks\": \"\"}}, \"type\": \"histogram\"}], \"histogram2d\": [{\"colorbar\": {\"outlinewidth\": 0, \"ticks\": \"\"}, \"colorscale\": [[0.0, \"#0d0887\"], [0.1111111111111111, \"#46039f\"], [0.2222222222222222, \"#7201a8\"], [0.3333333333333333, \"#9c179e\"], [0.4444444444444444, \"#bd3786\"], [0.5555555555555556, \"#d8576b\"], [0.6666666666666666, \"#ed7953\"], [0.7777777777777778, \"#fb9f3a\"], [0.8888888888888888, \"#fdca26\"], [1.0, \"#f0f921\"]], \"type\": \"histogram2d\"}], \"histogram2dcontour\": [{\"colorbar\": {\"outlinewidth\": 0, \"ticks\": \"\"}, \"colorscale\": [[0.0, \"#0d0887\"], [0.1111111111111111, \"#46039f\"], [0.2222222222222222, \"#7201a8\"], [0.3333333333333333, \"#9c179e\"], [0.4444444444444444, \"#bd3786\"], [0.5555555555555556, \"#d8576b\"], [0.6666666666666666, \"#ed7953\"], [0.7777777777777778, \"#fb9f3a\"], [0.8888888888888888, \"#fdca26\"], [1.0, \"#f0f921\"]], \"type\": \"histogram2dcontour\"}], \"mesh3d\": [{\"colorbar\": {\"outlinewidth\": 0, \"ticks\": \"\"}, \"type\": \"mesh3d\"}], \"parcoords\": [{\"line\": {\"colorbar\": {\"outlinewidth\": 0, \"ticks\": \"\"}}, \"type\": \"parcoords\"}], \"scatter\": [{\"marker\": {\"colorbar\": {\"outlinewidth\": 0, \"ticks\": \"\"}}, \"type\": \"scatter\"}], \"scatter3d\": [{\"line\": {\"colorbar\": {\"outlinewidth\": 0, \"ticks\": \"\"}}, \"marker\": {\"colorbar\": {\"outlinewidth\": 0, \"ticks\": \"\"}}, \"type\": \"scatter3d\"}], \"scattercarpet\": [{\"marker\": {\"colorbar\": {\"outlinewidth\": 0, \"ticks\": \"\"}}, \"type\": \"scattercarpet\"}], \"scattergeo\": [{\"marker\": {\"colorbar\": {\"outlinewidth\": 0, \"ticks\": \"\"}}, \"type\": \"scattergeo\"}], \"scattergl\": [{\"marker\": {\"colorbar\": {\"outlinewidth\": 0, \"ticks\": \"\"}}, \"type\": \"scattergl\"}], \"scattermapbox\": [{\"marker\": {\"colorbar\": {\"outlinewidth\": 0, \"ticks\": \"\"}}, \"type\": \"scattermapbox\"}], \"scatterpolar\": [{\"marker\": {\"colorbar\": {\"outlinewidth\": 0, \"ticks\": \"\"}}, \"type\": \"scatterpolar\"}], \"scatterpolargl\": [{\"marker\": {\"colorbar\": {\"outlinewidth\": 0, \"ticks\": \"\"}}, \"type\": \"scatterpolargl\"}], \"scatterternary\": [{\"marker\": {\"colorbar\": {\"outlinewidth\": 0, \"ticks\": \"\"}}, \"type\": \"scatterternary\"}], \"surface\": [{\"colorbar\": {\"outlinewidth\": 0, \"ticks\": \"\"}, \"colorscale\": [[0.0, \"#0d0887\"], [0.1111111111111111, \"#46039f\"], [0.2222222222222222, \"#7201a8\"], [0.3333333333333333, \"#9c179e\"], [0.4444444444444444, \"#bd3786\"], [0.5555555555555556, \"#d8576b\"], [0.6666666666666666, \"#ed7953\"], [0.7777777777777778, \"#fb9f3a\"], [0.8888888888888888, \"#fdca26\"], [1.0, \"#f0f921\"]], \"type\": \"surface\"}], \"table\": [{\"cells\": {\"fill\": {\"color\": \"#EBF0F8\"}, \"line\": {\"color\": \"white\"}}, \"header\": {\"fill\": {\"color\": \"#C8D4E3\"}, \"line\": {\"color\": \"white\"}}, \"type\": \"table\"}]}, \"layout\": {\"annotationdefaults\": {\"arrowcolor\": \"#2a3f5f\", \"arrowhead\": 0, \"arrowwidth\": 1}, \"colorscale\": {\"diverging\": [[0, \"#8e0152\"], [0.1, \"#c51b7d\"], [0.2, \"#de77ae\"], [0.3, \"#f1b6da\"], [0.4, \"#fde0ef\"], [0.5, \"#f7f7f7\"], [0.6, \"#e6f5d0\"], [0.7, \"#b8e186\"], [0.8, \"#7fbc41\"], [0.9, \"#4d9221\"], [1, \"#276419\"]], \"sequential\": [[0.0, \"#0d0887\"], [0.1111111111111111, \"#46039f\"], [0.2222222222222222, \"#7201a8\"], [0.3333333333333333, \"#9c179e\"], [0.4444444444444444, \"#bd3786\"], [0.5555555555555556, \"#d8576b\"], [0.6666666666666666, \"#ed7953\"], [0.7777777777777778, \"#fb9f3a\"], [0.8888888888888888, \"#fdca26\"], [1.0, \"#f0f921\"]], \"sequentialminus\": [[0.0, \"#0d0887\"], [0.1111111111111111, \"#46039f\"], [0.2222222222222222, \"#7201a8\"], [0.3333333333333333, \"#9c179e\"], [0.4444444444444444, \"#bd3786\"], [0.5555555555555556, \"#d8576b\"], [0.6666666666666666, \"#ed7953\"], [0.7777777777777778, \"#fb9f3a\"], [0.8888888888888888, \"#fdca26\"], [1.0, \"#f0f921\"]]}, \"colorway\": [\"#636efa\", \"#EF553B\", \"#00cc96\", \"#ab63fa\", \"#FFA15A\", \"#19d3f3\", \"#FF6692\", \"#B6E880\", \"#FF97FF\", \"#FECB52\"], \"font\": {\"color\": \"#2a3f5f\"}, \"geo\": {\"bgcolor\": \"white\", \"lakecolor\": \"white\", \"landcolor\": \"#E5ECF6\", \"showlakes\": true, \"showland\": true, \"subunitcolor\": \"white\"}, \"hoverlabel\": {\"align\": \"left\"}, \"hovermode\": \"closest\", \"mapbox\": {\"style\": \"light\"}, \"paper_bgcolor\": \"white\", \"plot_bgcolor\": \"#E5ECF6\", \"polar\": {\"angularaxis\": {\"gridcolor\": \"white\", \"linecolor\": \"white\", \"ticks\": \"\"}, \"bgcolor\": \"#E5ECF6\", \"radialaxis\": {\"gridcolor\": \"white\", \"linecolor\": \"white\", \"ticks\": \"\"}}, \"scene\": {\"xaxis\": {\"backgroundcolor\": \"#E5ECF6\", \"gridcolor\": \"white\", \"gridwidth\": 2, \"linecolor\": \"white\", \"showbackground\": true, \"ticks\": \"\", \"zerolinecolor\": \"white\"}, \"yaxis\": {\"backgroundcolor\": \"#E5ECF6\", \"gridcolor\": \"white\", \"gridwidth\": 2, \"linecolor\": \"white\", \"showbackground\": true, \"ticks\": \"\", \"zerolinecolor\": \"white\"}, \"zaxis\": {\"backgroundcolor\": \"#E5ECF6\", \"gridcolor\": \"white\", \"gridwidth\": 2, \"linecolor\": \"white\", \"showbackground\": true, \"ticks\": \"\", \"zerolinecolor\": \"white\"}}, \"shapedefaults\": {\"line\": {\"color\": \"#2a3f5f\"}}, \"ternary\": {\"aaxis\": {\"gridcolor\": \"white\", \"linecolor\": \"white\", \"ticks\": \"\"}, \"baxis\": {\"gridcolor\": \"white\", \"linecolor\": \"white\", \"ticks\": \"\"}, \"bgcolor\": \"#E5ECF6\", \"caxis\": {\"gridcolor\": \"white\", \"linecolor\": \"white\", \"ticks\": \"\"}}, \"title\": {\"x\": 0.05}, \"xaxis\": {\"automargin\": true, \"gridcolor\": \"white\", \"linecolor\": \"white\", \"ticks\": \"\", \"zerolinecolor\": \"white\", \"zerolinewidth\": 2}, \"yaxis\": {\"automargin\": true, \"gridcolor\": \"white\", \"linecolor\": \"white\", \"ticks\": \"\", \"zerolinecolor\": \"white\", \"zerolinewidth\": 2}}}, \"title\": {\"text\": \"Most Popular Posters/Commenters on r/NYU\"}, \"xaxis\": {\"title\": {\"text\": \"Users\"}}, \"yaxis\": {\"title\": {\"text\": \"Total Karmas\"}}},\n",
       "                        {\"responsive\": true}\n",
       "                    ).then(function(){\n",
       "                            \n",
       "var gd = document.getElementById('2f5d9fc0-738e-4ddf-b9a3-39911ff1c6ef');\n",
       "var x = new MutationObserver(function (mutations, observer) {{\n",
       "        var display = window.getComputedStyle(gd).display;\n",
       "        if (!display || display === 'none') {{\n",
       "            console.log([gd, 'removed!']);\n",
       "            Plotly.purge(gd);\n",
       "            observer.disconnect();\n",
       "        }}\n",
       "}});\n",
       "\n",
       "// Listen for the removal of the full notebook cells\n",
       "var notebookContainer = gd.closest('#notebook-container');\n",
       "if (notebookContainer) {{\n",
       "    x.observe(notebookContainer, {childList: true});\n",
       "}}\n",
       "\n",
       "// Listen for the clearing of the current output cell\n",
       "var outputEl = gd.closest('.output');\n",
       "if (outputEl) {{\n",
       "    x.observe(outputEl, {childList: true});\n",
       "}}\n",
       "\n",
       "                        })\n",
       "                };\n",
       "                });\n",
       "            </script>\n",
       "        </div>"
      ]
     },
     "metadata": {},
     "output_type": "display_data"
    }
   ],
   "source": [
    "top_users_50 = sorted(scores, key = get_value, reverse = True)[:50]\n",
    "fig = go.Figure()\n",
    "for i, user in enumerate(top_users_50) :\n",
    "    # add a new bar to the graph\n",
    "    fig.add_trace(go.Bar(\n",
    "        x=[user],\n",
    "        y=[scores[user]],\n",
    "        name= user,\n",
    "        marker_color='darkviolet'\n",
    "    ))\n",
    "\n",
    "    \n",
    "# plot the graph\n",
    "fig.update_layout(yaxis_title=\"Total Karmas\", xaxis_title=\"Users\", title=\"Most Popular Posters/Commenters on r/NYU\")\n",
    "fig.show()"
   ]
  },
  {
   "cell_type": "code",
   "execution_count": 98,
   "metadata": {},
   "outputs": [
    {
     "name": "stdout",
     "output_type": "stream",
     "text": [
      "Number: 1\n",
      "Post Title: \"To the NYU students on the overnight from Nairobi to JFK: you were a fucking embarrassment and disgrace.\"\n",
      "Author: KenyaAirwaysAnon\n",
      "Score: 448\n",
      "Posted on: 2019-03-24 09:15:59\n",
      "URL: https://www.reddit.com/r/nyu/comments/b4w826/to_the_nyu_students_on_the_overnight_from_nairobi/\n",
      "---------------------------------------------\n",
      "Number: 2\n",
      "Post Title: \"Congrats class of 2019!!!\"\n",
      "Author: cxavier\n",
      "Score: 219\n",
      "Posted on: 2019-05-22 15:10:36\n",
      "URL: https://www.reddit.com/r/nyu/comments/brst4i/congrats_class_of_2019/\n",
      "---------------------------------------------\n",
      "Number: 3\n",
      "Post Title: \"Got banned for posting this earlier\"\n",
      "Author: imsh9381\n",
      "Score: 207\n",
      "Posted on: 2019-10-16 11:27:02\n",
      "URL: https://www.reddit.com/r/nyu/comments/diqv3g/got_banned_for_posting_this_earlier/\n",
      "---------------------------------------------\n",
      "Number: 4\n",
      "Post Title: \"Congrats NYU 2018! Here's a picture I took of the Empire State Building lit up in violet last night.\"\n",
      "Author: skier\n",
      "Score: 196\n",
      "Posted on: 2018-05-16 22:09:59\n",
      "URL: https://www.reddit.com/r/nyu/comments/8k0klj/congrats_nyu_2018_heres_a_picture_i_took_of_the/\n",
      "---------------------------------------------\n",
      "Number: 5\n",
      "Post Title: \"I finally graduated, so here's my favorite bathrooms at NYU:\"\n",
      "Author: arctic_moss\n",
      "Score: 191\n",
      "Posted on: 2019-05-25 16:50:38\n",
      "URL: https://www.reddit.com/r/nyu/comments/bszfyg/i_finally_graduated_so_heres_my_favorite/\n",
      "---------------------------------------------\n",
      "Number: 6\n",
      "Post Title: \"Lettuce Club?\"\n",
      "Author: unqualifiedking\n",
      "Score: 178\n",
      "Posted on: 2019-10-22 19:12:19\n",
      "URL: https://www.reddit.com/r/nyu/comments/dlqah3/lettuce_club/\n",
      "---------------------------------------------\n",
      "Number: 7\n",
      "Post Title: \"“Give us your AirPods or I will hurt you.”\"\n",
      "Author: isguje\n",
      "Score: 146\n",
      "Posted on: 2019-12-16 18:44:38\n",
      "URL: https://www.reddit.com/r/nyu/comments/ebncc7/give_us_your_airpods_or_i_will_hurt_you/\n",
      "---------------------------------------------\n",
      "Number: 8\n",
      "Post Title: \"\"I guess paying 70k a year for my bachelors degree really paid off\"\"\n",
      "Author: sivvd\n",
      "Score: 146\n",
      "Posted on: 2019-05-13 17:34:02\n",
      "URL: https://www.reddit.com/r/nyu/comments/bo9lpg/i_guess_paying_70k_a_year_for_my_bachelors_degree/\n",
      "---------------------------------------------\n",
      "Number: 9\n",
      "Post Title: \"Dear Anonymous NYU Student who found my violin,\"\n",
      "Author: InterstellarBlue\n",
      "Score: 139\n",
      "Posted on: 2018-05-07 15:56:14\n",
      "URL: https://www.reddit.com/r/nyu/comments/8hqfx1/dear_anonymous_nyu_student_who_found_my_violin/\n",
      "---------------------------------------------\n",
      "Number: 10\n",
      "Post Title: \"The State of this Subreddit: A Discussion\"\n",
      "Author: ahhhhhhhhhthrowaway\n",
      "Score: 139\n",
      "Posted on: 2019-12-22 21:02:23\n",
      "URL: https://www.reddit.com/r/nyu/comments/eedw0q/the_state_of_this_subreddit_a_discussion/\n",
      "---------------------------------------------\n"
     ]
    }
   ],
   "source": [
    "#Top 10 post with the highest reddit karma\n",
    "top_posts = posts.sort_values(['score'], ascending = False).head(10)\n",
    "standing = 1\n",
    "for index, row in top_posts.iterrows():\n",
    "    print('Number: ' + str(standing))\n",
    "    print('Post Title: \\\"' + row['title'] + '\\\"')\n",
    "    print('Author: ' + row['name'])\n",
    "    print('Score: ' + str(row['score']))\n",
    "    date_posted = time.strftime('%Y-%m-%d %H:%M:%S', time.localtime(row['created_utc']))\n",
    "    print('Posted on: ' + date_posted )\n",
    "    print('URL: https://www.reddit.com' + row['permalink'])\n",
    "    print('---------------------------------------------')\n",
    "    standing += 1"
   ]
  },
  {
   "cell_type": "code",
   "execution_count": 118,
   "metadata": {},
   "outputs": [],
   "source": [
    "#Finding the parent posts\n",
    "def find_parent(comment_id):\n",
    "    comment_id = comment_id.split('_')[1]\n",
    "    parent_url = 'Not Found'\n",
    "    while comment_id in comments['id']:\n",
    "        for index, row in comments.iterrows():\n",
    "            if(item == row['id']):\n",
    "                comment_id = row['id']\n",
    "                \n",
    "    for index, row in posts.iterrows():\n",
    "        if row['id'] == comment_id:\n",
    "            parent_url = row['url']\n",
    "    return parent_url"
   ]
  },
  {
   "cell_type": "code",
   "execution_count": 123,
   "metadata": {},
   "outputs": [],
   "source": [
    "#Function to find the top 10 best/worst comments in NYU subreddit\n",
    "def find_mojo(best):\n",
    "    order = None\n",
    "    if best is True:\n",
    "        order = False\n",
    "    else:\n",
    "        order = True\n",
    "    \n",
    "    bottom_comments = comments.sort_values(['score'], ascending = order).head(10)\n",
    "    standing = 1\n",
    "    for index, row in bottom_comments.iterrows():\n",
    "        print('Number: ', str(standing))\n",
    "        print('Comment: \\\"', row['content'], '\\\"')\n",
    "        print('Posted By: ', row['name'])\n",
    "        print('Score: ', str(row['score']))\n",
    "        date_posted = time.strftime('%Y-%m-%d %H:%M:%S', time.localtime(row['created_utc']))\n",
    "        print('Posted on: ' + date_posted)\n",
    "        print('Parent post: ', find_parent(row['comment_id']))\n",
    "        print('------------------------------------------')\n",
    "        standing += 1"
   ]
  },
  {
   "cell_type": "code",
   "execution_count": 124,
   "metadata": {},
   "outputs": [
    {
     "name": "stdout",
     "output_type": "stream",
     "text": [
      "Number:  1\n",
      "Comment: \" Fuckin Stern kids  \"\n",
      "Posted By:  tricksta616\n",
      "Score:  136\n",
      "Posted on: 2019-03-24 09:23:00\n",
      "Parent post:  https://www.reddit.com/r/nyu/comments/b4w826/to_the_nyu_students_on_the_overnight_from_nairobi/\n",
      "------------------------------------------\n",
      "Number:  2\n",
      "Comment: \" Gonna gently suggest that it’s saying things and acting like this that make it hard to make friends:\n",
      "\n",
      "https://www.reddit.com/r/nyu/comments/e1uhdq/does_anyone_here_dislike_some_international/f8tr573/\n",
      "\n",
      "Your [other posts](https://www.reddit.com/user/ilscilsc) calling people morons, retarded, bastards, trash, etc don’t endear you either. \n",
      "\n",
      "Look, it’s clear you got some issues, so I’m somewhat sympathetic, but maybe being nicer to people and not being so quick to insult folks would help you make better connections. \"\n",
      "Posted By:  sokpuppet1\n",
      "Score:  109\n",
      "Posted on: 2019-11-27 07:56:46\n",
      "Parent post:  https://www.reddit.com/r/nyu/comments/e2de47/dont_want_to_spend_another_thanksgiving_alone_rant/\n",
      "------------------------------------------\n",
      "Number:  3\n",
      "Comment: \" being in nyc should be the main reason you come here, living here when you're young, struggling to make ends meet in your shitty LES/Harlem/Crown Heights apartment, it's almost a right of passage. And you make friendships that are really important and last, and become part of the fabric of new york. It's really freaking hard to build a network and get to intimately know the city when you're working 10-12 hours a day, 5 days a week. It's when you have nothing to your name and large blocks of unregulated time that you can experience the underground scene in Bushwick, sneak into subway tunnels, tag the Williamsburg Bridge, go gallery hopping in Chelsea, and get tunnel vision at crazy ecstasy fueled parties in the East village. It's only when you are young, malleable, and open to discover yourself that you spend all day smoking weed in central park with your friends, walk the entirety of the MET, and find yourself in some billionaire's daughter's loft in Tribeca. And only when you are struggling, lonely, and confused in New York, will you be waiting for the L at 4am in Union Square, exhausted after a month long bender in the library, find that you had it in you to be a stoic, to mature at twice the rate of your high school friends.\n",
      "\n",
      "I see so many grads come to the city clutching offer letters, ready to become New Yorkers. I sit in a office with many of them, yelping the \"hip\" restaurants in Midtown, going shopping in Soho, and hanging out in Meatpacking with their overpriced boutique dresses and blazers draped over them. But honestly, with boyfriends/girlfriends, careers, student loans, and responsibilities, the only real scene left open to you in New York, is the consumerist culture. \n",
      "\n",
      "NYU sucked for me often, I was depressed, constantly anxious, and really had to work my ass off. But also it was an amazing time, I have had a life time of experiences in what seems like 4 very long (and short) years, and it's made me who I am. Do I regret going to NYU? Sure, I have often, but mostly for reasons that would have only made me more comfortable. \n",
      "\n",
      "And most importantly of all, I know that at the end of the day, none of my colleagues will ever know the city, like I know this city, and most NYU student will tell you, NYU is ok, but I love this city.  \"\n",
      "Posted By:  minitree\n",
      "Score:  104\n",
      "Posted on: 2012-10-11 00:00:46\n",
      "Parent post:  Not Found\n",
      "------------------------------------------\n",
      "Number:  4\n",
      "Comment: \" This is one of those things that if you go, you'll look back in a year and think \"wow, can't believe I was worried about that\". \"\n",
      "Posted By:  Conpen\n",
      "Score:  100\n",
      "Posted on: 2018-09-22 17:49:18\n",
      "Parent post:  https://www.reddit.com/r/nyu/comments/9i373q/is_it_hard_to_find_straight_guys_at_nyu/\n",
      "------------------------------------------\n",
      "Number:  5\n",
      "Comment: \" You will, don't worry. \"\n",
      "Posted By:  blu3flannel\n",
      "Score:  100\n",
      "Posted on: 2019-03-24 10:21:26\n",
      "Parent post:  Not Found\n",
      "------------------------------------------\n",
      "Number:  6\n",
      "Comment: \" fuck off.\n",
      "\n",
      "i created an account just to tell you that. because your comment is transparent and false and cliche. only sheltered suburbanites who call the city the \"big apple\" would seriously believe this (no offense hatzel). nyu is a great college i've heard. not without its problems, but like all college experiences it will surely be a transformative time in your life. go if you want to.\n",
      "\n",
      "but look, the city is huge, old, and diverse. watching wide-eyed nyu tools like yourself go on about how 'uhmayyyzing' it is to live the city life is like watching foreigners comment on life in america after visiting disney land.\n",
      "\n",
      "the fact that this is making its way towards the front page makes me want to jump off a bridge (and no, not 'the williamsburg bridge' or 'the manhattan bridge' because only in gossip girl do people name drop well-known nyc landmarks as frequently as you). \"\n",
      "Posted By:  dikembemutombo\n",
      "Score:  98\n",
      "Posted on: 2012-10-12 00:05:43\n",
      "Parent post:  Not Found\n",
      "------------------------------------------\n",
      "Number:  7\n",
      "Comment: \" OP lowkey brainstorming for his Why NYU Essay \"\n",
      "Posted By:  yuko_3502\n",
      "Score:  98\n",
      "Posted on: 2019-12-29 05:44:09\n",
      "Parent post:  https://www.reddit.com/r/nyu/comments/eh4d8b/why_did_you_choose_nyu/\n",
      "------------------------------------------\n",
      "Number:  8\n",
      "Comment: \" No they just send u 300k of debt - it’s much better \"\n",
      "Posted By:  benjayyy\n",
      "Score:  97\n",
      "Posted on: 2019-05-24 17:12:51\n",
      "Parent post:  https://www.reddit.com/r/nyu/comments/bsmab5/does_nyu_send_a_t_shirt_or_anything_when_you_get/\n",
      "------------------------------------------\n",
      "Number:  9\n",
      "Comment: \" I remember when I was at NYU around 2012 I tried out a politics club but every meeting, whether it was the planned topic or not, turned into Israel vs. Palestine. So I stopped going.\n",
      "\n",
      "We have a lot of Jewish students, a lot of foreign students, and a lot of very liberal students who (in my opinion as a lefty myself) have justifiable anger but often take it out in the wrong fashion, or resort to attacking people and not ideas.\n",
      "\n",
      "A good example is that I was at NYU during Occupy Wall Street. Of course NYU students were organizing...and I went to meet some and see if I could help. They went on about ending capitalism, ending inheritance, ending basically everything and bringing about some kind of planned economy. These are not even popular ideas in leftists circles yet along the voting public.\n",
      "\n",
      "Then they went off and fought with the police at City Hall, just because they could. Young, full of feelings and opinions, and wanting to challenge authority. Who can blame them. Nonetheless, I walked away from that too because I don't agree with such radicalism and more important, I don't think it was politically feasible (especially at that time). I wanted real, tangible goals like campaign finance reform as the #1 and even the only issue, but everyone came in with their grievances until it spun out of control.\n",
      "\n",
      "It's frustrating. I know students mean well. I know they want to make a change in the world. I only hope that in time (like in the nearly 10 years since I've been out of school) folks will moderate, become more reasonable and more willing to listen and not just yell/fight/rebel.\n",
      "\n",
      "Left wingers are like herding cats. They are wildly diverse and agree on little. Right-wingers are hierarchical, almost military in how they organize. There is a leader or leaders, not a drum circle or a census-based democratic assembly. This is why they get things done with smaller numbers - they stay on point.\n",
      "\n",
      "Just some observations from an old graduate with a Politics degree. \"\n",
      "Posted By:  None\n",
      "Score:  80\n",
      "Posted on: 2019-03-16 14:56:36\n",
      "Parent post:  https://twitter.com/girlsreallyrule/status/1106752139404075010\n",
      "------------------------------------------\n",
      "Number:  10\n",
      "Comment: \" As an alum (BS ‘02) I want to thank you current students for being smarter than me and making my degree just a little bit more prestigious. \"\n",
      "Posted By:  Rdxenti\n",
      "Score:  79\n",
      "Posted on: 2019-09-09 13:48:46\n",
      "Parent post:  https://www.usnews.com/best-colleges/nyu-2785\n",
      "------------------------------------------\n"
     ]
    }
   ],
   "source": [
    "find_mojo(True)"
   ]
  },
  {
   "cell_type": "code",
   "execution_count": 126,
   "metadata": {
    "scrolled": true
   },
   "outputs": [
    {
     "name": "stdout",
     "output_type": "stream",
     "text": [
      "Number:  1\n",
      "Comment: \" happy 😃 9/11 😽 you sexy 😼 sluts 😍 today 📆 is the day 🤙 the twins 👯 got aborted 🤰 share 👐 with 10 🔟 patriots 🎩 🇺🇸 for another ➿ abortion ✈ 🏙 and be 🐝 a true 💯 american 🦅 do NOT 🚫 share 👐 and you 👈 WILL 😮 become 😩 an infidel 👳 \"\n",
      "Posted By:  Boy_314\n",
      "Score:  -51\n",
      "Posted on: 2018-09-11 11:15:41\n",
      "Parent post:  https://www.reddit.com/r/nyu/comments/9ey8pq/weirdbad_roommate_stories/\n",
      "------------------------------------------\n",
      "Number:  2\n",
      "Comment: \" Lmao he's gay and she's a lesbian. I can't believe any of this. An older gay person will know if they like the other sex or not, she's like at least 60. He's a dumbass. If she wasn't a proud and out lesbian for decades I might have believed him \"\n",
      "Posted By:  zinko101\n",
      "Score:  -34\n",
      "Posted on: 2018-08-15 12:32:57\n",
      "Parent post:  http://gothamist.com/2018/08/14/female_nyu_professor_suspended.php\n",
      "------------------------------------------\n",
      "Number:  3\n",
      "Comment: \" im tryna transfer into wharton or sloan or harvard or yale or stanford or columbia after a year nfs...a man can dream... \"\n",
      "Posted By:  ShredderZX\n",
      "Score:  -32\n",
      "Posted on: 2019-03-05 20:31:41\n",
      "Parent post:  https://www.reddit.com/r/nyu/comments/axs3jd/transfer_student_here_i_feel_like_im_actually/\n",
      "------------------------------------------\n",
      "Number:  4\n",
      "Comment: \" What a load of bs. Hes barely a NYU student, he goes to Tandon. \n",
      "\n",
      "\n",
      "Maybe that type of shit happens at Tandon where they have god-knows what type of down-syndrome students screaming like babies. \"\n",
      "Posted By:  watchpom\n",
      "Score:  -29\n",
      "Posted on: 2016-04-07 16:36:46\n",
      "Parent post:  http://www.salon.com/2016/04/04/nyu_student_on_fox_friends_pleads_for_donald_trump_to_save_him_from_campus_liberals/\n",
      "------------------------------------------\n",
      "Number:  5\n",
      "Comment: \" > hi every1 im new!!!!!!! holds up spork my name is katy but u can call me t3h PeNgU1N oF d00m!!!!!!!! lol…as u can see im very random!!!! thats why i came here, 2 meet random ppl like me _… im 13 years old (im mature 4 my age tho!!) i like 2 watch invader zim w/ my girlfreind (im bi if u dont like it deal w/it) its our favorite tv show!!! bcuz its SOOOO random!!!! shes random 2 of course but i want 2 meet more random ppl =) like they say the more the merrier!!!! lol…neways i hope 2 make alot of freinds here so give me lots of commentses!!!!\n",
      "DOOOOOMMMM!!!!!!!!!!!!!!!! <--- me bein random again _^ hehe…toodles!!!!! \"\n",
      "Posted By:  onedialectic\n",
      "Score:  -29\n",
      "Posted on: 2016-05-12 18:53:01\n",
      "Parent post:  https://www.reddit.com/r/nyu/comments/4j1k53/nyus_on_hold_music/\n",
      "------------------------------------------\n",
      "Number:  6\n",
      "Comment: \" no pay but super easy and quick, esposure is promotion of social media or business or anything, how often would be as much as you can, student needed in order to swipe in certain buildings because i go to a different school \"\n",
      "Posted By:  andidiong1739\n",
      "Score:  -25\n",
      "Posted on: 2018-12-10 10:48:12\n",
      "Parent post:  Not Found\n",
      "------------------------------------------\n",
      "Number:  7\n",
      "Comment: \" Nerd Alert \"\n",
      "Posted By:  sokpuppet1\n",
      "Score:  -21\n",
      "Posted on: 2015-01-27 14:26:41\n",
      "Parent post:  https://www.reddit.com/r/nyu/comments/2tv5gk/anyone_at_nyu_play_dd/\n",
      "------------------------------------------\n",
      "Number:  8\n",
      "Comment: \" [deleted] \"\n",
      "Posted By:  None\n",
      "Score:  -21\n",
      "Posted on: 2014-09-13 19:48:10\n",
      "Parent post:  Not Found\n",
      "------------------------------------------\n",
      "Number:  9\n",
      "Comment: \" The indian chief paid us a visit. What an honor! \"\n",
      "Posted By:  Demosama\n",
      "Score:  -21\n",
      "Posted on: 2019-09-16 23:19:23\n",
      "Parent post:  https://i.redd.it/by2r21c9m1n31.jpg\n",
      "------------------------------------------\n",
      "Number:  10\n",
      "Comment: \" Lmaooo \"\n",
      "Posted By:  _T1lt3d_\n",
      "Score:  -21\n",
      "Posted on: 2019-09-16 23:50:46\n",
      "Parent post:  Not Found\n",
      "------------------------------------------\n"
     ]
    }
   ],
   "source": [
    "find_mojo(False)            "
   ]
  },
  {
   "cell_type": "code",
   "execution_count": 102,
   "metadata": {},
   "outputs": [
    {
     "name": "stdout",
     "output_type": "stream",
     "text": [
      "Number: 1\n",
      "Post Title: \"No NYU love?\"\n",
      "Author: no_pun_intendid\n",
      "Score: 5\n",
      "Posted on: 2010-11-28 12:23:51\n",
      "URL: https://www.reddit.com/r/nyu/comments/ecwp1/no_nyu_love/\n",
      "---------------------------------------------\n",
      "Number: 2\n",
      "Post Title: \"Are most of you rich?\"\n",
      "Author: YouBestBeTrollin\n",
      "Score: 1\n",
      "Posted on: 2010-11-30 19:36:54\n",
      "URL: https://www.reddit.com/r/nyu/comments/ee7am/are_most_of_you_rich/\n",
      "---------------------------------------------\n",
      "Number: 3\n",
      "Post Title: \"So, I go to Stevens in Hoboken...\"\n",
      "Author: TODizzle91\n",
      "Score: 4\n",
      "Posted on: 2010-12-04 20:20:34\n",
      "URL: https://www.reddit.com/r/nyu/comments/egcla/so_i_go_to_stevens_in_hoboken/\n",
      "---------------------------------------------\n",
      "Number: 4\n",
      "Post Title: \"Procrastination from Finals!\"\n",
      "Author: sallyNYU\n",
      "Score: 4\n",
      "Posted on: 2010-12-09 18:53:37\n",
      "URL: https://www.reddit.com/r/nyu/comments/ej8a1/procrastination_from_finals/\n",
      "---------------------------------------------\n",
      "Number: 5\n",
      "Post Title: \"Are you a Flash programmer or do you know a Flash programmer who would like to team up with an artist and make some awesome games? \"\n",
      "Author: Hellapeno\n",
      "Score: 2\n",
      "Posted on: 2010-12-19 20:33:35\n",
      "URL: https://www.reddit.com/r/nyu/comments/eojaf/are_you_a_flash_programmer_or_do_you_know_a_flash/\n",
      "---------------------------------------------\n",
      "Number: 6\n",
      "Post Title: \"So I have looked around The Princeton Review, CollegeBoard, Student Reviews etc.But what do you really think about NYU?\"\n",
      "Author: SirFrags\n",
      "Score: 5\n",
      "Posted on: 2011-01-16 08:05:15\n",
      "URL: https://www.reddit.com/r/nyu/comments/f394n/so_i_have_looked_around_the_princeton_review/\n",
      "---------------------------------------------\n",
      "Number: 7\n",
      "Post Title: \"Hey NYU journalism students: what's it going to take to get into the joint journalism MA programs at your school? \"\n",
      "Author: hannybar\n",
      "Score: 1\n",
      "Posted on: 2011-02-10 19:57:18\n",
      "URL: https://www.reddit.com/r/nyu/comments/fj4zd/hey_nyu_journalism_students_whats_it_going_to/\n",
      "---------------------------------------------\n",
      "Number: 8\n",
      "Post Title: \"Anyone know what happened to Yummy House?\"\n",
      "Author: howie549\n",
      "Score: 1\n",
      "Posted on: 2011-02-11 20:09:19\n",
      "URL: https://www.reddit.com/r/nyu/comments/fjthl/anyone_know_what_happened_to_yummy_house/\n",
      "---------------------------------------------\n",
      "Number: 9\n",
      "Post Title: \"\"NYU, what's up!\" - James Franco at tonight's Oscars.\"\n",
      "Author: CatboyMac\n",
      "Score: 0\n",
      "Posted on: 2011-02-27 22:17:46\n",
      "URL: https://www.reddit.com/r/nyu/comments/fu1s7/nyu_whats_up_james_franco_at_tonights_oscars/\n",
      "---------------------------------------------\n",
      "Number: 10\n",
      "Post Title: \"\"NYU, WHAT UP.\" -James Franco (who else fist-pumped to this during the Oscars?)\"\n",
      "Author: Drantis\n",
      "Score: 1\n",
      "Posted on: 2011-02-28 17:07:23\n",
      "URL: https://www.reddit.com/r/nyu/comments/fuliq/nyu_what_up_james_franco_who_else_fistpumped_to/\n",
      "---------------------------------------------\n",
      "\n",
      "First post created: 1 year and 24 days after the subreddit was created\n"
     ]
    }
   ],
   "source": [
    "#First 10 post on NYU subreddit\n",
    "first_posts = posts.sort_values(['created_utc'], ascending = [True]).head(10)\n",
    "standing = 1\n",
    "for index, row in first_posts.iterrows():\n",
    "    print('Number: ' + str(standing))\n",
    "    print('Post Title: \\\"' + row['title'] + '\\\"')\n",
    "    print('Author: ' + row['name'])\n",
    "    print('Score: ' + str(row['score']))\n",
    "    date_posted = time.strftime('%Y-%m-%d %H:%M:%S', time.localtime(row['created_utc']))\n",
    "    print('Posted on: ' + date_posted)\n",
    "    print('URL: https://www.reddit.com' + row['permalink'])\n",
    "    print('---------------------------------------------')\n",
    "    standing += 1\n",
    "\n",
    "    \n",
    "first_post = posts.sort_values(['created_utc'], ascending = True).head(1)\n",
    "form = '%Y-%m-%d'\n",
    "fpost_date = time.strftime('%Y-%m-%d', time.localtime(first_post['created_utc']))\n",
    "fpost_date = datetime.strptime(fpost_date, form)\n",
    "created_date = datetime(2009,11,4)\n",
    "diff = fpost_date - created_date\n",
    "diff = diff.days\n",
    "curr = diff\n",
    "year = 0\n",
    "while(curr > 0):\n",
    "    curr = diff - 365\n",
    "    if curr >= 0:\n",
    "        year += 1\n",
    "        diff = curr\n",
    "print('\\nFirst post created: ' + str(year) + ' year and ' + str(diff) + ' days after the subreddit was created')    \n",
    "#It is interesting to note that while r/NYU itself was created on November 4th, 2009, \n",
    "#it appears that the first post was not made until November 28th, 2010.\n",
    "# which is"
   ]
  },
  {
   "cell_type": "code",
   "execution_count": null,
   "metadata": {},
   "outputs": [],
   "source": []
  },
  {
   "cell_type": "code",
   "execution_count": null,
   "metadata": {},
   "outputs": [],
   "source": []
  }
 ],
 "metadata": {
  "kernelspec": {
   "display_name": "Python 3",
   "language": "python",
   "name": "python3"
  },
  "language_info": {
   "codemirror_mode": {
    "name": "ipython",
    "version": 3
   },
   "file_extension": ".py",
   "mimetype": "text/x-python",
   "name": "python",
   "nbconvert_exporter": "python",
   "pygments_lexer": "ipython3",
   "version": "3.7.4"
  }
 },
 "nbformat": 4,
 "nbformat_minor": 2
}
