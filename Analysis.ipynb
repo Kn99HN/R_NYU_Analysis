{
 "cells": [
  {
   "cell_type": "code",
   "execution_count": 1,
   "metadata": {},
   "outputs": [
    {
     "ename": "NameError",
     "evalue": "name 'create_connection' is not defined",
     "output_type": "error",
     "traceback": [
      "\u001b[0;31m---------------------------------------------------------------------------\u001b[0m",
      "\u001b[0;31mNameError\u001b[0m                                 Traceback (most recent call last)",
      "\u001b[0;32m<ipython-input-1-cf3a428f0cc0>\u001b[0m in \u001b[0;36m<module>\u001b[0;34m\u001b[0m\n\u001b[1;32m      2\u001b[0m \u001b[0;34m\u001b[0m\u001b[0m\n\u001b[1;32m      3\u001b[0m \u001b[0;31m#Create the connection\u001b[0m\u001b[0;34m\u001b[0m\u001b[0;34m\u001b[0m\u001b[0;34m\u001b[0m\u001b[0m\n\u001b[0;32m----> 4\u001b[0;31m \u001b[0mconn\u001b[0m \u001b[0;34m=\u001b[0m \u001b[0mcreate_connection\u001b[0m\u001b[0;34m(\u001b[0m\u001b[0;34m'NYU.db'\u001b[0m\u001b[0;34m)\u001b[0m\u001b[0;34m\u001b[0m\u001b[0;34m\u001b[0m\u001b[0m\n\u001b[0m\u001b[1;32m      5\u001b[0m \u001b[0;34m\u001b[0m\u001b[0m\n\u001b[1;32m      6\u001b[0m \u001b[0;31m#Getting the data into pandas dataframe\u001b[0m\u001b[0;34m\u001b[0m\u001b[0;34m\u001b[0m\u001b[0;34m\u001b[0m\u001b[0m\n",
      "\u001b[0;31mNameError\u001b[0m: name 'create_connection' is not defined"
     ]
    }
   ],
   "source": [
    "#Setting up the data for the analysis\n",
    "\n",
    "#Create the connection\n",
    "conn = create_connection('NYU.db')\n",
    "\n",
    "#Getting the data into pandas dataframe\n",
    "posts = pd.read_sql(\"SELECT * FROM post\", conn)\n",
    "users = pd.read_sql(\"SELECT * FROM user\", conn)\n",
    "comments = pd.read_sql(\"SELECT * FROM comment\", conn)\n",
    "subreddits = pd.read_sql(\"SELECT * FROM subreddit\", conn)\n",
    "\n",
    "#Closing connection\n",
    "conn.close()"
   ]
  },
  {
   "cell_type": "code",
   "execution_count": null,
   "metadata": {},
   "outputs": [],
   "source": [
    "#Removing bots\n",
    "bots = subreddits[subreddits['name'].str.endswith('bot')]\n",
    "bot_names = set(bots['name'].tolist())\n",
    "\n",
    "for name in bot_names:\n",
    "    users = users[users['name'] != name]\n",
    "    posts = posts[posts['name'] != name]\n",
    "    subreddits = subreddits[subreddits['name'] != name]\n",
    "    comments = comments[comments['name'] != name]"
   ]
  },
  {
   "cell_type": "code",
   "execution_count": null,
   "metadata": {},
   "outputs": [],
   "source": [
    "###### QUESTIONS TO INVESTIGATE ######\n",
    "\n",
    "'''\n",
    "1, First post\n",
    "2, Post with most upvotes/downvotes\n",
    "3, Comments with most upvotes/downvotes\n",
    "4, Does NYU subreddit fills with application questions?\n",
    "5, How often does users posts/comments in NYU subreddit\n",
    "6, where else do users posts -> most popular subreddits\n",
    "7, Type of students in NYU subreddit\n",
    "8, money related posts questions\n",
    "9, Most common word (using TFDIF), try to remove filler\n",
    "10, Does NYU subreddit represent NYU in general\n",
    "11, post activity over the year\n",
    "12, Frequency of posts/comments in the subreddit\n",
    "'''"
   ]
  }
 ],
 "metadata": {
  "kernelspec": {
   "display_name": "Python 3",
   "language": "python",
   "name": "python3"
  },
  "language_info": {
   "codemirror_mode": {
    "name": "ipython",
    "version": 3
   },
   "file_extension": ".py",
   "mimetype": "text/x-python",
   "name": "python",
   "nbconvert_exporter": "python",
   "pygments_lexer": "ipython3",
   "version": "3.7.4"
  }
 },
 "nbformat": 4,
 "nbformat_minor": 2
}
